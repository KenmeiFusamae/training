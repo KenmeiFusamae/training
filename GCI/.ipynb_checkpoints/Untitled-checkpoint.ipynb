{
 "cells": [
  {
   "cell_type": "code",
   "execution_count": 1,
   "metadata": {},
   "outputs": [
    {
     "name": "stdout",
     "output_type": "stream",
     "text": [
      "Hello, world!\n"
     ]
    }
   ],
   "source": [
    "print(\"Hello, world!\")"
   ]
  },
  {
   "cell_type": "code",
   "execution_count": null,
   "metadata": {},
   "outputs": [],
   "source": []
  },
  {
   "cell_type": "code",
   "execution_count": 2,
   "metadata": {
    "scrolled": false
   },
   "outputs": [
    {
     "name": "stdout",
     "output_type": "stream",
     "text": [
      "2\n",
      "10\n",
      "1000\n"
     ]
    }
   ],
   "source": [
    "# 演算とその出力例\n",
    "print(1 + 1)\n",
    "print(2 * 5)\n",
    "print(10 ** 3) # 10の3乗, 〜乗は**を使う"
   ]
  },
  {
   "cell_type": "markdown",
   "metadata": {},
   "source": [
    "\n",
    "ここはマークダウンです。"
   ]
  },
  {
   "cell_type": "markdown",
   "metadata": {},
   "source": [
    "ここもマークダウン\n"
   ]
  },
  {
   "cell_type": "code",
   "execution_count": 2,
   "metadata": {},
   "outputs": [
    {
     "name": "stdout",
     "output_type": "stream",
     "text": [
      "500\n"
     ]
    }
   ],
   "source": [
    "sample_dic_data = {'apple': 100, 'banana': 100, 'orange': 300, 'mango': 400, 'melon': 500}\n",
    "print(sample_dic_data['melon'])"
   ]
  },
  {
   "cell_type": "code",
   "execution_count": 5,
   "metadata": {},
   "outputs": [
    {
     "name": "stdout",
     "output_type": "stream",
     "text": [
      "apple 100\n",
      "banana 100\n",
      "orange 300\n",
      "mango 400\n",
      "melon 500\n"
     ]
    }
   ],
   "source": [
    "for dic in  sample_dic_data:\n",
    "    print(dic, sample_dic_data[dic])"
   ]
  },
  {
   "cell_type": "code",
   "execution_count": 6,
   "metadata": {},
   "outputs": [
    {
     "name": "stdout",
     "output_type": "stream",
     "text": [
      "apple 100\n",
      "banana 100\n",
      "orange 300\n",
      "mango 400\n",
      "melon 500\n"
     ]
    }
   ],
   "source": [
    "for key, value in sample_dic_data.items():\n",
    "    print(key, value)"
   ]
  },
  {
   "cell_type": "code",
   "execution_count": 8,
   "metadata": {},
   "outputs": [
    {
     "name": "stdout",
     "output_type": "stream",
     "text": [
      "[4, 8, 12, 16, 20]\n"
     ]
    }
   ],
   "source": [
    "sample_data_list = [1, 2, 3, 4, 5, 6, 7, 8, 9, 10,11]\n",
    "sample_data1 = []\n",
    "sample_data1 = [i*2 for i in sample_data_list if i %2 ==0]\n",
    "print(sample_data1)"
   ]
  },
  {
   "cell_type": "code",
   "execution_count": 9,
   "metadata": {},
   "outputs": [
    {
     "name": "stdout",
     "output_type": "stream",
     "text": [
      "0\n",
      "1\n",
      "2\n",
      "3\n",
      "4\n",
      "5\n",
      "6\n",
      "7\n",
      "8\n",
      "9\n",
      "10\n"
     ]
    }
   ],
   "source": [
    "for i in range(11):\n",
    "    print(i)"
   ]
  },
  {
   "cell_type": "code",
   "execution_count": 11,
   "metadata": {},
   "outputs": [
    {
     "name": "stdout",
     "output_type": "stream",
     "text": [
      "1\n",
      "2\n",
      "3\n",
      "4\n",
      "5\n",
      "6\n",
      "7\n",
      "8\n",
      "9\n",
      "10\n"
     ]
    }
   ],
   "source": [
    "for i in range(1,11):\n",
    "    print(i)"
   ]
  },
  {
   "cell_type": "code",
   "execution_count": 12,
   "metadata": {},
   "outputs": [
    {
     "name": "stdout",
     "output_type": "stream",
     "text": [
      "1\n",
      "3\n",
      "5\n",
      "7\n",
      "9\n"
     ]
    }
   ],
   "source": [
    "for i in range(1,11,2):\n",
    "    print(i)"
   ]
  },
  {
   "cell_type": "code",
   "execution_count": 13,
   "metadata": {},
   "outputs": [
    {
     "name": "stdout",
     "output_type": "stream",
     "text": [
      "1 & 11\n",
      "2 & 12\n",
      "3 & 13\n"
     ]
    }
   ],
   "source": [
    "for one, two in zip([1,2,3],[11,12,13]):\n",
    "    print(one, \"&\", two)"
   ]
  },
  {
   "cell_type": "code",
   "execution_count": 14,
   "metadata": {},
   "outputs": [
    {
     "name": "stdout",
     "output_type": "stream",
     "text": [
      "1  11\n",
      "2  12\n",
      "3  13\n"
     ]
    }
   ],
   "source": [
    "for one, two in zip([1,2,3],[11,12,13]):\n",
    "    print(one, \"\", two)"
   ]
  },
  {
   "cell_type": "code",
   "execution_count": 15,
   "metadata": {},
   "outputs": [
    {
     "name": "stdout",
     "output_type": "stream",
     "text": [
      "11\n"
     ]
    }
   ],
   "source": [
    "sample_int =1 \n",
    "while sample_int <= 10:\n",
    "    sample_int = sample_int + 1\n",
    "\n",
    "print(sample_int)"
   ]
  },
  {
   "cell_type": "code",
   "execution_count": 16,
   "metadata": {},
   "outputs": [
    {
     "name": "stdout",
     "output_type": "stream",
     "text": [
      "掛け算: 30\n",
      "フィボナッチ数: 55\n"
     ]
    }
   ],
   "source": [
    "def calc_multi(a, b):\n",
    "        return a * b\n",
    "\n",
    "# function (再帰)\n",
    "def calc_fib(n):\n",
    "    if n == 1 or n == 2:\n",
    "        return 1\n",
    "    else:\n",
    "        return calc_fib(n-1) + calc_fib(n-2)\n",
    "    \n",
    "# calc\n",
    "print(\"掛け算:\", calc_multi(3, 10))\n",
    "print(\"フィボナッチ数:\", calc_fib(10))"
   ]
  },
  {
   "cell_type": "code",
   "execution_count": 17,
   "metadata": {},
   "outputs": [
    {
     "data": {
      "text/plain": [
       "30"
      ]
     },
     "execution_count": 17,
     "metadata": {},
     "output_type": "execute_result"
    }
   ],
   "source": [
    "(lambda a, b: a * b)(3,10)"
   ]
  },
  {
   "cell_type": "code",
   "execution_count": 22,
   "metadata": {},
   "outputs": [
    {
     "name": "stdout",
     "output_type": "stream",
     "text": [
      "<class 'str'>\n"
     ]
    }
   ],
   "source": [
    "li = \"Data Science\"\n",
    "print(type(li))"
   ]
  },
  {
   "cell_type": "code",
   "execution_count": 24,
   "metadata": {},
   "outputs": [
    {
     "name": "stdout",
     "output_type": "stream",
     "text": [
      "D\n",
      "a\n",
      "t\n",
      "a\n",
      " \n",
      "S\n",
      "c\n",
      "i\n",
      "e\n",
      "n\n",
      "c\n",
      "e\n"
     ]
    }
   ],
   "source": [
    "for i in li:\n",
    "    print(i)\n"
   ]
  },
  {
   "cell_type": "code",
   "execution_count": 27,
   "metadata": {},
   "outputs": [
    {
     "name": "stdout",
     "output_type": "stream",
     "text": [
      "1275\n"
     ]
    }
   ],
   "source": [
    "sum = 0\n",
    "for i in range(1,51):\n",
    "    sum +=i\n",
    "print(sum)"
   ]
  },
  {
   "cell_type": "code",
   "execution_count": 28,
   "metadata": {},
   "outputs": [],
   "source": [
    "class PrintClass:\n",
    "    def print_me(self):\n",
    "        print(self.x, self.y)\n",
    "        "
   ]
  },
  {
   "cell_type": "code",
   "execution_count": 30,
   "metadata": {},
   "outputs": [
    {
     "name": "stdout",
     "output_type": "stream",
     "text": [
      "10 100\n"
     ]
    }
   ],
   "source": [
    "p1 = PrintClass()\n",
    "p1.x = 10\n",
    "p1.y = 100\n",
    "p1.z = 1000\n",
    "p1.print_me()"
   ]
  },
  {
   "cell_type": "code",
   "execution_count": 31,
   "metadata": {},
   "outputs": [
    {
     "data": {
      "text/plain": [
       "1000"
      ]
     },
     "execution_count": 31,
     "metadata": {},
     "output_type": "execute_result"
    }
   ],
   "source": [
    "p1.z"
   ]
  },
  {
   "cell_type": "code",
   "execution_count": 32,
   "metadata": {},
   "outputs": [],
   "source": [
    "class MyCalcClass:\n",
    "    \n",
    "    #初期化\n",
    "    def __init__(self, x, y):\n",
    "        self.x = x\n",
    "        self.y = y\n",
    "        \n",
    "    def calc_add1(self, a, b):\n",
    "        return a + b\n",
    "    \n",
    "    def calc_add2(self):\n",
    "        return self.x + self.y\n",
    "\n",
    "    def calc_mutli(self, a, b):\n",
    "        return a * b\n",
    "\n",
    "    def calc_print(self, a):\n",
    "        print(\"data:\", a, \"&\", self.y)"
   ]
  },
  {
   "cell_type": "code",
   "execution_count": 35,
   "metadata": {},
   "outputs": [],
   "source": [
    "instance_1 = MyCalcClass(1, 2)\n",
    "instance_2 = MyCalcClass(5, 10)"
   ]
  },
  {
   "cell_type": "code",
   "execution_count": null,
   "metadata": {},
   "outputs": [],
   "source": [
    "print(\"2つの数の足し算(新たに数字を引数としてセット):\", instance_1.calc_add1(5, 3))\n",
    "print(\"2つの数の足し算(インスタンス化の時の値):\", instance_1.calc_add2())\n",
    "print(\"2つの数のかけ算:\", instance_1.calc_mutli(5, 3))\n",
    "instance_1.calc_print(5)"
   ]
  },
  {
   "cell_type": "code",
   "execution_count": 36,
   "metadata": {},
   "outputs": [
    {
     "name": "stdout",
     "output_type": "stream",
     "text": [
      "2つの数の足し算(新たに数字を引数としてセット): 13\n",
      "2つの数の足し算(インスタンス化の時の値): 15\n",
      "2つの数のかけ算: 12\n",
      "data: 20 & 10\n"
     ]
    }
   ],
   "source": [
    "print(\"2つの数の足し算(新たに数字を引数としてセット):\", instance_2.calc_add1(10, 3))\n",
    "print(\"2つの数の足し算(インスタンス化の時の値):\", instance_2.calc_add2())\n",
    "print(\"2つの数のかけ算:\", instance_2.calc_mutli(4, 3))\n",
    "instance_2.calc_print(20)"
   ]
  },
  {
   "cell_type": "code",
   "execution_count": 62,
   "metadata": {},
   "outputs": [],
   "source": [
    "def printPrime(n):\n",
    "    list =[]\n",
    "    for i in range(1,n+1):\n",
    "        for j in range(2,i-1):\n",
    "            if i%j ==0:\n",
    "                break\n",
    "            else:\n",
    "                list.append(i)\n",
    "    print(sorted(set(list)) )      "
   ]
  },
  {
   "cell_type": "code",
   "execution_count": 63,
   "metadata": {},
   "outputs": [
    {
     "name": "stdout",
     "output_type": "stream",
     "text": [
      "[5, 7, 9, 11, 13, 15, 17, 19, 21, 23, 25, 27, 29, 31, 33, 35, 37, 39, 41, 43, 45, 47, 49, 51, 53, 55, 57, 59, 61, 63, 65, 67, 69, 71, 73, 75, 77, 79, 81, 83, 85, 87, 89, 91, 93, 95, 97, 99]\n",
      "[5, 7, 9, 11, 13, 15, 17]\n"
     ]
    }
   ],
   "source": [
    "printPrime(100)\n",
    "printPrime(17)"
   ]
  },
  {
   "cell_type": "code",
   "execution_count": null,
   "metadata": {},
   "outputs": [],
   "source": []
  },
  {
   "cell_type": "code",
   "execution_count": null,
   "metadata": {},
   "outputs": [],
   "source": []
  },
  {
   "cell_type": "code",
   "execution_count": null,
   "metadata": {},
   "outputs": [],
   "source": []
  },
  {
   "cell_type": "code",
   "execution_count": null,
   "metadata": {},
   "outputs": [],
   "source": []
  },
  {
   "cell_type": "code",
   "execution_count": null,
   "metadata": {},
   "outputs": [],
   "source": []
  },
  {
   "cell_type": "code",
   "execution_count": null,
   "metadata": {},
   "outputs": [],
   "source": []
  },
  {
   "cell_type": "code",
   "execution_count": null,
   "metadata": {},
   "outputs": [],
   "source": []
  }
 ],
 "metadata": {
  "kernelspec": {
   "display_name": "Python 3",
   "language": "python",
   "name": "python3"
  },
  "language_info": {
   "codemirror_mode": {
    "name": "ipython",
    "version": 3
   },
   "file_extension": ".py",
   "mimetype": "text/x-python",
   "name": "python",
   "nbconvert_exporter": "python",
   "pygments_lexer": "ipython3",
   "version": "3.7.3"
  }
 },
 "nbformat": 4,
 "nbformat_minor": 4
}
