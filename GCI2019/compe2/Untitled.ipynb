{
 "cells": [
  {
   "cell_type": "code",
   "execution_count": 84,
   "metadata": {},
   "outputs": [],
   "source": [
    "import numpy as np\n",
    "import pandas as pd\n",
    "from pandas import DataFrame, Series\n",
    "import matplotlib.pyplot as plt\n",
    "import seaborn as sns\n",
    "\n",
    "from sklearn.model_selection import train_test_split, GridSearchCV\n",
    "from sklearn.ensemble import RandomForestClassifier\n",
    "from sklearn.linear_model import LogisticRegression\n",
    "from sklearn.neural_network import MLPClassifier\n",
    "from sklearn.metrics import mean_squared_error\n",
    "\n",
    "import warnings\n",
    "warnings.filterwarnings('ignore')\n",
    "\n",
    "\n",
    "# LightGBM\n",
    "import lightgbm as lgb"
   ]
  },
  {
   "cell_type": "code",
   "execution_count": 85,
   "metadata": {},
   "outputs": [],
   "source": [
    "path = \"./data/\"\n"
   ]
  },
  {
   "cell_type": "code",
   "execution_count": 103,
   "metadata": {},
   "outputs": [
    {
     "name": "stdout",
     "output_type": "stream",
     "text": [
      "訓練データのデータ数は1280、変数は12種類です。\n",
      "テストデータのデータ数は319、変数は11種類です\n"
     ]
    }
   ],
   "source": [
    "df = pd.read_csv(path + 'train.csv')\n",
    "X_test = pd.read_csv(path + 'test.csv')\n",
    "print('訓練データのデータ数は{}、変数は{}種類です。'.format(df.shape[0], df.shape[1]))\n",
    "print('テストデータのデータ数は{}、変数は{}種類です'.format(X_test.shape[0], X_test.shape[1]))"
   ]
  },
  {
   "cell_type": "code",
   "execution_count": 104,
   "metadata": {},
   "outputs": [
    {
     "data": {
      "text/plain": [
       "fixed acidity             0\n",
       "volatile acidity          0\n",
       "citric acid               0\n",
       "residual sugar            0\n",
       "chlorides                 0\n",
       "free sulfur dioxide       0\n",
       "total sulfur dioxide      0\n",
       "density                 122\n",
       "pH                      137\n",
       "sulphates                 0\n",
       "alcohol                   0\n",
       "quality                   0\n",
       "dtype: int64"
      ]
     },
     "execution_count": 104,
     "metadata": {},
     "output_type": "execute_result"
    }
   ],
   "source": [
    "df.isnull().sum() "
   ]
  },
  {
   "cell_type": "code",
   "execution_count": 105,
   "metadata": {},
   "outputs": [
    {
     "data": {
      "text/plain": [
       "fixed acidity            0\n",
       "volatile acidity         0\n",
       "citric acid              0\n",
       "residual sugar           0\n",
       "chlorides                0\n",
       "free sulfur dioxide      0\n",
       "total sulfur dioxide     0\n",
       "density                 25\n",
       "pH                      24\n",
       "sulphates                0\n",
       "alcohol                  0\n",
       "dtype: int64"
      ]
     },
     "execution_count": 105,
     "metadata": {},
     "output_type": "execute_result"
    }
   ],
   "source": [
    "X_test.isnull().sum()"
   ]
  },
  {
   "cell_type": "code",
   "execution_count": 107,
   "metadata": {},
   "outputs": [
    {
     "data": {
      "text/plain": [
       "fixed acidity           0\n",
       "volatile acidity        0\n",
       "citric acid             0\n",
       "residual sugar          0\n",
       "chlorides               0\n",
       "free sulfur dioxide     0\n",
       "total sulfur dioxide    0\n",
       "density                 0\n",
       "pH                      0\n",
       "sulphates               0\n",
       "alcohol                 0\n",
       "quality                 0\n",
       "dtype: int64"
      ]
     },
     "execution_count": 107,
     "metadata": {},
     "output_type": "execute_result"
    }
   ],
   "source": [
    "#fill nan  mean\n",
    "den = pd.concat([df['density'], X_test['density']])\n",
    "ph = pd.concat([df['pH'], X_test['pH']])\n",
    "\n",
    "df['density'].fillna(den.mean(), inplace=True)\n",
    "X_test['density'].fillna(den.mean(), inplace=True)\n",
    "\n",
    "df['pH'].fillna(ph.mean(), inplace=True)\n",
    "X_test['pH'].fillna(ph.mean(), inplace=True)\n",
    "\n",
    "df.isnull().sum()"
   ]
  },
  {
   "cell_type": "code",
   "execution_count": 108,
   "metadata": {},
   "outputs": [],
   "source": [
    "df['quality'] = df['quality'].astype(int)"
   ]
  },
  {
   "cell_type": "code",
   "execution_count": 109,
   "metadata": {},
   "outputs": [
    {
     "data": {
      "text/html": [
       "<div>\n",
       "<style scoped>\n",
       "    .dataframe tbody tr th:only-of-type {\n",
       "        vertical-align: middle;\n",
       "    }\n",
       "\n",
       "    .dataframe tbody tr th {\n",
       "        vertical-align: top;\n",
       "    }\n",
       "\n",
       "    .dataframe thead th {\n",
       "        text-align: right;\n",
       "    }\n",
       "</style>\n",
       "<table border=\"1\" class=\"dataframe\">\n",
       "  <thead>\n",
       "    <tr style=\"text-align: right;\">\n",
       "      <th></th>\n",
       "      <th>fixed acidity</th>\n",
       "      <th>volatile acidity</th>\n",
       "      <th>citric acid</th>\n",
       "      <th>residual sugar</th>\n",
       "      <th>chlorides</th>\n",
       "      <th>free sulfur dioxide</th>\n",
       "      <th>total sulfur dioxide</th>\n",
       "      <th>density</th>\n",
       "      <th>pH</th>\n",
       "      <th>sulphates</th>\n",
       "      <th>alcohol</th>\n",
       "      <th>quality</th>\n",
       "    </tr>\n",
       "  </thead>\n",
       "  <tbody>\n",
       "    <tr>\n",
       "      <td>0</td>\n",
       "      <td>9.8</td>\n",
       "      <td>0.63</td>\n",
       "      <td>0.24</td>\n",
       "      <td>2.4</td>\n",
       "      <td>0.078</td>\n",
       "      <td>6.1</td>\n",
       "      <td>32.6</td>\n",
       "      <td>0.9997</td>\n",
       "      <td>3.08</td>\n",
       "      <td>0.57</td>\n",
       "      <td>9.4</td>\n",
       "      <td>5</td>\n",
       "    </tr>\n",
       "    <tr>\n",
       "      <td>1</td>\n",
       "      <td>6.1</td>\n",
       "      <td>0.34</td>\n",
       "      <td>0.25</td>\n",
       "      <td>1.8</td>\n",
       "      <td>0.084</td>\n",
       "      <td>4.0</td>\n",
       "      <td>28.0</td>\n",
       "      <td>0.9941</td>\n",
       "      <td>3.36</td>\n",
       "      <td>0.44</td>\n",
       "      <td>10.2</td>\n",
       "      <td>4</td>\n",
       "    </tr>\n",
       "    <tr>\n",
       "      <td>2</td>\n",
       "      <td>7.1</td>\n",
       "      <td>0.43</td>\n",
       "      <td>0.17</td>\n",
       "      <td>1.8</td>\n",
       "      <td>0.083</td>\n",
       "      <td>27.2</td>\n",
       "      <td>51.3</td>\n",
       "      <td>0.9941</td>\n",
       "      <td>3.51</td>\n",
       "      <td>0.63</td>\n",
       "      <td>10.4</td>\n",
       "      <td>5</td>\n",
       "    </tr>\n",
       "    <tr>\n",
       "      <td>3</td>\n",
       "      <td>8.6</td>\n",
       "      <td>0.47</td>\n",
       "      <td>0.27</td>\n",
       "      <td>1.9</td>\n",
       "      <td>0.058</td>\n",
       "      <td>17.5</td>\n",
       "      <td>37.6</td>\n",
       "      <td>0.9907</td>\n",
       "      <td>3.16</td>\n",
       "      <td>0.85</td>\n",
       "      <td>11.1</td>\n",
       "      <td>6</td>\n",
       "    </tr>\n",
       "    <tr>\n",
       "      <td>4</td>\n",
       "      <td>6.9</td>\n",
       "      <td>0.41</td>\n",
       "      <td>0.30</td>\n",
       "      <td>8.9</td>\n",
       "      <td>0.084</td>\n",
       "      <td>25.9</td>\n",
       "      <td>45.4</td>\n",
       "      <td>0.9861</td>\n",
       "      <td>3.35</td>\n",
       "      <td>0.64</td>\n",
       "      <td>10.2</td>\n",
       "      <td>5</td>\n",
       "    </tr>\n",
       "    <tr>\n",
       "      <td>...</td>\n",
       "      <td>...</td>\n",
       "      <td>...</td>\n",
       "      <td>...</td>\n",
       "      <td>...</td>\n",
       "      <td>...</td>\n",
       "      <td>...</td>\n",
       "      <td>...</td>\n",
       "      <td>...</td>\n",
       "      <td>...</td>\n",
       "      <td>...</td>\n",
       "      <td>...</td>\n",
       "      <td>...</td>\n",
       "    </tr>\n",
       "    <tr>\n",
       "      <td>1275</td>\n",
       "      <td>7.6</td>\n",
       "      <td>0.54</td>\n",
       "      <td>0.21</td>\n",
       "      <td>2.2</td>\n",
       "      <td>0.071</td>\n",
       "      <td>7.1</td>\n",
       "      <td>28.1</td>\n",
       "      <td>1.0043</td>\n",
       "      <td>3.29</td>\n",
       "      <td>0.54</td>\n",
       "      <td>9.9</td>\n",
       "      <td>4</td>\n",
       "    </tr>\n",
       "    <tr>\n",
       "      <td>1276</td>\n",
       "      <td>7.1</td>\n",
       "      <td>0.65</td>\n",
       "      <td>0.00</td>\n",
       "      <td>3.9</td>\n",
       "      <td>0.086</td>\n",
       "      <td>17.0</td>\n",
       "      <td>44.7</td>\n",
       "      <td>1.0066</td>\n",
       "      <td>3.40</td>\n",
       "      <td>0.54</td>\n",
       "      <td>9.7</td>\n",
       "      <td>4</td>\n",
       "    </tr>\n",
       "    <tr>\n",
       "      <td>1277</td>\n",
       "      <td>9.4</td>\n",
       "      <td>0.34</td>\n",
       "      <td>0.37</td>\n",
       "      <td>2.2</td>\n",
       "      <td>0.074</td>\n",
       "      <td>5.1</td>\n",
       "      <td>12.9</td>\n",
       "      <td>0.9936</td>\n",
       "      <td>3.23</td>\n",
       "      <td>0.62</td>\n",
       "      <td>9.3</td>\n",
       "      <td>5</td>\n",
       "    </tr>\n",
       "    <tr>\n",
       "      <td>1278</td>\n",
       "      <td>9.6</td>\n",
       "      <td>0.73</td>\n",
       "      <td>0.10</td>\n",
       "      <td>2.1</td>\n",
       "      <td>0.080</td>\n",
       "      <td>6.0</td>\n",
       "      <td>30.6</td>\n",
       "      <td>1.0017</td>\n",
       "      <td>3.22</td>\n",
       "      <td>0.56</td>\n",
       "      <td>10.1</td>\n",
       "      <td>5</td>\n",
       "    </tr>\n",
       "    <tr>\n",
       "      <td>1279</td>\n",
       "      <td>10.6</td>\n",
       "      <td>0.68</td>\n",
       "      <td>0.22</td>\n",
       "      <td>2.7</td>\n",
       "      <td>0.107</td>\n",
       "      <td>16.9</td>\n",
       "      <td>34.4</td>\n",
       "      <td>1.0092</td>\n",
       "      <td>3.32</td>\n",
       "      <td>0.99</td>\n",
       "      <td>10.0</td>\n",
       "      <td>5</td>\n",
       "    </tr>\n",
       "  </tbody>\n",
       "</table>\n",
       "<p>1280 rows × 12 columns</p>\n",
       "</div>"
      ],
      "text/plain": [
       "      fixed acidity  volatile acidity  citric acid  residual sugar  chlorides  \\\n",
       "0               9.8              0.63         0.24             2.4      0.078   \n",
       "1               6.1              0.34         0.25             1.8      0.084   \n",
       "2               7.1              0.43         0.17             1.8      0.083   \n",
       "3               8.6              0.47         0.27             1.9      0.058   \n",
       "4               6.9              0.41         0.30             8.9      0.084   \n",
       "...             ...               ...          ...             ...        ...   \n",
       "1275            7.6              0.54         0.21             2.2      0.071   \n",
       "1276            7.1              0.65         0.00             3.9      0.086   \n",
       "1277            9.4              0.34         0.37             2.2      0.074   \n",
       "1278            9.6              0.73         0.10             2.1      0.080   \n",
       "1279           10.6              0.68         0.22             2.7      0.107   \n",
       "\n",
       "      free sulfur dioxide  total sulfur dioxide  density    pH  sulphates  \\\n",
       "0                     6.1                  32.6   0.9997  3.08       0.57   \n",
       "1                     4.0                  28.0   0.9941  3.36       0.44   \n",
       "2                    27.2                  51.3   0.9941  3.51       0.63   \n",
       "3                    17.5                  37.6   0.9907  3.16       0.85   \n",
       "4                    25.9                  45.4   0.9861  3.35       0.64   \n",
       "...                   ...                   ...      ...   ...        ...   \n",
       "1275                  7.1                  28.1   1.0043  3.29       0.54   \n",
       "1276                 17.0                  44.7   1.0066  3.40       0.54   \n",
       "1277                  5.1                  12.9   0.9936  3.23       0.62   \n",
       "1278                  6.0                  30.6   1.0017  3.22       0.56   \n",
       "1279                 16.9                  34.4   1.0092  3.32       0.99   \n",
       "\n",
       "      alcohol  quality  \n",
       "0         9.4        5  \n",
       "1        10.2        4  \n",
       "2        10.4        5  \n",
       "3        11.1        6  \n",
       "4        10.2        5  \n",
       "...       ...      ...  \n",
       "1275      9.9        4  \n",
       "1276      9.7        4  \n",
       "1277      9.3        5  \n",
       "1278     10.1        5  \n",
       "1279     10.0        5  \n",
       "\n",
       "[1280 rows x 12 columns]"
      ]
     },
     "execution_count": 109,
     "metadata": {},
     "output_type": "execute_result"
    }
   ],
   "source": [
    "df"
   ]
  },
  {
   "cell_type": "code",
   "execution_count": null,
   "metadata": {},
   "outputs": [],
   "source": []
  },
  {
   "cell_type": "code",
   "execution_count": 110,
   "metadata": {},
   "outputs": [],
   "source": [
    "x = df.drop(columns ='quality')\n",
    "y = df['quality']\n",
    "\n"
   ]
  },
  {
   "cell_type": "code",
   "execution_count": 111,
   "metadata": {},
   "outputs": [],
   "source": [
    "X_train, X_valid, y_train, y_valid = train_test_split(x, y, test_size=0.3, random_state=42)\n",
    "\n"
   ]
  },
  {
   "cell_type": "code",
   "execution_count": 112,
   "metadata": {},
   "outputs": [],
   "source": [
    "#ランダムフォレスト\n",
    "train_data = lgb.Dataset(X_train, label=y_train)\n",
    "eval_data = lgb.Dataset(X_valid, label=y_valid, reference= train_data)"
   ]
  },
  {
   "cell_type": "code",
   "execution_count": 128,
   "metadata": {},
   "outputs": [],
   "source": [
    "params = {\n",
    "    'task': 'train',\n",
    "    'boosting_type': 'gbdt',\n",
    "    'objective': 'regression',\n",
    "\n",
    "    \n",
    "}"
   ]
  },
  {
   "cell_type": "code",
   "execution_count": 129,
   "metadata": {},
   "outputs": [
    {
     "name": "stdout",
     "output_type": "stream",
     "text": [
      "[1]\tvalid_0's l2: 0.955993\n",
      "[2]\tvalid_0's l2: 0.918476\n",
      "[3]\tvalid_0's l2: 0.8886\n",
      "[4]\tvalid_0's l2: 0.864693\n",
      "[5]\tvalid_0's l2: 0.841784\n",
      "[6]\tvalid_0's l2: 0.821514\n",
      "[7]\tvalid_0's l2: 0.811737\n",
      "[8]\tvalid_0's l2: 0.800324\n",
      "[9]\tvalid_0's l2: 0.788784\n",
      "[10]\tvalid_0's l2: 0.779809\n",
      "[11]\tvalid_0's l2: 0.771094\n",
      "[12]\tvalid_0's l2: 0.768012\n",
      "[13]\tvalid_0's l2: 0.764462\n",
      "[14]\tvalid_0's l2: 0.763617\n",
      "[15]\tvalid_0's l2: 0.759421\n",
      "[16]\tvalid_0's l2: 0.758626\n",
      "[17]\tvalid_0's l2: 0.759845\n",
      "[18]\tvalid_0's l2: 0.759637\n",
      "[19]\tvalid_0's l2: 0.758106\n",
      "[20]\tvalid_0's l2: 0.758931\n",
      "[21]\tvalid_0's l2: 0.758407\n",
      "[22]\tvalid_0's l2: 0.760553\n",
      "[23]\tvalid_0's l2: 0.760383\n",
      "[24]\tvalid_0's l2: 0.762213\n",
      "[25]\tvalid_0's l2: 0.764654\n",
      "[26]\tvalid_0's l2: 0.766319\n",
      "[27]\tvalid_0's l2: 0.770207\n",
      "[28]\tvalid_0's l2: 0.770242\n",
      "[29]\tvalid_0's l2: 0.772717\n",
      "[30]\tvalid_0's l2: 0.775528\n",
      "[31]\tvalid_0's l2: 0.779241\n",
      "[32]\tvalid_0's l2: 0.777905\n",
      "[33]\tvalid_0's l2: 0.779332\n",
      "[34]\tvalid_0's l2: 0.781521\n",
      "[35]\tvalid_0's l2: 0.783864\n",
      "[36]\tvalid_0's l2: 0.784192\n",
      "[37]\tvalid_0's l2: 0.783616\n",
      "[38]\tvalid_0's l2: 0.784371\n",
      "[39]\tvalid_0's l2: 0.785573\n",
      "[40]\tvalid_0's l2: 0.785345\n",
      "[41]\tvalid_0's l2: 0.786442\n",
      "[42]\tvalid_0's l2: 0.784414\n",
      "[43]\tvalid_0's l2: 0.784902\n",
      "[44]\tvalid_0's l2: 0.787051\n",
      "[45]\tvalid_0's l2: 0.788021\n",
      "[46]\tvalid_0's l2: 0.788015\n",
      "[47]\tvalid_0's l2: 0.791654\n",
      "[48]\tvalid_0's l2: 0.79314\n",
      "[49]\tvalid_0's l2: 0.795352\n",
      "[50]\tvalid_0's l2: 0.798039\n",
      "[51]\tvalid_0's l2: 0.798888\n",
      "[52]\tvalid_0's l2: 0.798824\n",
      "[53]\tvalid_0's l2: 0.799986\n",
      "[54]\tvalid_0's l2: 0.802349\n",
      "[55]\tvalid_0's l2: 0.804865\n",
      "[56]\tvalid_0's l2: 0.804537\n",
      "[57]\tvalid_0's l2: 0.805156\n",
      "[58]\tvalid_0's l2: 0.806483\n",
      "[59]\tvalid_0's l2: 0.807912\n",
      "[60]\tvalid_0's l2: 0.809473\n",
      "[61]\tvalid_0's l2: 0.810306\n",
      "[62]\tvalid_0's l2: 0.812035\n",
      "[63]\tvalid_0's l2: 0.813293\n",
      "[64]\tvalid_0's l2: 0.813234\n",
      "[65]\tvalid_0's l2: 0.814847\n",
      "[66]\tvalid_0's l2: 0.814292\n",
      "[67]\tvalid_0's l2: 0.814506\n",
      "[68]\tvalid_0's l2: 0.815705\n",
      "[69]\tvalid_0's l2: 0.81695\n",
      "[70]\tvalid_0's l2: 0.818344\n",
      "[71]\tvalid_0's l2: 0.819371\n",
      "[72]\tvalid_0's l2: 0.819298\n",
      "[73]\tvalid_0's l2: 0.819939\n",
      "[74]\tvalid_0's l2: 0.821833\n",
      "[75]\tvalid_0's l2: 0.821928\n",
      "[76]\tvalid_0's l2: 0.823819\n",
      "[77]\tvalid_0's l2: 0.823025\n",
      "[78]\tvalid_0's l2: 0.824971\n",
      "[79]\tvalid_0's l2: 0.824966\n",
      "[80]\tvalid_0's l2: 0.825518\n",
      "[81]\tvalid_0's l2: 0.824356\n",
      "[82]\tvalid_0's l2: 0.822643\n",
      "[83]\tvalid_0's l2: 0.823693\n",
      "[84]\tvalid_0's l2: 0.823864\n",
      "[85]\tvalid_0's l2: 0.825286\n",
      "[86]\tvalid_0's l2: 0.823947\n",
      "[87]\tvalid_0's l2: 0.824713\n",
      "[88]\tvalid_0's l2: 0.826578\n",
      "[89]\tvalid_0's l2: 0.825203\n",
      "[90]\tvalid_0's l2: 0.82605\n",
      "[91]\tvalid_0's l2: 0.826362\n",
      "[92]\tvalid_0's l2: 0.825238\n",
      "[93]\tvalid_0's l2: 0.824506\n",
      "[94]\tvalid_0's l2: 0.824555\n",
      "[95]\tvalid_0's l2: 0.825923\n",
      "[96]\tvalid_0's l2: 0.826791\n",
      "[97]\tvalid_0's l2: 0.827115\n",
      "[98]\tvalid_0's l2: 0.826567\n",
      "[99]\tvalid_0's l2: 0.827675\n",
      "[100]\tvalid_0's l2: 0.827047\n"
     ]
    }
   ],
   "source": [
    "gbm = lgb.train(\n",
    "params,\n",
    "train_data,\n",
    "valid_sets=eval_data,\n",
    "num_boost_round=100,\n",
    "\n",
    ")\n"
   ]
  },
  {
   "cell_type": "code",
   "execution_count": 130,
   "metadata": {},
   "outputs": [],
   "source": [
    "preds = gbm.predict(X_valid)"
   ]
  },
  {
   "cell_type": "code",
   "execution_count": 131,
   "metadata": {},
   "outputs": [
    {
     "data": {
      "text/plain": [
       "0.8270471386754616"
      ]
     },
     "execution_count": 131,
     "metadata": {},
     "output_type": "execute_result"
    }
   ],
   "source": [
    "mean_squared_error(y_valid, preds)"
   ]
  },
  {
   "cell_type": "code",
   "execution_count": 118,
   "metadata": {},
   "outputs": [
    {
     "data": {
      "text/plain": [
       "0.828125"
      ]
     },
     "execution_count": 118,
     "metadata": {},
     "output_type": "execute_result"
    }
   ],
   "source": [
    "lr = LogisticRegression()\n",
    "lr.fit(X_train, y_train)\n",
    "lr_predict = lr.predict(X_valid)\n",
    "mean_squared_error(y_valid, lr_predict)"
   ]
  },
  {
   "cell_type": "code",
   "execution_count": 119,
   "metadata": {},
   "outputs": [],
   "source": [
    "lr_predict = lr.predict(X_test)\n"
   ]
  },
  {
   "cell_type": "code",
   "execution_count": 120,
   "metadata": {},
   "outputs": [
    {
     "data": {
      "text/plain": [
       "array([5, 5, 5, 6, 5, 5, 5, 5, 6, 5, 6, 5, 6, 6, 6, 5, 5, 6, 5, 6, 5, 5,\n",
       "       5, 5, 5, 5, 5, 5, 5, 6, 5, 5, 5, 6, 5, 5, 5, 6, 5, 5, 5, 6, 6, 5,\n",
       "       5, 5, 5, 5, 5, 6, 5, 6, 5, 5, 5, 5, 6, 5, 5, 5, 6, 5, 5, 5, 5, 6,\n",
       "       5, 5, 5, 5, 5, 5, 5, 6, 5, 6, 6, 5, 5, 5, 6, 5, 5, 4, 5, 5, 4, 6,\n",
       "       6, 5, 5, 5, 5, 5, 5, 5, 6, 5, 5, 5, 5, 6, 5, 5, 5, 6, 5, 6, 5, 5,\n",
       "       5, 5, 5, 5, 5, 5, 5, 5, 5, 5, 5, 6, 5, 5, 5, 5, 5, 5, 5, 6, 6, 5,\n",
       "       5, 5, 5, 6, 5, 5, 5, 5, 5, 5, 5, 5, 5, 5, 5, 6, 5, 5, 6, 5, 5, 4,\n",
       "       5, 5, 6, 6, 6, 5, 6, 6, 5, 5, 5, 5, 5, 6, 5, 6, 5, 6, 5, 5, 6, 5,\n",
       "       6, 5, 5, 5, 5, 6, 5, 6, 6, 5, 5, 5, 5, 5, 5, 6, 5, 6, 6, 5, 5, 5,\n",
       "       5, 5, 5, 5, 5, 6, 5, 4, 5, 5, 5, 6, 5, 5, 6, 5, 5, 5, 5, 5, 5, 6,\n",
       "       5, 5, 5, 4, 5, 5, 5, 5, 5, 5, 5, 5, 5, 6, 5, 6, 5, 4, 5, 6, 6, 5,\n",
       "       6, 5, 5, 6, 5, 5, 5, 4, 5, 5, 4, 5, 5, 5, 5, 5, 5, 4, 5, 5, 5, 5,\n",
       "       5, 5, 6, 5, 5, 6, 6, 6, 5, 6, 5, 5, 5, 5, 5, 5, 6, 6, 6, 5, 6, 4,\n",
       "       5, 6, 5, 5, 5, 5, 5, 5, 5, 5, 6, 5, 5, 5, 5, 5, 6, 5, 5, 5, 5, 6,\n",
       "       5, 5, 5, 6, 6, 6, 6, 4, 5, 5, 5])"
      ]
     },
     "execution_count": 120,
     "metadata": {},
     "output_type": "execute_result"
    }
   ],
   "source": [
    "lr_predict"
   ]
  },
  {
   "cell_type": "code",
   "execution_count": 121,
   "metadata": {},
   "outputs": [
    {
     "data": {
      "text/html": [
       "<div>\n",
       "<style scoped>\n",
       "    .dataframe tbody tr th:only-of-type {\n",
       "        vertical-align: middle;\n",
       "    }\n",
       "\n",
       "    .dataframe tbody tr th {\n",
       "        vertical-align: top;\n",
       "    }\n",
       "\n",
       "    .dataframe thead th {\n",
       "        text-align: right;\n",
       "    }\n",
       "</style>\n",
       "<table border=\"1\" class=\"dataframe\">\n",
       "  <thead>\n",
       "    <tr style=\"text-align: right;\">\n",
       "      <th></th>\n",
       "      <th>quality</th>\n",
       "    </tr>\n",
       "  </thead>\n",
       "  <tbody>\n",
       "    <tr>\n",
       "      <td>0</td>\n",
       "      <td>5.0</td>\n",
       "    </tr>\n",
       "    <tr>\n",
       "      <td>1</td>\n",
       "      <td>5.0</td>\n",
       "    </tr>\n",
       "    <tr>\n",
       "      <td>2</td>\n",
       "      <td>5.0</td>\n",
       "    </tr>\n",
       "    <tr>\n",
       "      <td>3</td>\n",
       "      <td>5.0</td>\n",
       "    </tr>\n",
       "    <tr>\n",
       "      <td>4</td>\n",
       "      <td>5.0</td>\n",
       "    </tr>\n",
       "    <tr>\n",
       "      <td>...</td>\n",
       "      <td>...</td>\n",
       "    </tr>\n",
       "    <tr>\n",
       "      <td>314</td>\n",
       "      <td>5.0</td>\n",
       "    </tr>\n",
       "    <tr>\n",
       "      <td>315</td>\n",
       "      <td>5.0</td>\n",
       "    </tr>\n",
       "    <tr>\n",
       "      <td>316</td>\n",
       "      <td>5.0</td>\n",
       "    </tr>\n",
       "    <tr>\n",
       "      <td>317</td>\n",
       "      <td>5.0</td>\n",
       "    </tr>\n",
       "    <tr>\n",
       "      <td>318</td>\n",
       "      <td>5.0</td>\n",
       "    </tr>\n",
       "  </tbody>\n",
       "</table>\n",
       "<p>319 rows × 1 columns</p>\n",
       "</div>"
      ],
      "text/plain": [
       "     quality\n",
       "0        5.0\n",
       "1        5.0\n",
       "2        5.0\n",
       "3        5.0\n",
       "4        5.0\n",
       "..       ...\n",
       "314      5.0\n",
       "315      5.0\n",
       "316      5.0\n",
       "317      5.0\n",
       "318      5.0\n",
       "\n",
       "[319 rows x 1 columns]"
      ]
     },
     "execution_count": 121,
     "metadata": {},
     "output_type": "execute_result"
    }
   ],
   "source": [
    "submission = pd.read_csv(path + 'submission.csv')\n",
    "submission"
   ]
  },
  {
   "cell_type": "code",
   "execution_count": 122,
   "metadata": {},
   "outputs": [
    {
     "data": {
      "text/html": [
       "<div>\n",
       "<style scoped>\n",
       "    .dataframe tbody tr th:only-of-type {\n",
       "        vertical-align: middle;\n",
       "    }\n",
       "\n",
       "    .dataframe tbody tr th {\n",
       "        vertical-align: top;\n",
       "    }\n",
       "\n",
       "    .dataframe thead th {\n",
       "        text-align: right;\n",
       "    }\n",
       "</style>\n",
       "<table border=\"1\" class=\"dataframe\">\n",
       "  <thead>\n",
       "    <tr style=\"text-align: right;\">\n",
       "      <th></th>\n",
       "      <th>quality</th>\n",
       "    </tr>\n",
       "  </thead>\n",
       "  <tbody>\n",
       "    <tr>\n",
       "      <td>0</td>\n",
       "      <td>5</td>\n",
       "    </tr>\n",
       "    <tr>\n",
       "      <td>1</td>\n",
       "      <td>5</td>\n",
       "    </tr>\n",
       "    <tr>\n",
       "      <td>2</td>\n",
       "      <td>5</td>\n",
       "    </tr>\n",
       "    <tr>\n",
       "      <td>3</td>\n",
       "      <td>6</td>\n",
       "    </tr>\n",
       "    <tr>\n",
       "      <td>4</td>\n",
       "      <td>5</td>\n",
       "    </tr>\n",
       "    <tr>\n",
       "      <td>...</td>\n",
       "      <td>...</td>\n",
       "    </tr>\n",
       "    <tr>\n",
       "      <td>314</td>\n",
       "      <td>6</td>\n",
       "    </tr>\n",
       "    <tr>\n",
       "      <td>315</td>\n",
       "      <td>4</td>\n",
       "    </tr>\n",
       "    <tr>\n",
       "      <td>316</td>\n",
       "      <td>5</td>\n",
       "    </tr>\n",
       "    <tr>\n",
       "      <td>317</td>\n",
       "      <td>5</td>\n",
       "    </tr>\n",
       "    <tr>\n",
       "      <td>318</td>\n",
       "      <td>5</td>\n",
       "    </tr>\n",
       "  </tbody>\n",
       "</table>\n",
       "<p>319 rows × 1 columns</p>\n",
       "</div>"
      ],
      "text/plain": [
       "     quality\n",
       "0          5\n",
       "1          5\n",
       "2          5\n",
       "3          6\n",
       "4          5\n",
       "..       ...\n",
       "314        6\n",
       "315        4\n",
       "316        5\n",
       "317        5\n",
       "318        5\n",
       "\n",
       "[319 rows x 1 columns]"
      ]
     },
     "execution_count": 122,
     "metadata": {},
     "output_type": "execute_result"
    }
   ],
   "source": [
    "submission['quality'] = lr_predict\n",
    "submission"
   ]
  },
  {
   "cell_type": "code",
   "execution_count": 123,
   "metadata": {},
   "outputs": [],
   "source": [
    "submission.to_csv('./data/submission.csv', index=False)"
   ]
  },
  {
   "cell_type": "code",
   "execution_count": null,
   "metadata": {},
   "outputs": [],
   "source": []
  }
 ],
 "metadata": {
  "kernelspec": {
   "display_name": "Python 3",
   "language": "python",
   "name": "python3"
  },
  "language_info": {
   "codemirror_mode": {
    "name": "ipython",
    "version": 3
   },
   "file_extension": ".py",
   "mimetype": "text/x-python",
   "name": "python",
   "nbconvert_exporter": "python",
   "pygments_lexer": "ipython3",
   "version": "3.7.4"
  }
 },
 "nbformat": 4,
 "nbformat_minor": 2
}
