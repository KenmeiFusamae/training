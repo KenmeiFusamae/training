{
 "cells": [
  {
   "cell_type": "markdown",
   "metadata": {
    "_uuid": "63ead0525bfccba8005636a9bbdf7009db3ef389"
   },
   "source": [
    "# PUBG: PyTorch"
   ]
  },
  {
   "cell_type": "code",
   "execution_count": 1,
   "metadata": {
    "_cell_guid": "b1076dfc-b9ad-4769-8c92-a6c4dae69d19",
    "_uuid": "8f2839f25d086af736a60e9eeb907d3b93b6e0e5"
   },
   "outputs": [
    {
     "name": "stdout",
     "output_type": "stream",
     "text": [
      "['test.csv', 'train.csv']\n"
     ]
    }
   ],
   "source": [
    "import numpy as np\n",
    "import pandas as pd\n",
    "\n",
    "import warnings\n",
    "warnings.simplefilter('ignore')\n",
    "\n",
    "from copy import deepcopy\n",
    "\n",
    "from sklearn.metrics import mean_absolute_error\n",
    "from sklearn.model_selection import KFold\n",
    "from sklearn.preprocessing import StandardScaler\n",
    "\n",
    "import gc, sys\n",
    "gc.enable()\n",
    "\n",
    "import os\n",
    "print(os.listdir(\"./input\"))"
   ]
  },
  {
   "cell_type": "markdown",
   "metadata": {
    "_uuid": "f0bffc9af1f00c088f80d27174b1a3206f748bcb"
   },
   "source": [
    "## Framework"
   ]
  },
  {
   "cell_type": "markdown",
   "metadata": {
    "_uuid": "9dab86d68fca059efa941bee23b5782d0816d2ad"
   },
   "source": [
    "### Common functions"
   ]
  },
  {
   "cell_type": "code",
   "execution_count": 2,
   "metadata": {
    "_cell_guid": "79c7e3d0-c299-4dcb-8224-4455121ee9b0",
    "_uuid": "d629ff2d2480ee46fbb7e2d37f6b5fab8052498a"
   },
   "outputs": [],
   "source": [
    "# Thanks to https://www.kaggle.com/gemartin/load-data-reduce-memory-usage\n",
    "\n",
    "def reduce_mem_usage(df):\n",
    "    \"\"\" iterate through all the columns of a dataframe and modify the data type\n",
    "        to reduce memory usage.        \n",
    "    \"\"\"\n",
    "    start_mem = df.memory_usage().sum() / 1024**2\n",
    "    print('Memory usage of dataframe is {:.2f} MB'.format(start_mem))\n",
    "    \n",
    "    for col in df.columns:\n",
    "        col_type = df[col].dtype\n",
    "        \n",
    "        if col_type != object:\n",
    "            c_min = df[col].min()\n",
    "            c_max = df[col].max()\n",
    "            if str(col_type)[:3] == 'int':\n",
    "                if c_min > np.iinfo(np.int8).min and c_max < np.iinfo(np.int8).max:\n",
    "                    df[col] = df[col].astype(np.int8)\n",
    "                elif c_min > np.iinfo(np.int16).min and c_max < np.iinfo(np.int16).max:\n",
    "                    df[col] = df[col].astype(np.int16)\n",
    "                elif c_min > np.iinfo(np.int32).min and c_max < np.iinfo(np.int32).max:\n",
    "                    df[col] = df[col].astype(np.int32)\n",
    "                elif c_min > np.iinfo(np.int64).min and c_max < np.iinfo(np.int64).max:\n",
    "                    df[col] = df[col].astype(np.int64)  \n",
    "            else:\n",
    "                if c_min > np.finfo(np.float16).min and c_max < np.finfo(np.float16).max:\n",
    "                    df[col] = df[col].astype(np.float16)\n",
    "                elif c_min > np.finfo(np.float32).min and c_max < np.finfo(np.float32).max:\n",
    "                    df[col] = df[col].astype(np.float32)\n",
    "                else:\n",
    "                    df[col] = df[col].astype(np.float64)\n",
    "#        else:\n",
    "#            df[col] = df[col].astype('category')\n",
    "\n",
    "    end_mem = df.memory_usage().sum() / 1024**2\n",
    "    print('Memory usage after optimization is: {:.2f} MB'.format(end_mem))\n",
    "    print('Decreased by {:.1f}%'.format(100 * (start_mem - end_mem) / start_mem))\n",
    "    \n",
    "    return df"
   ]
  },
  {
   "cell_type": "markdown",
   "metadata": {
    "_uuid": "405544b512bd3e3d02f40599342cfb4dcd27bbd3"
   },
   "source": [
    "### Data preparation"
   ]
  },
  {
   "cell_type": "code",
   "execution_count": 3,
   "metadata": {
    "_uuid": "3ab128856bd13b595315a4b5f8f3e07655c7c030"
   },
   "outputs": [],
   "source": [
    "def take_part_of_data(df, part):\n",
    "    \n",
    "    match_ids = df['matchId'].unique()\n",
    "    match_ids_part = np.random.choice(match_ids, int(part * len(match_ids)))\n",
    "    \n",
    "    df = df[df['matchId'].isin(match_ids_part)]\n",
    "    \n",
    "    del match_ids\n",
    "    del match_ids_part"
   ]
  },
  {
   "cell_type": "markdown",
   "metadata": {
    "_uuid": "0f0d4e4fbc5780116c5c220844d7641da175c858"
   },
   "source": [
    "### Feature engineering"
   ]
  },
  {
   "cell_type": "code",
   "execution_count": 4,
   "metadata": {
    "_uuid": "6547db0628265bc1b402ba7ed5563f8df0ce3382"
   },
   "outputs": [],
   "source": [
    "def add_new_features_1(df):\n",
    "    \n",
    "    # calculate total distance\n",
    "    df['totalDistance'] = df['rideDistance'] + df['walkDistance'] + df['swimDistance']\n",
    "    \n",
    "    # sum heals and boosts\n",
    "    df['healsAndBoosts'] = df['heals'] + df['boosts']\n",
    "    \n",
    "    # headshot rate\n",
    "    df['headshotKillsOverKills'] = df['headshotKills'] / df['kills']\n",
    "    df['headshotKillsOverKills'].fillna(0, inplace=True)\n",
    "    \n",
    "    # kill streake rate\n",
    "    df['killStreaksOverKills'] = df['killStreaks'] / df['kills']\n",
    "    df['killStreaksOverKills'].fillna(0, inplace=True)\n",
    "    \n",
    "    # kills and assists\n",
    "    df['killsAndAssists'] = df['kills'] + df['assists']\n",
    "    \n",
    "    # teamwork\n",
    "    df['assistsAndRevives'] = df['assists'] + df['revives']"
   ]
  },
  {
   "cell_type": "code",
   "execution_count": 5,
   "metadata": {
    "_uuid": "4c0d8350cd1f98447a7140627ea38043b2034143"
   },
   "outputs": [],
   "source": [
    "def add_new_features_2(df):\n",
    "    \n",
    "    # number of players joined\n",
    "    df['playersJoined'] = df.groupby('matchId')['matchId'].transform('count')\n",
    "    \n",
    "    # normalize features by number of players joined\n",
    "    df['killsAndAssistsOverPlayersJoined'] = df['killsAndAssists'] * ((100 - df['playersJoined']) / 100 + 1)\n",
    "    df['matchDurationOverPlayersJoined'] = df['matchDuration'] * ((100 - df['playersJoined']) / 100 + 1)\n",
    "    df['damageDealtOverPlayersJoined'] = df['damageDealt'] * ((100 - df['playersJoined']) / 100 + 1)"
   ]
  },
  {
   "cell_type": "code",
   "execution_count": 6,
   "metadata": {
    "_uuid": "ad8b5633b6713f7e7354299cc21d5aea7f904751"
   },
   "outputs": [],
   "source": [
    "def add_new_features_3(df):\n",
    "    \n",
    "    # total distance over kills and assists\n",
    "    df['totalDistanceOverKillsAndAssists'] = df['totalDistance'] / df['killsAndAssists']\n",
    "    df['totalDistanceOverKillsAndAssists'].fillna(0, inplace=True)\n",
    "    df['totalDistanceOverKillsAndAssists'].replace(np.inf, 0, inplace=True)\n",
    "    \n",
    "    # total distance over heals and boosts\n",
    "    df['totalDistanceOverHealsAndBoosts'] = df['totalDistance'] / df['healsAndBoosts']\n",
    "    df['totalDistanceOverHealsAndBoosts'].fillna(0, inplace=True)\n",
    "    df['totalDistanceOverHealsAndBoosts'].replace(np.inf, 0, inplace=True)"
   ]
  },
  {
   "cell_type": "code",
   "execution_count": 7,
   "metadata": {
    "_uuid": "11d4e7a15d6302aa112451689344679e112f089c"
   },
   "outputs": [],
   "source": [
    "def add_new_features_4(df):\n",
    "    \n",
    "    df['headshotRate'] = df['kills'] / df['headshotKills']\n",
    "    df['killStreakRate'] = df['killStreaks'] / df['kills']\n",
    "    df['healsAndBoosts'] = df['heals'] + df['boosts']\n",
    "    df['totalDistance'] = df['rideDistance'] + df['walkDistance'] + df['swimDistance']\n",
    "    df['killPlaceOverMaxPlace'] = df['killPlace'] / df['maxPlace']\n",
    "    df['headshotKillsOverKills'] = df['headshotKills'] / df['kills']\n",
    "    df['distanceOverWeapons'] = df['totalDistance'] / df['weaponsAcquired']\n",
    "    df['walkDistanceOverHeals'] = df['walkDistance'] / df['heals']\n",
    "    df['walkDistanceOverKills'] = df['walkDistance'] / df['kills']\n",
    "    df['killsPerWalkDistance'] = df['kills'] / df['walkDistance']\n",
    "    df[\"skill\"] = df['headshotKills'] + df['roadKills']\n",
    "    \n",
    "    df[df == np.Inf] = np.NaN\n",
    "    df[df == np.NINF] = np.NaN\n",
    "    \n",
    "    df.fillna(0, inplace=True)"
   ]
  },
  {
   "cell_type": "code",
   "execution_count": 8,
   "metadata": {
    "_uuid": "8c4af3fc227c11763012e7520c47bcf608d91923"
   },
   "outputs": [],
   "source": [
    "def feature_engineering(df, is_train=True):\n",
    "    \n",
    "    # fix rank points\n",
    "    df['rankPoints'] = np.where(df['rankPoints'] <= 0, 0, df['rankPoints'])\n",
    "    \n",
    "    features = list(df.columns)\n",
    "    features.remove(\"matchId\")\n",
    "    features.remove(\"groupId\")\n",
    "    features.remove(\"matchDuration\")\n",
    "    features.remove(\"matchType\")\n",
    "    if 'winPlacePerc' in features:\n",
    "        features.remove('winPlacePerc')\n",
    "    \n",
    "    y = None\n",
    "    \n",
    "    # average y for training dataset\n",
    "    if is_train:\n",
    "        y = df.groupby(['matchId','groupId'])['winPlacePerc'].agg('mean')\n",
    "    elif 'winPlacePerc' in df.columns:\n",
    "        y = df['winPlacePerc']\n",
    "    \n",
    "    # mean by match and group\n",
    "    agg = df.groupby(['matchId','groupId'])[features].agg('mean')\n",
    "    agg_rank = agg.groupby('matchId')[features].rank(pct=True).reset_index()\n",
    "    \n",
    "    if is_train:\n",
    "        df_out = agg.reset_index()[['matchId','groupId']]\n",
    "    else:\n",
    "        df_out = df[['matchId','groupId']]\n",
    "    \n",
    "    df_out = df_out.merge(agg.reset_index(), suffixes=[\"\", \"\"], how='left', on=['matchId', 'groupId'])\n",
    "    df_out = df_out.merge(agg_rank, suffixes=[\"_mean\", \"_mean_rank\"], how='left', on=['matchId', 'groupId'])\n",
    "    \n",
    "    # max by match and group\n",
    "    agg = df.groupby(['matchId','groupId'])[features].agg('max')\n",
    "    agg_rank = agg.groupby('matchId')[features].rank(pct=True).reset_index()\n",
    "    \n",
    "    df_out = df_out.merge(agg.reset_index(), suffixes=[\"\", \"\"], how='left', on=['matchId', 'groupId'])\n",
    "    df_out = df_out.merge(agg_rank, suffixes=[\"_max\", \"_max_rank\"], how='left', on=['matchId', 'groupId'])\n",
    "    \n",
    "    # max by match and group\n",
    "    agg = df.groupby(['matchId','groupId'])[features].agg('min')\n",
    "    agg_rank = agg.groupby('matchId')[features].rank(pct=True).reset_index()\n",
    "    \n",
    "    df_out = df_out.merge(agg.reset_index(), suffixes=[\"\", \"\"], how='left', on=['matchId', 'groupId'])\n",
    "    df_out = df_out.merge(agg_rank, suffixes=[\"_min\", \"_min_rank\"], how='left', on=['matchId', 'groupId'])\n",
    "    \n",
    "    # number of players in group\n",
    "    agg = df.groupby(['matchId','groupId']).size().reset_index(name='group_size')\n",
    "    \n",
    "    df_out = df_out.merge(agg, how='left', on=['matchId', 'groupId'])\n",
    "    \n",
    "    # mean by match\n",
    "    agg = df.groupby(['matchId'])[features].agg('mean').reset_index()\n",
    "    \n",
    "    df_out = df_out.merge(agg, suffixes=[\"\", \"_match_mean\"], how='left', on=['matchId'])\n",
    "    \n",
    "    # number of groups in match\n",
    "    agg = df.groupby(['matchId']).size().reset_index(name='match_size')\n",
    "    \n",
    "    df_out = df_out.merge(agg, how='left', on=['matchId'])\n",
    "    \n",
    "    # drop match id and group id\n",
    "    df_out.drop([\"matchId\", \"groupId\"], axis=1, inplace=True)\n",
    "    \n",
    "    del agg, agg_rank\n",
    "    \n",
    "    return df_out, y"
   ]
  },
  {
   "cell_type": "markdown",
   "metadata": {
    "_uuid": "9c40e27705574c955035ea1fd14270ad70da7c4c"
   },
   "source": [
    "### Machine learning"
   ]
  },
  {
   "cell_type": "code",
   "execution_count": 9,
   "metadata": {
    "_uuid": "d55b06b68252eaf889144db7f81bf3827f80c772"
   },
   "outputs": [],
   "source": [
    "class Estimator(object):\n",
    "    \n",
    "    def fit(self, x_train, y_train, x_valid, y_valid):\n",
    "        raise NotImplementedException\n",
    "    \n",
    "    def predict(self, x):\n",
    "        raise NotImplementedException"
   ]
  },
  {
   "cell_type": "code",
   "execution_count": 10,
   "metadata": {
    "_uuid": "ddd0403c8918043e99b2230a3423caebba37643f"
   },
   "outputs": [],
   "source": [
    "class ScikitLearnEstimator(Estimator):\n",
    "    \n",
    "    def __init__(self, estimator):\n",
    "        self.estimator = estimator\n",
    "    \n",
    "    def fit(self, x_train, y_train, x_valid, y_valid):\n",
    "        self.estimator.fit(x_train, y_train)\n",
    "    \n",
    "    def predict(self, x):\n",
    "        return self.estimator.predict(x)"
   ]
  },
  {
   "cell_type": "code",
   "execution_count": 11,
   "metadata": {
    "_uuid": "1c4771d7271e62d2e7c94fced64cb2df83129f4d"
   },
   "outputs": [],
   "source": [
    "def fit_predict_step(estimator, x_train, y_train, train_idx, valid_idx, x_test, oof):\n",
    "    \n",
    "    # prepare train and validation data\n",
    "    x_train_train = x_train[train_idx]\n",
    "    y_train_train = y_train[train_idx]\n",
    "    x_train_valid = x_train[valid_idx]\n",
    "    y_train_valid = y_train[valid_idx]\n",
    "    \n",
    "    # fit estimator\n",
    "    estimator.fit(x_train_train, y_train_train, x_train_valid, y_train_valid)\n",
    "    \n",
    "    # collect OOF\n",
    "    oof_part = estimator.predict(x_train_valid)\n",
    "    \n",
    "    print('MAE:', mean_absolute_error(y_train_valid, oof_part))\n",
    "    \n",
    "    oof[valid_idx] = oof_part\n",
    "    \n",
    "    # make predictions for test data\n",
    "    y_part = estimator.predict(x_test)\n",
    "    \n",
    "    return y_part"
   ]
  },
  {
   "cell_type": "code",
   "execution_count": 12,
   "metadata": {
    "_uuid": "15979e3e270158f5378898802076ae1409778295"
   },
   "outputs": [],
   "source": [
    "def fit_predict(estimator, x_train, y_train, x_test):\n",
    "    \n",
    "    oof = np.zeros(x_train.shape[0])\n",
    "    \n",
    "    y = np.zeros(x_test.shape[0])\n",
    "    \n",
    "    kf = KFold(n_splits=5, random_state=42)\n",
    "    \n",
    "    for train_idx, valid_idx in kf.split(x_train):\n",
    "        \n",
    "        y_part = fit_predict_step(estimator, x_train, y_train, train_idx, valid_idx, x_test, oof)\n",
    "        \n",
    "        # average predictions for test data\n",
    "        y += y_part / kf.n_splits\n",
    "    \n",
    "    print('Final MAE:', mean_absolute_error(y_train, oof))\n",
    "    \n",
    "    return oof, y"
   ]
  },
  {
   "cell_type": "code",
   "execution_count": 13,
   "metadata": {
    "_uuid": "67fcee981ddaca32a8bb81b6f5b7609799f7025a"
   },
   "outputs": [],
   "source": [
    "def fit_step(estimator, x_train, y_train, train_idx, valid_idx, oof):\n",
    "    \n",
    "    # prepare train and validation data\n",
    "    x_train_train = x_train[train_idx]\n",
    "    y_train_train = y_train[train_idx]\n",
    "    x_train_valid = x_train[valid_idx]\n",
    "    y_train_valid = y_train[valid_idx]\n",
    "    \n",
    "    # fit estimator\n",
    "    estimator.fit(x_train_train, y_train_train, x_train_valid, y_train_valid)\n",
    "    \n",
    "    # collect OOF\n",
    "    oof_part = estimator.predict(x_train_valid)\n",
    "    \n",
    "    mae = mean_absolute_error(y_train_valid, oof_part)\n",
    "    print('MAE:', mae)\n",
    "    \n",
    "    oof[valid_idx] = oof_part\n",
    "    \n",
    "    return estimator, mae"
   ]
  },
  {
   "cell_type": "code",
   "execution_count": 14,
   "metadata": {
    "_uuid": "954f90a79005aaea2c3eb2816c70e8639787e08f"
   },
   "outputs": [],
   "source": [
    "def fit(estimator, x_train, y_train):\n",
    "    \n",
    "    oof = np.zeros(x_train.shape[0])\n",
    "    \n",
    "    kf = KFold(n_splits=5, random_state=42)\n",
    "    \n",
    "    trained_estimators = []\n",
    "    \n",
    "    for train_idx, valid_idx in kf.split(x_train):\n",
    "        \n",
    "        e, mae = fit_step(estimator, x_train, y_train, train_idx, valid_idx, oof)\n",
    "        \n",
    "        trained_estimators.append(deepcopy(e))\n",
    "    \n",
    "    print('Final MAE:', mean_absolute_error(y_train, oof))\n",
    "    \n",
    "    return oof, trained_estimators"
   ]
  },
  {
   "cell_type": "code",
   "execution_count": 15,
   "metadata": {
    "_uuid": "669933565c3461fcf750a414f9dc34c8a2f98322"
   },
   "outputs": [],
   "source": [
    "def predict(trained_estimators, x_test):\n",
    "    \n",
    "    y = np.zeros(x_test.shape[0])\n",
    "    \n",
    "    for estimator in trained_estimators:\n",
    "        \n",
    "        y_part = estimator.predict(x_test)\n",
    "        \n",
    "        # average predictions for test data\n",
    "        y += y_part / len(trained_estimators)\n",
    "    \n",
    "    return y"
   ]
  },
  {
   "cell_type": "code",
   "execution_count": 16,
   "metadata": {
    "_uuid": "bf61ed8a245157bf8192ee66d5e29ba69ad4e25e"
   },
   "outputs": [],
   "source": [
    "def pipeline_fit(estimator, df_train, scaler=None):\n",
    "    \n",
    "    # add new features\n",
    "    add_new_features_4(df_train)\n",
    "    \n",
    "    # feature engineering\n",
    "    x_train, y_train = feature_engineering(df_train, is_train=True)\n",
    "    x_train = reduce_mem_usage(x_train)\n",
    "    gc.collect()\n",
    "    \n",
    "    # scale\n",
    "    if not (scaler is None):\n",
    "        scaler.fit(x_train)\n",
    "        scaled_x_train = scaler.transform(x_train)\n",
    "    else:\n",
    "        scaled_x_train = x_train.values\n",
    "    \n",
    "    # fit\n",
    "    oof, trained_estimators = fit(estimator, scaled_x_train, y_train.values)\n",
    "    \n",
    "    del x_train\n",
    "    del scaled_x_train\n",
    "    del y_train\n",
    "    gc.collect()\n",
    "    \n",
    "    return oof, trained_estimators"
   ]
  },
  {
   "cell_type": "code",
   "execution_count": 17,
   "metadata": {
    "_uuid": "65d241d0630684b5a067f3133810f1fc48679717"
   },
   "outputs": [],
   "source": [
    "def pipeline_predict(trained_estimators, df_test, scaler=None):\n",
    "    \n",
    "    # add new features\n",
    "    add_new_features_4(df_test)\n",
    "    \n",
    "    # feature engineering\n",
    "    x_test, _ = feature_engineering(df_test, is_train=False)\n",
    "    x_test = reduce_mem_usage(x_test)\n",
    "    gc.collect()\n",
    "    \n",
    "    # scale\n",
    "    if not (scaler is None):\n",
    "        scaled_x_test = scaler.transform(x_test)\n",
    "    else:\n",
    "        scaled_x_test = x_test.values\n",
    "    \n",
    "    # predict\n",
    "    y = predict(trained_estimators, scaled_x_test)\n",
    "    \n",
    "    del x_test\n",
    "    del scaled_x_test\n",
    "    gc.collect()\n",
    "    \n",
    "    return y"
   ]
  },
  {
   "cell_type": "markdown",
   "metadata": {
    "_uuid": "ddd2a0f1f94da41a5435e96c870178851e9ce8aa"
   },
   "source": [
    "## Load train data"
   ]
  },
  {
   "cell_type": "code",
   "execution_count": 19,
   "metadata": {
    "_uuid": "8dcf02134aeb11d024f71f3ffbfff7de0050d1b6"
   },
   "outputs": [
    {
     "data": {
      "text/plain": [
       "(7134, 28)"
      ]
     },
     "execution_count": 19,
     "metadata": {},
     "output_type": "execute_result"
    }
   ],
   "source": [
    "df_train = pd.read_csv('./input/train.csv', index_col='Id')\n",
    "df_train.shape"
   ]
  },
  {
   "cell_type": "code",
   "execution_count": 20,
   "metadata": {
    "_uuid": "fadd8e0fb1cd32eb1b216351dc7cd0b4f3497dec"
   },
   "outputs": [
    {
     "name": "stdout",
     "output_type": "stream",
     "text": [
      "Memory usage of dataframe is 1.58 MB\n",
      "Memory usage after optimization is: 0.46 MB\n",
      "Decreased by 71.1%\n"
     ]
    }
   ],
   "source": [
    "df_train = reduce_mem_usage(df_train)"
   ]
  },
  {
   "cell_type": "code",
   "execution_count": 21,
   "metadata": {
    "_uuid": "f291168dc2a98bc7d1da94ac7685c9249758f7b0"
   },
   "outputs": [
    {
     "data": {
      "text/html": [
       "<div>\n",
       "<style scoped>\n",
       "    .dataframe tbody tr th:only-of-type {\n",
       "        vertical-align: middle;\n",
       "    }\n",
       "\n",
       "    .dataframe tbody tr th {\n",
       "        vertical-align: top;\n",
       "    }\n",
       "\n",
       "    .dataframe thead th {\n",
       "        text-align: right;\n",
       "    }\n",
       "</style>\n",
       "<table border=\"1\" class=\"dataframe\">\n",
       "  <thead>\n",
       "    <tr style=\"text-align: right;\">\n",
       "      <th>Id</th>\n",
       "      <th>2860d3f9ee4d4b</th>\n",
       "      <th>0b88c47e54cdcc</th>\n",
       "      <th>8f086d61515bc4</th>\n",
       "      <th>7c037ca62a38a4</th>\n",
       "      <th>82f08cde238c60</th>\n",
       "    </tr>\n",
       "  </thead>\n",
       "  <tbody>\n",
       "    <tr>\n",
       "      <th>groupId</th>\n",
       "      <td>46f1b1c3bf0dae</td>\n",
       "      <td>5e92598b08bcb1</td>\n",
       "      <td>ed4cfbc560f490</td>\n",
       "      <td>d2ff4830704e19</td>\n",
       "      <td>7c5002766d8c7a</td>\n",
       "    </tr>\n",
       "    <tr>\n",
       "      <th>matchId</th>\n",
       "      <td>25ade93a241f39</td>\n",
       "      <td>95125f5e05c653</td>\n",
       "      <td>8a84da96d077c3</td>\n",
       "      <td>a139eac809980a</td>\n",
       "      <td>e9d203a36b1d0a</td>\n",
       "    </tr>\n",
       "    <tr>\n",
       "      <th>assists</th>\n",
       "      <td>0</td>\n",
       "      <td>0</td>\n",
       "      <td>0</td>\n",
       "      <td>0</td>\n",
       "      <td>0</td>\n",
       "    </tr>\n",
       "    <tr>\n",
       "      <th>boosts</th>\n",
       "      <td>0</td>\n",
       "      <td>2</td>\n",
       "      <td>0</td>\n",
       "      <td>0</td>\n",
       "      <td>0</td>\n",
       "    </tr>\n",
       "    <tr>\n",
       "      <th>damageDealt</th>\n",
       "      <td>0</td>\n",
       "      <td>359</td>\n",
       "      <td>223.5</td>\n",
       "      <td>128.125</td>\n",
       "      <td>200</td>\n",
       "    </tr>\n",
       "    <tr>\n",
       "      <th>DBNOs</th>\n",
       "      <td>0</td>\n",
       "      <td>4</td>\n",
       "      <td>1</td>\n",
       "      <td>0</td>\n",
       "      <td>2</td>\n",
       "    </tr>\n",
       "    <tr>\n",
       "      <th>headshotKills</th>\n",
       "      <td>0</td>\n",
       "      <td>0</td>\n",
       "      <td>0</td>\n",
       "      <td>0</td>\n",
       "      <td>0</td>\n",
       "    </tr>\n",
       "    <tr>\n",
       "      <th>heals</th>\n",
       "      <td>0</td>\n",
       "      <td>0</td>\n",
       "      <td>0</td>\n",
       "      <td>0</td>\n",
       "      <td>0</td>\n",
       "    </tr>\n",
       "    <tr>\n",
       "      <th>killPlace</th>\n",
       "      <td>80</td>\n",
       "      <td>5</td>\n",
       "      <td>15</td>\n",
       "      <td>50</td>\n",
       "      <td>36</td>\n",
       "    </tr>\n",
       "    <tr>\n",
       "      <th>killPoints</th>\n",
       "      <td>0</td>\n",
       "      <td>1387</td>\n",
       "      <td>1673</td>\n",
       "      <td>1479</td>\n",
       "      <td>0</td>\n",
       "    </tr>\n",
       "    <tr>\n",
       "      <th>kills</th>\n",
       "      <td>0</td>\n",
       "      <td>4</td>\n",
       "      <td>2</td>\n",
       "      <td>0</td>\n",
       "      <td>1</td>\n",
       "    </tr>\n",
       "    <tr>\n",
       "      <th>killStreaks</th>\n",
       "      <td>0</td>\n",
       "      <td>2</td>\n",
       "      <td>1</td>\n",
       "      <td>0</td>\n",
       "      <td>1</td>\n",
       "    </tr>\n",
       "    <tr>\n",
       "      <th>longestKill</th>\n",
       "      <td>0</td>\n",
       "      <td>35.6875</td>\n",
       "      <td>27.3906</td>\n",
       "      <td>0</td>\n",
       "      <td>25.75</td>\n",
       "    </tr>\n",
       "    <tr>\n",
       "      <th>matchDuration</th>\n",
       "      <td>1413</td>\n",
       "      <td>1386</td>\n",
       "      <td>1410</td>\n",
       "      <td>1357</td>\n",
       "      <td>1395</td>\n",
       "    </tr>\n",
       "    <tr>\n",
       "      <th>matchType</th>\n",
       "      <td>duo</td>\n",
       "      <td>duo-fpp</td>\n",
       "      <td>duo-fpp</td>\n",
       "      <td>squad-fpp</td>\n",
       "      <td>squad-fpp</td>\n",
       "    </tr>\n",
       "    <tr>\n",
       "      <th>maxPlace</th>\n",
       "      <td>48</td>\n",
       "      <td>48</td>\n",
       "      <td>49</td>\n",
       "      <td>31</td>\n",
       "      <td>28</td>\n",
       "    </tr>\n",
       "    <tr>\n",
       "      <th>numGroups</th>\n",
       "      <td>48</td>\n",
       "      <td>47</td>\n",
       "      <td>48</td>\n",
       "      <td>28</td>\n",
       "      <td>28</td>\n",
       "    </tr>\n",
       "    <tr>\n",
       "      <th>rankPoints</th>\n",
       "      <td>1496</td>\n",
       "      <td>-1</td>\n",
       "      <td>-1</td>\n",
       "      <td>-1</td>\n",
       "      <td>1479</td>\n",
       "    </tr>\n",
       "    <tr>\n",
       "      <th>revives</th>\n",
       "      <td>0</td>\n",
       "      <td>1</td>\n",
       "      <td>0</td>\n",
       "      <td>0</td>\n",
       "      <td>0</td>\n",
       "    </tr>\n",
       "    <tr>\n",
       "      <th>rideDistance</th>\n",
       "      <td>0</td>\n",
       "      <td>262.75</td>\n",
       "      <td>0</td>\n",
       "      <td>0</td>\n",
       "      <td>0</td>\n",
       "    </tr>\n",
       "    <tr>\n",
       "      <th>roadKills</th>\n",
       "      <td>0</td>\n",
       "      <td>0</td>\n",
       "      <td>0</td>\n",
       "      <td>0</td>\n",
       "      <td>0</td>\n",
       "    </tr>\n",
       "    <tr>\n",
       "      <th>swimDistance</th>\n",
       "      <td>0</td>\n",
       "      <td>0</td>\n",
       "      <td>0</td>\n",
       "      <td>0</td>\n",
       "      <td>0</td>\n",
       "    </tr>\n",
       "    <tr>\n",
       "      <th>teamKills</th>\n",
       "      <td>0</td>\n",
       "      <td>0</td>\n",
       "      <td>0</td>\n",
       "      <td>0</td>\n",
       "      <td>0</td>\n",
       "    </tr>\n",
       "    <tr>\n",
       "      <th>vehicleDestroys</th>\n",
       "      <td>0</td>\n",
       "      <td>0</td>\n",
       "      <td>0</td>\n",
       "      <td>0</td>\n",
       "      <td>0</td>\n",
       "    </tr>\n",
       "    <tr>\n",
       "      <th>walkDistance</th>\n",
       "      <td>257</td>\n",
       "      <td>1025</td>\n",
       "      <td>713</td>\n",
       "      <td>2738</td>\n",
       "      <td>129.375</td>\n",
       "    </tr>\n",
       "    <tr>\n",
       "      <th>weaponsAcquired</th>\n",
       "      <td>4</td>\n",
       "      <td>5</td>\n",
       "      <td>2</td>\n",
       "      <td>4</td>\n",
       "      <td>2</td>\n",
       "    </tr>\n",
       "    <tr>\n",
       "      <th>winPoints</th>\n",
       "      <td>0</td>\n",
       "      <td>1607</td>\n",
       "      <td>1736</td>\n",
       "      <td>1476</td>\n",
       "      <td>0</td>\n",
       "    </tr>\n",
       "    <tr>\n",
       "      <th>winPlacePerc</th>\n",
       "      <td>0.16748</td>\n",
       "      <td>0.610352</td>\n",
       "      <td>0.666016</td>\n",
       "      <td>0.723145</td>\n",
       "      <td>0.204102</td>\n",
       "    </tr>\n",
       "  </tbody>\n",
       "</table>\n",
       "</div>"
      ],
      "text/plain": [
       "Id               2860d3f9ee4d4b  0b88c47e54cdcc  8f086d61515bc4  \\\n",
       "groupId          46f1b1c3bf0dae  5e92598b08bcb1  ed4cfbc560f490   \n",
       "matchId          25ade93a241f39  95125f5e05c653  8a84da96d077c3   \n",
       "assists                       0               0               0   \n",
       "boosts                        0               2               0   \n",
       "damageDealt                   0             359           223.5   \n",
       "DBNOs                         0               4               1   \n",
       "headshotKills                 0               0               0   \n",
       "heals                         0               0               0   \n",
       "killPlace                    80               5              15   \n",
       "killPoints                    0            1387            1673   \n",
       "kills                         0               4               2   \n",
       "killStreaks                   0               2               1   \n",
       "longestKill                   0         35.6875         27.3906   \n",
       "matchDuration              1413            1386            1410   \n",
       "matchType                   duo         duo-fpp         duo-fpp   \n",
       "maxPlace                     48              48              49   \n",
       "numGroups                    48              47              48   \n",
       "rankPoints                 1496              -1              -1   \n",
       "revives                       0               1               0   \n",
       "rideDistance                  0          262.75               0   \n",
       "roadKills                     0               0               0   \n",
       "swimDistance                  0               0               0   \n",
       "teamKills                     0               0               0   \n",
       "vehicleDestroys               0               0               0   \n",
       "walkDistance                257            1025             713   \n",
       "weaponsAcquired               4               5               2   \n",
       "winPoints                     0            1607            1736   \n",
       "winPlacePerc            0.16748        0.610352        0.666016   \n",
       "\n",
       "Id               7c037ca62a38a4  82f08cde238c60  \n",
       "groupId          d2ff4830704e19  7c5002766d8c7a  \n",
       "matchId          a139eac809980a  e9d203a36b1d0a  \n",
       "assists                       0               0  \n",
       "boosts                        0               0  \n",
       "damageDealt             128.125             200  \n",
       "DBNOs                         0               2  \n",
       "headshotKills                 0               0  \n",
       "heals                         0               0  \n",
       "killPlace                    50              36  \n",
       "killPoints                 1479               0  \n",
       "kills                         0               1  \n",
       "killStreaks                   0               1  \n",
       "longestKill                   0           25.75  \n",
       "matchDuration              1357            1395  \n",
       "matchType             squad-fpp       squad-fpp  \n",
       "maxPlace                     31              28  \n",
       "numGroups                    28              28  \n",
       "rankPoints                   -1            1479  \n",
       "revives                       0               0  \n",
       "rideDistance                  0               0  \n",
       "roadKills                     0               0  \n",
       "swimDistance                  0               0  \n",
       "teamKills                     0               0  \n",
       "vehicleDestroys               0               0  \n",
       "walkDistance               2738         129.375  \n",
       "weaponsAcquired               4               2  \n",
       "winPoints                  1476               0  \n",
       "winPlacePerc           0.723145        0.204102  "
      ]
     },
     "execution_count": 21,
     "metadata": {},
     "output_type": "execute_result"
    }
   ],
   "source": [
    "df_train.head().T"
   ]
  },
  {
   "cell_type": "code",
   "execution_count": 22,
   "metadata": {
    "_uuid": "c2221e28a1fba7ff3e05fc95184fdc74078d1be4"
   },
   "outputs": [
    {
     "data": {
      "text/plain": [
       "20"
      ]
     },
     "execution_count": 22,
     "metadata": {},
     "output_type": "execute_result"
    }
   ],
   "source": [
    "gc.collect()"
   ]
  },
  {
   "cell_type": "markdown",
   "metadata": {
    "_uuid": "84ed416c46b4b7f4fe7cf46e325759d6dfbba38f"
   },
   "source": [
    "## Remove bad row"
   ]
  },
  {
   "cell_type": "code",
   "execution_count": 23,
   "metadata": {
    "_uuid": "0626ac7f1e3b0bef491d806699ebd0d44148fc84"
   },
   "outputs": [],
   "source": [
    "df_train.drop(df_train[df_train['winPlacePerc'].isnull()].index, inplace=True)"
   ]
  },
  {
   "cell_type": "markdown",
   "metadata": {
    "_uuid": "91c8912fc72ae57c3693baa463deb91ad688f1b7"
   },
   "source": [
    "## PyTorch"
   ]
  },
  {
   "cell_type": "code",
   "execution_count": 24,
   "metadata": {
    "_uuid": "d8013f3136a52b5348055d98cde5bf55b0442297"
   },
   "outputs": [],
   "source": [
    "import torch\n",
    "from torch.utils.data import DataLoader, TensorDataset\n",
    "import torch.nn as nn\n",
    "from torch.nn.utils.weight_norm import weight_norm"
   ]
  },
  {
   "cell_type": "code",
   "execution_count": 25,
   "metadata": {
    "_uuid": "74846cb739e57844fb56d67f61cec5969c86e479"
   },
   "outputs": [
    {
     "data": {
      "text/plain": [
       "device(type='cuda', index=0)"
      ]
     },
     "execution_count": 25,
     "metadata": {},
     "output_type": "execute_result"
    }
   ],
   "source": [
    "device = torch.device(\"cuda:0\" if torch.cuda.is_available() else \"cpu\")\n",
    "device"
   ]
  },
  {
   "cell_type": "code",
   "execution_count": 26,
   "metadata": {
    "_uuid": "a586af03583ab010b2e29f61488490115b014eca"
   },
   "outputs": [],
   "source": [
    "class PyTorch(Estimator):\n",
    "    \n",
    "    def fit(self, x_train, y_train, x_valid, y_valid):\n",
    "        \n",
    "        train_tensor = TensorDataset(\n",
    "            torch.from_numpy(x_train.astype('float32')),\n",
    "            torch.from_numpy(y_train.astype('float32')))\n",
    "        train_loader = DataLoader(train_tensor, batch_size=256, shuffle=True)\n",
    "        \n",
    "        self.model = nn.Sequential(\n",
    "            weight_norm(nn.Linear(x_train.shape[1], 128)),\n",
    "            nn.ReLU(),\n",
    "            weight_norm(nn.Linear(128, 128)),\n",
    "            nn.ReLU(),\n",
    "            weight_norm(nn.Linear(128, 128)),\n",
    "            nn.ReLU(),\n",
    "            weight_norm(nn.Linear(128, 128)),\n",
    "            nn.ReLU(),\n",
    "            weight_norm(nn.Linear(128, 1))).to(device)\n",
    "        \n",
    "        for m in self.model:\n",
    "            if isinstance(m, nn.Linear):\n",
    "                nn.init.kaiming_normal_(m.weight_v)\n",
    "                nn.init.kaiming_normal_(m.weight_g)\n",
    "                nn.init.constant_(m.bias, 0)\n",
    "        \n",
    "        criterion = nn.L1Loss()\n",
    "        optimizer = torch.optim.Adam(self.model.parameters(), betas=(0.9, 0.999), lr=1e-3)\n",
    "\n",
    "        self.model.train()\n",
    "        n_epochs = 50\n",
    "        for epoch in range(n_epochs):\n",
    "            epoch_loss = 0.0\n",
    "            for train_part, y_part in train_loader:\n",
    "                optimizer.zero_grad()\n",
    "                y_pred_part = self.model(train_part.to(device))\n",
    "                loss = criterion(y_pred_part.reshape(-1), y_part.to(device))\n",
    "                loss.backward()\n",
    "                optimizer.step()\n",
    "                epoch_loss += y_pred_part.shape[0] * loss.item()\n",
    "            print('Epoch %3d / %3d. Loss = %.5f' % (epoch + 1, n_epochs, epoch_loss / x_train.shape[0]))\n",
    "    \n",
    "    def predict(self, x):\n",
    "        self.model.eval()\n",
    "        x_tensor = torch.from_numpy(x.astype('float32'))\n",
    "        x_loader = DataLoader(x_tensor, batch_size=256, shuffle=False)\n",
    "        y_pred = np.empty(0)\n",
    "        with torch.no_grad():\n",
    "            for x_part in x_loader:\n",
    "                y_pred_part = self.model(x_part.to(device)).data.cpu().numpy().reshape(-1)\n",
    "                y_pred = np.append(y_pred, y_pred_part)\n",
    "        return y_pred"
   ]
  },
  {
   "cell_type": "code",
   "execution_count": 27,
   "metadata": {
    "_uuid": "ddbe1123947740e29df386759d3bf11fd08e9714"
   },
   "outputs": [
    {
     "name": "stdout",
     "output_type": "stream",
     "text": [
      "Memory usage of dataframe is 4.37 MB\n",
      "Memory usage after optimization is: 1.40 MB\n",
      "Decreased by 68.0%\n",
      "Epoch   1 /  50. Loss = 0.41332\n",
      "Epoch   2 /  50. Loss = 0.19249\n",
      "Epoch   3 /  50. Loss = 0.12973\n",
      "Epoch   4 /  50. Loss = 0.10432\n",
      "Epoch   5 /  50. Loss = 0.09207\n",
      "Epoch   6 /  50. Loss = 0.07813\n",
      "Epoch   7 /  50. Loss = 0.06677\n",
      "Epoch   8 /  50. Loss = 0.06249\n",
      "Epoch   9 /  50. Loss = 0.05666\n",
      "Epoch  10 /  50. Loss = 0.05237\n",
      "Epoch  11 /  50. Loss = 0.05293\n",
      "Epoch  12 /  50. Loss = 0.05044\n",
      "Epoch  13 /  50. Loss = 0.04986\n",
      "Epoch  14 /  50. Loss = 0.04826\n",
      "Epoch  15 /  50. Loss = 0.04412\n",
      "Epoch  16 /  50. Loss = 0.04132\n",
      "Epoch  17 /  50. Loss = 0.04443\n",
      "Epoch  18 /  50. Loss = 0.04310\n",
      "Epoch  19 /  50. Loss = 0.04151\n",
      "Epoch  20 /  50. Loss = 0.04226\n",
      "Epoch  21 /  50. Loss = 0.03734\n",
      "Epoch  22 /  50. Loss = 0.03805\n",
      "Epoch  23 /  50. Loss = 0.03566\n",
      "Epoch  24 /  50. Loss = 0.04046\n",
      "Epoch  25 /  50. Loss = 0.04125\n",
      "Epoch  26 /  50. Loss = 0.04053\n",
      "Epoch  27 /  50. Loss = 0.03478\n",
      "Epoch  28 /  50. Loss = 0.03420\n",
      "Epoch  29 /  50. Loss = 0.03094\n",
      "Epoch  30 /  50. Loss = 0.02937\n",
      "Epoch  31 /  50. Loss = 0.02964\n",
      "Epoch  32 /  50. Loss = 0.02855\n",
      "Epoch  33 /  50. Loss = 0.03195\n",
      "Epoch  34 /  50. Loss = 0.03170\n",
      "Epoch  35 /  50. Loss = 0.03125\n",
      "Epoch  36 /  50. Loss = 0.03006\n",
      "Epoch  37 /  50. Loss = 0.02884\n",
      "Epoch  38 /  50. Loss = 0.03066\n",
      "Epoch  39 /  50. Loss = 0.02858\n",
      "Epoch  40 /  50. Loss = 0.02667\n",
      "Epoch  41 /  50. Loss = 0.02431\n",
      "Epoch  42 /  50. Loss = 0.02264\n",
      "Epoch  43 /  50. Loss = 0.02486\n",
      "Epoch  44 /  50. Loss = 0.02420\n",
      "Epoch  45 /  50. Loss = 0.02316\n",
      "Epoch  46 /  50. Loss = 0.02501\n",
      "Epoch  47 /  50. Loss = 0.02640\n",
      "Epoch  48 /  50. Loss = 0.02814\n",
      "Epoch  49 /  50. Loss = 0.02674\n",
      "Epoch  50 /  50. Loss = 0.02405\n",
      "MAE: 0.06737480836311056\n",
      "Epoch   1 /  50. Loss = 0.84059\n",
      "Epoch   2 /  50. Loss = 0.31971\n",
      "Epoch   3 /  50. Loss = 0.18984\n",
      "Epoch   4 /  50. Loss = 0.14617\n",
      "Epoch   5 /  50. Loss = 0.11763\n",
      "Epoch   6 /  50. Loss = 0.10420\n",
      "Epoch   7 /  50. Loss = 0.08429\n",
      "Epoch   8 /  50. Loss = 0.07850\n",
      "Epoch   9 /  50. Loss = 0.07110\n",
      "Epoch  10 /  50. Loss = 0.07286\n",
      "Epoch  11 /  50. Loss = 0.06338\n",
      "Epoch  12 /  50. Loss = 0.05529\n",
      "Epoch  13 /  50. Loss = 0.05956\n",
      "Epoch  14 /  50. Loss = 0.05252\n",
      "Epoch  15 /  50. Loss = 0.04685\n",
      "Epoch  16 /  50. Loss = 0.04384\n",
      "Epoch  17 /  50. Loss = 0.04308\n",
      "Epoch  18 /  50. Loss = 0.04116\n",
      "Epoch  19 /  50. Loss = 0.03949\n",
      "Epoch  20 /  50. Loss = 0.03837\n",
      "Epoch  21 /  50. Loss = 0.03886\n",
      "Epoch  22 /  50. Loss = 0.03821\n",
      "Epoch  23 /  50. Loss = 0.03741\n",
      "Epoch  24 /  50. Loss = 0.03603\n",
      "Epoch  25 /  50. Loss = 0.04129\n",
      "Epoch  26 /  50. Loss = 0.04009\n",
      "Epoch  27 /  50. Loss = 0.03621\n",
      "Epoch  28 /  50. Loss = 0.03577\n",
      "Epoch  29 /  50. Loss = 0.03203\n",
      "Epoch  30 /  50. Loss = 0.03500\n",
      "Epoch  31 /  50. Loss = 0.03187\n",
      "Epoch  32 /  50. Loss = 0.03432\n",
      "Epoch  33 /  50. Loss = 0.03445\n",
      "Epoch  34 /  50. Loss = 0.02855\n",
      "Epoch  35 /  50. Loss = 0.02642\n",
      "Epoch  36 /  50. Loss = 0.02596\n",
      "Epoch  37 /  50. Loss = 0.03312\n",
      "Epoch  38 /  50. Loss = 0.03125\n",
      "Epoch  39 /  50. Loss = 0.02762\n",
      "Epoch  40 /  50. Loss = 0.02641\n",
      "Epoch  41 /  50. Loss = 0.02516\n",
      "Epoch  42 /  50. Loss = 0.02645\n",
      "Epoch  43 /  50. Loss = 0.02581\n",
      "Epoch  44 /  50. Loss = 0.02547\n",
      "Epoch  45 /  50. Loss = 0.02473\n",
      "Epoch  46 /  50. Loss = 0.02425\n",
      "Epoch  47 /  50. Loss = 0.02800\n",
      "Epoch  48 /  50. Loss = 0.02848\n",
      "Epoch  49 /  50. Loss = 0.02908\n",
      "Epoch  50 /  50. Loss = 0.02534\n",
      "MAE: 0.081922044826637\n",
      "Epoch   1 /  50. Loss = 0.53300\n",
      "Epoch   2 /  50. Loss = 0.24998\n",
      "Epoch   3 /  50. Loss = 0.17625\n",
      "Epoch   4 /  50. Loss = 0.14309\n",
      "Epoch   5 /  50. Loss = 0.12083\n",
      "Epoch   6 /  50. Loss = 0.10189\n",
      "Epoch   7 /  50. Loss = 0.09183\n",
      "Epoch   8 /  50. Loss = 0.08829\n",
      "Epoch   9 /  50. Loss = 0.07914\n",
      "Epoch  10 /  50. Loss = 0.07405\n",
      "Epoch  11 /  50. Loss = 0.06392\n",
      "Epoch  12 /  50. Loss = 0.06485\n",
      "Epoch  13 /  50. Loss = 0.06545\n",
      "Epoch  14 /  50. Loss = 0.05677\n",
      "Epoch  15 /  50. Loss = 0.05489\n",
      "Epoch  16 /  50. Loss = 0.05340\n",
      "Epoch  17 /  50. Loss = 0.04721\n",
      "Epoch  18 /  50. Loss = 0.04865\n",
      "Epoch  19 /  50. Loss = 0.04652\n",
      "Epoch  20 /  50. Loss = 0.04372\n",
      "Epoch  21 /  50. Loss = 0.04426\n",
      "Epoch  22 /  50. Loss = 0.04030\n",
      "Epoch  23 /  50. Loss = 0.03977\n",
      "Epoch  24 /  50. Loss = 0.03827\n",
      "Epoch  25 /  50. Loss = 0.03911\n",
      "Epoch  26 /  50. Loss = 0.03742\n",
      "Epoch  27 /  50. Loss = 0.04644\n",
      "Epoch  28 /  50. Loss = 0.04759\n",
      "Epoch  29 /  50. Loss = 0.04284\n",
      "Epoch  30 /  50. Loss = 0.04106\n",
      "Epoch  31 /  50. Loss = 0.03962\n",
      "Epoch  32 /  50. Loss = 0.04142\n",
      "Epoch  33 /  50. Loss = 0.04005\n",
      "Epoch  34 /  50. Loss = 0.03630\n",
      "Epoch  35 /  50. Loss = 0.03535\n",
      "Epoch  36 /  50. Loss = 0.03184\n",
      "Epoch  37 /  50. Loss = 0.03275\n",
      "Epoch  38 /  50. Loss = 0.03089\n",
      "Epoch  39 /  50. Loss = 0.02883\n",
      "Epoch  40 /  50. Loss = 0.03041\n",
      "Epoch  41 /  50. Loss = 0.02976\n",
      "Epoch  42 /  50. Loss = 0.02780\n",
      "Epoch  43 /  50. Loss = 0.02879\n",
      "Epoch  44 /  50. Loss = 0.02840\n",
      "Epoch  45 /  50. Loss = 0.02741\n",
      "Epoch  46 /  50. Loss = 0.02924\n",
      "Epoch  47 /  50. Loss = 0.02774\n",
      "Epoch  48 /  50. Loss = 0.02870\n",
      "Epoch  49 /  50. Loss = 0.02755\n",
      "Epoch  50 /  50. Loss = 0.02721\n",
      "MAE: 0.09970977297483909\n",
      "Epoch   1 /  50. Loss = 0.33243\n",
      "Epoch   2 /  50. Loss = 0.12737\n",
      "Epoch   3 /  50. Loss = 0.09393\n",
      "Epoch   4 /  50. Loss = 0.07798\n",
      "Epoch   5 /  50. Loss = 0.06771\n",
      "Epoch   6 /  50. Loss = 0.06328\n",
      "Epoch   7 /  50. Loss = 0.05530\n",
      "Epoch   8 /  50. Loss = 0.05184\n",
      "Epoch   9 /  50. Loss = 0.04749\n",
      "Epoch  10 /  50. Loss = 0.04500\n",
      "Epoch  11 /  50. Loss = 0.04360\n",
      "Epoch  12 /  50. Loss = 0.04461\n",
      "Epoch  13 /  50. Loss = 0.04011\n",
      "Epoch  14 /  50. Loss = 0.03678\n",
      "Epoch  15 /  50. Loss = 0.03473\n",
      "Epoch  16 /  50. Loss = 0.03360\n",
      "Epoch  17 /  50. Loss = 0.03242\n",
      "Epoch  18 /  50. Loss = 0.03381\n",
      "Epoch  19 /  50. Loss = 0.03110\n",
      "Epoch  20 /  50. Loss = 0.03040\n",
      "Epoch  21 /  50. Loss = 0.03189\n",
      "Epoch  22 /  50. Loss = 0.03265\n",
      "Epoch  23 /  50. Loss = 0.03240\n",
      "Epoch  24 /  50. Loss = 0.02786\n",
      "Epoch  25 /  50. Loss = 0.02838\n",
      "Epoch  26 /  50. Loss = 0.02750\n",
      "Epoch  27 /  50. Loss = 0.02622\n",
      "Epoch  28 /  50. Loss = 0.02394\n",
      "Epoch  29 /  50. Loss = 0.02386\n",
      "Epoch  30 /  50. Loss = 0.02300\n",
      "Epoch  31 /  50. Loss = 0.02393\n",
      "Epoch  32 /  50. Loss = 0.02165\n",
      "Epoch  33 /  50. Loss = 0.02069\n",
      "Epoch  34 /  50. Loss = 0.02243\n",
      "Epoch  35 /  50. Loss = 0.02338\n",
      "Epoch  36 /  50. Loss = 0.02177\n",
      "Epoch  37 /  50. Loss = 0.02339\n",
      "Epoch  38 /  50. Loss = 0.02029\n",
      "Epoch  39 /  50. Loss = 0.01970\n",
      "Epoch  40 /  50. Loss = 0.02095\n",
      "Epoch  41 /  50. Loss = 0.02092\n",
      "Epoch  42 /  50. Loss = 0.02065\n",
      "Epoch  43 /  50. Loss = 0.01915\n",
      "Epoch  44 /  50. Loss = 0.01754\n",
      "Epoch  45 /  50. Loss = 0.02063\n",
      "Epoch  46 /  50. Loss = 0.01789\n",
      "Epoch  47 /  50. Loss = 0.01961\n",
      "Epoch  48 /  50. Loss = 0.01843\n",
      "Epoch  49 /  50. Loss = 0.01865\n",
      "Epoch  50 /  50. Loss = 0.01898\n",
      "MAE: 0.06070193456899789\n",
      "Epoch   1 /  50. Loss = 0.25139\n",
      "Epoch   2 /  50. Loss = 0.11705\n",
      "Epoch   3 /  50. Loss = 0.08392\n",
      "Epoch   4 /  50. Loss = 0.07342\n",
      "Epoch   5 /  50. Loss = 0.06375\n",
      "Epoch   6 /  50. Loss = 0.05769\n",
      "Epoch   7 /  50. Loss = 0.05220\n",
      "Epoch   8 /  50. Loss = 0.04824\n",
      "Epoch   9 /  50. Loss = 0.04503\n",
      "Epoch  10 /  50. Loss = 0.04203\n",
      "Epoch  11 /  50. Loss = 0.04157\n",
      "Epoch  12 /  50. Loss = 0.03955\n",
      "Epoch  13 /  50. Loss = 0.03745\n",
      "Epoch  14 /  50. Loss = 0.03591\n",
      "Epoch  15 /  50. Loss = 0.03397\n",
      "Epoch  16 /  50. Loss = 0.03318\n",
      "Epoch  17 /  50. Loss = 0.03134\n",
      "Epoch  18 /  50. Loss = 0.03231\n",
      "Epoch  19 /  50. Loss = 0.03066\n",
      "Epoch  20 /  50. Loss = 0.02873\n",
      "Epoch  21 /  50. Loss = 0.02931\n",
      "Epoch  22 /  50. Loss = 0.02754\n",
      "Epoch  23 /  50. Loss = 0.02563\n",
      "Epoch  24 /  50. Loss = 0.02529\n",
      "Epoch  25 /  50. Loss = 0.02453\n",
      "Epoch  26 /  50. Loss = 0.02457\n",
      "Epoch  27 /  50. Loss = 0.02357\n",
      "Epoch  28 /  50. Loss = 0.02467\n",
      "Epoch  29 /  50. Loss = 0.02667\n",
      "Epoch  30 /  50. Loss = 0.02586\n",
      "Epoch  31 /  50. Loss = 0.02250\n",
      "Epoch  32 /  50. Loss = 0.02105\n",
      "Epoch  33 /  50. Loss = 0.02103\n",
      "Epoch  34 /  50. Loss = 0.02315\n",
      "Epoch  35 /  50. Loss = 0.02255\n",
      "Epoch  36 /  50. Loss = 0.02102\n",
      "Epoch  37 /  50. Loss = 0.01848\n",
      "Epoch  38 /  50. Loss = 0.01962\n",
      "Epoch  39 /  50. Loss = 0.01900\n",
      "Epoch  40 /  50. Loss = 0.01923\n",
      "Epoch  41 /  50. Loss = 0.01902\n",
      "Epoch  42 /  50. Loss = 0.01951\n",
      "Epoch  43 /  50. Loss = 0.02282\n",
      "Epoch  44 /  50. Loss = 0.02087\n",
      "Epoch  45 /  50. Loss = 0.02213\n",
      "Epoch  46 /  50. Loss = 0.01984\n",
      "Epoch  47 /  50. Loss = 0.01621\n",
      "Epoch  48 /  50. Loss = 0.01541\n",
      "Epoch  49 /  50. Loss = 0.01579\n",
      "Epoch  50 /  50. Loss = 0.01816\n",
      "MAE: 0.05873126657377393\n",
      "Final MAE: 0.07369258315177354\n"
     ]
    },
    {
     "name": "stdout",
     "output_type": "stream",
     "text": [
      "Wall time: 43.6 s\n"
     ]
    }
   ],
   "source": [
    "%%time\n",
    "\n",
    "scaler = StandardScaler()\n",
    "oof, trained_estimators = pipeline_fit(PyTorch(), df_train, scaler)"
   ]
  },
  {
   "cell_type": "code",
   "execution_count": 28,
   "metadata": {
    "_uuid": "89c77edd347bffde01f93667498b3b69b7dc57c7"
   },
   "outputs": [
    {
     "data": {
      "text/plain": [
       "20"
      ]
     },
     "execution_count": 28,
     "metadata": {},
     "output_type": "execute_result"
    }
   ],
   "source": [
    "del df_train\n",
    "\n",
    "gc.collect()"
   ]
  },
  {
   "cell_type": "markdown",
   "metadata": {
    "_uuid": "ef83b3664766ed832082e6d04b0525df61acefd6"
   },
   "source": [
    "## Load test data"
   ]
  },
  {
   "cell_type": "code",
   "execution_count": 29,
   "metadata": {
    "_uuid": "ea99cfa7d72583071916d398b950246b7d6534a4"
   },
   "outputs": [
    {
     "data": {
      "text/plain": [
       "(1794, 27)"
      ]
     },
     "execution_count": 29,
     "metadata": {},
     "output_type": "execute_result"
    }
   ],
   "source": [
    "df_test = pd.read_csv('./input/test.csv', index_col = 'Id')\n",
    "df_test.shape"
   ]
  },
  {
   "cell_type": "code",
   "execution_count": 30,
   "metadata": {
    "_uuid": "7d8c767a6c47e5e8a56be6e07c10baa6add0899c"
   },
   "outputs": [
    {
     "name": "stdout",
     "output_type": "stream",
     "text": [
      "Memory usage of dataframe is 0.38 MB\n",
      "Memory usage after optimization is: 0.11 MB\n",
      "Decreased by 71.0%\n"
     ]
    }
   ],
   "source": [
    "df_test = reduce_mem_usage(df_test)"
   ]
  },
  {
   "cell_type": "code",
   "execution_count": 31,
   "metadata": {
    "_uuid": "6a9d5dce92f279a6ff2cb51735bed863267f8216"
   },
   "outputs": [],
   "source": [
    "df_test_id = pd.DataFrame(index=df_test.index)"
   ]
  },
  {
   "cell_type": "code",
   "execution_count": 32,
   "metadata": {
    "_uuid": "1a60c44a96d09eedda65f742c0261562b5451f1b"
   },
   "outputs": [
    {
     "data": {
      "text/plain": [
       "80"
      ]
     },
     "execution_count": 32,
     "metadata": {},
     "output_type": "execute_result"
    }
   ],
   "source": [
    "gc.collect()"
   ]
  },
  {
   "cell_type": "markdown",
   "metadata": {
    "_uuid": "90eb05023537baac52fab54a896705c903354010"
   },
   "source": [
    "## PyTorch"
   ]
  },
  {
   "cell_type": "code",
   "execution_count": 33,
   "metadata": {
    "_uuid": "bb3a4c6bf7396bec812658888b6223d96cd67065"
   },
   "outputs": [
    {
     "name": "stdout",
     "output_type": "stream",
     "text": [
      "Memory usage of dataframe is 2.42 MB\n",
      "Memory usage after optimization is: 0.77 MB\n",
      "Decreased by 68.0%\n"
     ]
    }
   ],
   "source": [
    "y = pipeline_predict(trained_estimators, df_test, scaler)"
   ]
  },
  {
   "cell_type": "code",
   "execution_count": 34,
   "metadata": {
    "_uuid": "37e0213066501b2bbaa1f77de9adc7cb0c80b175"
   },
   "outputs": [
    {
     "data": {
      "text/plain": [
       "20"
      ]
     },
     "execution_count": 34,
     "metadata": {},
     "output_type": "execute_result"
    }
   ],
   "source": [
    "del df_test\n",
    "\n",
    "gc.collect()"
   ]
  },
  {
   "cell_type": "markdown",
   "metadata": {
    "_uuid": "bf2e72f157fc61658b2bd8301fd4e5612dac9022"
   },
   "source": [
    "## Save OOF"
   ]
  },
  {
   "cell_type": "code",
   "execution_count": 35,
   "metadata": {
    "_uuid": "a9a11e401c048cd2c9f4bdeb2e91a85478b28bd8"
   },
   "outputs": [],
   "source": [
    "df_oof = pd.DataFrame()\n",
    "df_oof['pytorch_oof'] = oof\n",
    "df_oof.to_csv('pytorch_oof.csv', index_label='id')"
   ]
  },
  {
   "cell_type": "markdown",
   "metadata": {
    "_uuid": "b75a27aa546a89e286c5880bfe77c16870a7ed58"
   },
   "source": [
    "## Submission"
   ]
  },
  {
   "cell_type": "code",
   "execution_count": 36,
   "metadata": {
    "_uuid": "c464dad858f0459d7d6fe51ebb6183241f3f4685"
   },
   "outputs": [],
   "source": [
    "df_submission = pd.DataFrame(index=df_test_id.index)\n",
    "df_submission['winPlacePerc'] = y\n",
    "df_submission.to_csv('pytorch_raw.csv', index_label='Id')"
   ]
  },
  {
   "cell_type": "markdown",
   "metadata": {
    "_uuid": "310047027ad879009596fc0a84d7b24593d925cc"
   },
   "source": [
    "## Adjust predictions"
   ]
  },
  {
   "cell_type": "code",
   "execution_count": 37,
   "metadata": {
    "_uuid": "7d90d99a8a412a6bf01147bdb066f77362e1e33b"
   },
   "outputs": [
    {
     "data": {
      "text/plain": [
       "(1794, 28)"
      ]
     },
     "execution_count": 37,
     "metadata": {},
     "output_type": "execute_result"
    }
   ],
   "source": [
    "df_test = pd.read_csv('./input/test.csv')\n",
    "df_test.shape"
   ]
  },
  {
   "cell_type": "code",
   "execution_count": 38,
   "metadata": {
    "_uuid": "524d02f7822faf364db5cc7683ab13b900c3b086"
   },
   "outputs": [
    {
     "data": {
      "text/html": [
       "<div>\n",
       "<style scoped>\n",
       "    .dataframe tbody tr th:only-of-type {\n",
       "        vertical-align: middle;\n",
       "    }\n",
       "\n",
       "    .dataframe tbody tr th {\n",
       "        vertical-align: top;\n",
       "    }\n",
       "\n",
       "    .dataframe thead th {\n",
       "        text-align: right;\n",
       "    }\n",
       "</style>\n",
       "<table border=\"1\" class=\"dataframe\">\n",
       "  <thead>\n",
       "    <tr style=\"text-align: right;\">\n",
       "      <th></th>\n",
       "      <th>Id</th>\n",
       "      <th>winPlacePerc</th>\n",
       "      <th>matchId</th>\n",
       "      <th>groupId</th>\n",
       "      <th>maxPlace</th>\n",
       "      <th>numGroups</th>\n",
       "    </tr>\n",
       "  </thead>\n",
       "  <tbody>\n",
       "    <tr>\n",
       "      <th>0</th>\n",
       "      <td>c9ce5e5749758a</td>\n",
       "      <td>0.322456</td>\n",
       "      <td>6533442a513d6f</td>\n",
       "      <td>d1d34623858d02</td>\n",
       "      <td>29</td>\n",
       "      <td>27</td>\n",
       "    </tr>\n",
       "    <tr>\n",
       "      <th>1</th>\n",
       "      <td>262418e6a1fd89</td>\n",
       "      <td>0.166025</td>\n",
       "      <td>976f4ae3c91669</td>\n",
       "      <td>f0290ae9582198</td>\n",
       "      <td>49</td>\n",
       "      <td>44</td>\n",
       "    </tr>\n",
       "    <tr>\n",
       "      <th>2</th>\n",
       "      <td>1fdaad049557d9</td>\n",
       "      <td>0.322456</td>\n",
       "      <td>6533442a513d6f</td>\n",
       "      <td>d1d34623858d02</td>\n",
       "      <td>29</td>\n",
       "      <td>27</td>\n",
       "    </tr>\n",
       "    <tr>\n",
       "      <th>3</th>\n",
       "      <td>cb1761d22b957e</td>\n",
       "      <td>0.286276</td>\n",
       "      <td>efd749a746587e</td>\n",
       "      <td>77234d376925f9</td>\n",
       "      <td>50</td>\n",
       "      <td>47</td>\n",
       "    </tr>\n",
       "    <tr>\n",
       "      <th>4</th>\n",
       "      <td>1b86424e60c2e8</td>\n",
       "      <td>0.558887</td>\n",
       "      <td>098d3f2da942e7</td>\n",
       "      <td>19a7b7ce87c841</td>\n",
       "      <td>50</td>\n",
       "      <td>47</td>\n",
       "    </tr>\n",
       "  </tbody>\n",
       "</table>\n",
       "</div>"
      ],
      "text/plain": [
       "               Id  winPlacePerc         matchId         groupId  maxPlace  \\\n",
       "0  c9ce5e5749758a      0.322456  6533442a513d6f  d1d34623858d02        29   \n",
       "1  262418e6a1fd89      0.166025  976f4ae3c91669  f0290ae9582198        49   \n",
       "2  1fdaad049557d9      0.322456  6533442a513d6f  d1d34623858d02        29   \n",
       "3  cb1761d22b957e      0.286276  efd749a746587e  77234d376925f9        50   \n",
       "4  1b86424e60c2e8      0.558887  098d3f2da942e7  19a7b7ce87c841        50   \n",
       "\n",
       "   numGroups  \n",
       "0         27  \n",
       "1         44  \n",
       "2         27  \n",
       "3         47  \n",
       "4         47  "
      ]
     },
     "execution_count": 38,
     "metadata": {},
     "output_type": "execute_result"
    }
   ],
   "source": [
    "df_submission = df_submission.merge(df_test[['Id', 'matchId', 'groupId', 'maxPlace', 'numGroups']], on='Id', how='left')\n",
    "df_submission.head()"
   ]
  },
  {
   "cell_type": "code",
   "execution_count": 39,
   "metadata": {
    "_uuid": "07c43541ee0c0fba99f319412dd2eaaa5986777c"
   },
   "outputs": [
    {
     "data": {
      "text/html": [
       "<div>\n",
       "<style scoped>\n",
       "    .dataframe tbody tr th:only-of-type {\n",
       "        vertical-align: middle;\n",
       "    }\n",
       "\n",
       "    .dataframe tbody tr th {\n",
       "        vertical-align: top;\n",
       "    }\n",
       "\n",
       "    .dataframe thead th {\n",
       "        text-align: right;\n",
       "    }\n",
       "</style>\n",
       "<table border=\"1\" class=\"dataframe\">\n",
       "  <thead>\n",
       "    <tr style=\"text-align: right;\">\n",
       "      <th></th>\n",
       "      <th>Id</th>\n",
       "      <th>winPlacePerc</th>\n",
       "      <th>matchId</th>\n",
       "      <th>groupId</th>\n",
       "      <th>maxPlace</th>\n",
       "      <th>numGroups</th>\n",
       "      <th>adjusted_perc</th>\n",
       "    </tr>\n",
       "  </thead>\n",
       "  <tbody>\n",
       "    <tr>\n",
       "      <th>0</th>\n",
       "      <td>c9ce5e5749758a</td>\n",
       "      <td>0.307692</td>\n",
       "      <td>6533442a513d6f</td>\n",
       "      <td>d1d34623858d02</td>\n",
       "      <td>29</td>\n",
       "      <td>27</td>\n",
       "      <td>0.307692</td>\n",
       "    </tr>\n",
       "    <tr>\n",
       "      <th>1</th>\n",
       "      <td>262418e6a1fd89</td>\n",
       "      <td>0.186047</td>\n",
       "      <td>976f4ae3c91669</td>\n",
       "      <td>f0290ae9582198</td>\n",
       "      <td>49</td>\n",
       "      <td>44</td>\n",
       "      <td>0.186047</td>\n",
       "    </tr>\n",
       "    <tr>\n",
       "      <th>2</th>\n",
       "      <td>1fdaad049557d9</td>\n",
       "      <td>0.307692</td>\n",
       "      <td>6533442a513d6f</td>\n",
       "      <td>d1d34623858d02</td>\n",
       "      <td>29</td>\n",
       "      <td>27</td>\n",
       "      <td>0.307692</td>\n",
       "    </tr>\n",
       "    <tr>\n",
       "      <th>3</th>\n",
       "      <td>cb1761d22b957e</td>\n",
       "      <td>0.304348</td>\n",
       "      <td>efd749a746587e</td>\n",
       "      <td>77234d376925f9</td>\n",
       "      <td>50</td>\n",
       "      <td>47</td>\n",
       "      <td>0.304348</td>\n",
       "    </tr>\n",
       "    <tr>\n",
       "      <th>4</th>\n",
       "      <td>1b86424e60c2e8</td>\n",
       "      <td>0.565217</td>\n",
       "      <td>098d3f2da942e7</td>\n",
       "      <td>19a7b7ce87c841</td>\n",
       "      <td>50</td>\n",
       "      <td>47</td>\n",
       "      <td>0.565217</td>\n",
       "    </tr>\n",
       "  </tbody>\n",
       "</table>\n",
       "</div>"
      ],
      "text/plain": [
       "               Id  winPlacePerc         matchId         groupId  maxPlace  \\\n",
       "0  c9ce5e5749758a      0.307692  6533442a513d6f  d1d34623858d02        29   \n",
       "1  262418e6a1fd89      0.186047  976f4ae3c91669  f0290ae9582198        49   \n",
       "2  1fdaad049557d9      0.307692  6533442a513d6f  d1d34623858d02        29   \n",
       "3  cb1761d22b957e      0.304348  efd749a746587e  77234d376925f9        50   \n",
       "4  1b86424e60c2e8      0.565217  098d3f2da942e7  19a7b7ce87c841        50   \n",
       "\n",
       "   numGroups  adjusted_perc  \n",
       "0         27       0.307692  \n",
       "1         44       0.186047  \n",
       "2         27       0.307692  \n",
       "3         47       0.304348  \n",
       "4         47       0.565217  "
      ]
     },
     "execution_count": 39,
     "metadata": {},
     "output_type": "execute_result"
    }
   ],
   "source": [
    "df_submission_group = df_submission.groupby(['matchId', 'groupId']).first().reset_index()\n",
    "\n",
    "df_submission_group['rank'] = df_submission_group.groupby(['matchId'])['winPlacePerc'].rank()\n",
    "\n",
    "df_submission_group = df_submission_group.merge(df_submission_group.groupby('matchId')['rank'].max().to_frame('max_rank').reset_index(), on='matchId', how='left')\n",
    "\n",
    "df_submission_group['adjusted_perc'] = (df_submission_group['rank'] - 1) / (df_submission_group['numGroups'] - 1)\n",
    "\n",
    "df_submission = df_submission.merge(df_submission_group[['adjusted_perc', 'matchId', 'groupId']], on=['matchId', 'groupId'], how='left')\n",
    "\n",
    "df_submission['winPlacePerc'] = df_submission['adjusted_perc']\n",
    "\n",
    "df_submission.head()"
   ]
  },
  {
   "cell_type": "code",
   "execution_count": 40,
   "metadata": {
    "_uuid": "59307cd5b3e11de317b1f0204c598062fa5cc3b1"
   },
   "outputs": [],
   "source": [
    "df_submission.loc[df_submission.maxPlace == 0, 'winPlacePerc'] = 0\n",
    "df_submission.loc[df_submission.maxPlace == 1, 'winPlacePerc'] = 1"
   ]
  },
  {
   "cell_type": "code",
   "execution_count": 41,
   "metadata": {
    "_uuid": "95bb1520f4adbe5d1b85906fb57944bb51ab4d4b"
   },
   "outputs": [],
   "source": [
    "# Thanks to https://www.kaggle.com/anycode/simple-nn-baseline-4\n",
    "t = df_submission.loc[df_submission.maxPlace > 1]\n",
    "gap = 1.0 / (t.maxPlace.values - 1)\n",
    "fixed_perc = np.around(t.winPlacePerc.values / gap) * gap\n",
    "df_submission.loc[df_submission.maxPlace > 1, 'winPlacePerc'] = fixed_perc"
   ]
  },
  {
   "cell_type": "code",
   "execution_count": 42,
   "metadata": {
    "_uuid": "dbb4614de7985abefb546aa1841ba6adb79d1e8a"
   },
   "outputs": [],
   "source": [
    "df_submission.loc[(df_submission.maxPlace > 1) & (df_submission.numGroups == 1), 'winPlacePerc'] = 0\n",
    "\n",
    "assert df_submission['winPlacePerc'].isnull().sum() == 0"
   ]
  },
  {
   "cell_type": "code",
   "execution_count": 43,
   "metadata": {
    "_uuid": "a9257914773108e990428a8d51eb195c45739203"
   },
   "outputs": [],
   "source": [
    "df_submission[['Id', 'winPlacePerc']].to_csv('pytorch_adjusted.csv', index=False)"
   ]
  },
  {
   "cell_type": "code",
   "execution_count": null,
   "metadata": {},
   "outputs": [],
   "source": []
  }
 ],
 "metadata": {
  "kernelspec": {
   "display_name": "Python 3",
   "language": "python",
   "name": "python3"
  },
  "language_info": {
   "codemirror_mode": {
    "name": "ipython",
    "version": 3
   },
   "file_extension": ".py",
   "mimetype": "text/x-python",
   "name": "python",
   "nbconvert_exporter": "python",
   "pygments_lexer": "ipython3",
   "version": "3.7.5"
  }
 },
 "nbformat": 4,
 "nbformat_minor": 1
}
