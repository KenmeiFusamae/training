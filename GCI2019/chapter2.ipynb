{
 "cells": [
  {
   "cell_type": "markdown",
   "metadata": {
    "colab_type": "text",
    "id": "HqWU2vh893fm",
    "nbpresent": {
     "id": "af88da20-0f51-483e-bd72-afc896a9da05"
    }
   },
   "source": [
    "# 2 科学計算、データ加工、グラフ描画ライブラリの使い方の基礎"
   ]
  },
  {
   "cell_type": "code",
   "execution_count": null,
   "metadata": {},
   "outputs": [],
   "source": []
  },
  {
   "cell_type": "markdown",
   "metadata": {
    "colab_type": "text",
    "id": "l12D0Urc93fq"
   },
   "source": [
    "データサイエンスではさまざまな処理が必要になりますが、そのプログラムをすべて1から作っていては作業効率が落ちてしまいます。そこで基本的なデータ分析には、Pythonのライブラリを使います。今回は、Numpy、Scipy、Pandas、Matplotlibというデータ分析でよく使う4つのライブラリについて、基本的な使い方を紹介していきます。今後も使用するライブラリなので、ここでしっかりと基礎を押さえておきましょう。\n",
    "\n",
    "ゴール：Numpy、Scipy、Pandas、Matplotlibのライブラリを読み込み、それらの基本的な役割を知り、使い方がわかる"
   ]
  },
  {
   "cell_type": "markdown",
   "metadata": {
    "colab_type": "text",
    "id": "Bj0fwwDT93fr"
   },
   "source": [
    "- **[2.1-データ分析で使うライブラリ](#2.1-データ分析で使うライブラリ)** \n",
    "    - [2.1.1-ライブラリの読み込み](#2.1.1-ライブラリの読み込み)\n",
    "    - [2.1.2-マジックコマンド](#2.1.2-マジックコマンド)\n",
    "    - [2.1.3-この章で使うライブラリのインポート](#2.1.3-この章で使うライブラリのインポート)\n",
    "<br><br>\n",
    "- **[2.2-Numpyの基礎](#2.2-Numpyの基礎)** \n",
    "    - [2.2.1-Numpyのインポート](#2.2.1-Numpyのインポート)\n",
    "    - [2.2.2-配列操作](#2.2.2-配列操作)\n",
    "    - [2.2.3-乱数](#2.2.3-乱数)\n",
    "    - [2.2.4-行列](#2.2.4-行列)\n",
    "<br><br>\n",
    "- **[2.3 Scipyの基礎](#2.3-Scipyの基礎)** \n",
    "    - [2.3.1 Scipyのライブラリのインポート](#2.3.1-Scipyのライブラリのインポート)\n",
    "    - [2.3.2 行列計算](#2.3.2-行列計算)\n",
    "    - [2.3.3 ニュートン法](#2.3.3-ニュートン法)\n",
    "<br><br>\n",
    "- **[2.4-Pandasの基礎](#2.4-Pandasの基礎)** \n",
    "    - [2.4.1 Pandasのライブラリのインポート](#2.4.1-Pandasのライブラリのインポート)\n",
    "    - [2.4.2 Seriesの使い方](#2.4.2-Seriesの使い方)\n",
    "    - [2.4.3 DataFrameの使い方](#2.4.3-DataFrameの使い方)\n",
    "    - [2.4.4 行列操作](#2.4.4-行列操作)\n",
    "    - [2.4.5 データの抽出](#2.4.5-データの抽出)\n",
    "    - [2.4.6 データの削除と結合](#2.4.6-データの削除と結合)\n",
    "    - [2.4.7 集計](#2.4.7-集計)\n",
    "    - [2.4.8 値のソート](#2.4.8-値のソート)\n",
    "    - [2.4.9 nan（null）の判定](#2.4.9-nan（null）の判定)\n",
    "<br><br>\n",
    "- **[2.5 Matplotlibの基礎](#2.5-Matplotlibの基礎)**\n",
    "    - [2.5.1 Matplotlabを使うための準備](#2.5.1-Matplotlabを使うための準備)\n",
    "    - [2.5.2 散布図](#2.5.2-散布図)\n",
    "    - [2.5.3 グラフの分割](#2.5.3-グラフの分割)\n",
    "    - [2.5.4 関数グラフの描画](#2.5.4-関数グラフの描画)\n",
    "    - [2.5.5 ヒストグラム](#2.5.5-ヒストグラム)\n",
    "<br><br>\n",
    "- **[2.6-総合問題](#2.6-総合問題)**\n",
    "    - [■総合問題2-1-モンテカルロ法](#■総合問題2-1-モンテカルロ法)"
   ]
  },
  {
   "cell_type": "markdown",
   "metadata": {
    "colab_type": "text",
    "id": "auIJs3yy93fs"
   },
   "source": [
    "\n",
    "***"
   ]
  },
  {
   "cell_type": "markdown",
   "metadata": {
    "colab_type": "text",
    "id": "MDqxH1yK93ft",
    "nbpresent": {
     "id": "b0fc1861-b979-45c5-abd0-3b05200de3b6"
    }
   },
   "source": [
    "## 2.1 データ分析で使うライブラリ\n",
    "キーワード：ライブラリ、インポート、マジックコマンド、Numpy、Scipy、Pandas、Matplotlib\n",
    "\n",
    "データサイエンスでは、大量のデータを加工して分析したり、科学計算したりします。そうした計算処理をするためのプログラムを都度、作っていては作業効率が落ちてしまいます。そこで基本的なデータ分析には、Pythonのライブラリを使います。\n",
    "ライブラリとは、自分のプログラムに組み込んで使えるように考慮された外部のプログラムのことです。ライブラリを読み込むことで、自分でいちから処理を書かなくても、複雑な計算ができるようになります。\n",
    "\n",
    "さまざまなライブラリがありますが、データサイエンスでよく使われるライブラリは、次の4つです。今回は、これらの4つのライブラリの基本的な使い方を見ていきます。詳しい使い方は後の講義で学ぶことにします。\n",
    "\n",
    "- Numpy（ナンパイ）：基本的な配列処理や数値計算をするライブラリ。高度で複雑な計算ができるほか、Pythonの通常の計算に比べて処理速度が速い。さまざまなところで使われており、データ分析で使うのに基本中の基本とも言えるライブラリ\n",
    "- Scipy（サイパイ）：Numpyをさらに機能強化するライブラリ。統計や信号計算ができる\n",
    "- Pandas（パンダス）： データフレーム形式でさまざまなデータを加工するためのライブラリ\n",
    "- Matplotlib（マットプロットリブ）： データをグラフ化するためのライブラリ\n",
    "\n",
    "これらの4つのライブラリは、データを前処理したり可視化したりするのに非常に便利なツールです。さまざまなライブラリの基礎となるものでもあり、本講座で紹介する機械学習のScikit-learnなどのライブラリのベースにもなっています。以下の図は、それらのライブラリとの位置付けをイメージ化したものです。"
   ]
  },
  {
   "cell_type": "markdown",
   "metadata": {
    "colab_type": "text",
    "id": "OM8nswya93fu"
   },
   "source": [
    "![comment](https://s3.amazonaws.com/media-p.slid.es/uploads/202361/images/2556567/PyData_Stack.png)"
   ]
  },
  {
   "cell_type": "markdown",
   "metadata": {
    "colab_type": "text",
    "id": "8wVGi21k93fv"
   },
   "source": [
    "### 2.1.1 ライブラリの読み込み\n",
    "\n",
    "ライブラリは、Pythonのモジュールという機能で実装されています。利用するためには、モジュールを読み込む必要があります。モジュールを読み込むための構文はいくつかありますが、代表的な構文は、次の2つです。これらの構文を使ってモジュール（すなわちライブラリ）を読み込んで、利用できるようにすることをモジュールのインポートと言います。\n",
    "下記において「識別名」は、プログラムからそのモジュールを参照するときの名称で、「属性」は、そのモジュールに含まれる機能のことです。\n",
    "\n",
    "（1） `import` モジュール名 `as` 識別名\n",
    "\n",
    "（2） `from` モジュール名 `import` 属性\n",
    "\n",
    "#### importを使った例\n",
    "\n",
    "具体的に、`import`を使ってどのように記述するのかについては、それぞれのライブラリのところで説明しますが、ここで少し例を挙げます。\n",
    "たとえば、 Numpyを利用するには、次のように記述します。"
   ]
  },
  {
   "cell_type": "code",
   "execution_count": 42,
   "metadata": {
    "colab": {},
    "colab_type": "code",
    "id": "izaZC4fi93fw"
   },
   "outputs": [],
   "source": [
    "import numpy as np"
   ]
  },
  {
   "cell_type": "markdown",
   "metadata": {
    "colab_type": "text",
    "id": "hgv6uCW593f1"
   },
   "source": [
    "これは、Numpyというモジュールを「`np`」という識別名でインポートするという意味です。\n",
    "モジュールは機能が階層化されており、「モジュール名.機能名.機能名.…」という書き方をすることで、その機能を実行できます。つまりこの例では、「`np`」という識別名を付けているので、以降、プログラムでは、「`np.機能名`」と記述することで、Numpyが提供する、さまざまな機能を利用できるようになります。\n",
    "\n",
    "なお、この「`np`」という部分には、好きな名前を付けられます。`as`の後ろにどのような名前を指定するのは自由ですが、概ね、元々のライブラリ名を短縮したわかりやすい名前を使うのが慣例です。本講座では「`import numpy as np`」としますが、他の参考文献では、別の名前で参照していることもあるので注意してください。"
   ]
  },
  {
   "cell_type": "markdown",
   "metadata": {
    "colab_type": "text",
    "id": "ZC27fQv393f2"
   },
   "source": [
    "#### fromを使ったインポート\n",
    "\n",
    "階層化しているライブラリでは、「モジュール名.機能名.機能名.…」のように、長く書かなければならなく不便です。それを一部省略するためには、`from`を使って、特定の機能だけ別名を付ける方法があります。\n",
    "たとえば、次のような方法です。"
   ]
  },
  {
   "cell_type": "code",
   "execution_count": 43,
   "metadata": {
    "colab": {},
    "colab_type": "code",
    "id": "YUtJKxSq93f3"
   },
   "outputs": [],
   "source": [
    "from numpy import random"
   ]
  },
  {
   "cell_type": "markdown",
   "metadata": {
    "colab_type": "text",
    "id": "FkZsGBw-93f7"
   },
   "source": [
    "これは、Numpyが提供する`random`という機能（この機能は、あとで紹介するように、乱数と呼ばれるランダムな値を発生する機能です）だけを、以降、「`random.機能名`」という名前で使えるようにする構文です。\n",
    "つまり本来は、「`np.random.機能名`」と記述する必要があるところを、「`random.機能名`」のように、簡易に書けるようになります。"
   ]
  },
  {
   "cell_type": "markdown",
   "metadata": {
    "colab_type": "text",
    "id": "lDitzKIA93f9"
   },
   "source": [
    "### 2.1.2 マジックコマンド"
   ]
  },
  {
   "cell_type": "markdown",
   "metadata": {
    "colab_type": "text",
    "id": "AdCWPKb993f_"
   },
   "source": [
    "すでに説明したように、Jupyter環境では、Pythonのプログラムを記述して、［Run］をクリックすると、その場で実行結果を表示できます。今回説明するライブラリを使ったプログラムも例外ではありません。\n",
    "たとえば、Numpyを使って各種計算をすれば、その計算結果が表示されます。そして、Matplotlibを使ってグラフを描けば、そのグラフが表示されます。\n",
    "\n",
    "このとき、「小数何桁まで表示する」とか「グラフを別画面に表示するか埋め込んで表示するか」などを指定することができると便利です。そこで一部のライブラリでは、こうした設定をJupyter環境（より正確にはJupyterが利用しているIPython環境）から簡単に指定できるよう、「マジックコマンド」という機能を備えています。\n",
    "\n",
    "マジックコマンドとは、Jupyter環境において、さまざまな環境操作をするための命令で、「`%`」から始まるコマンドです。デフォルトでは、「外部コマンドの実行（`%run`）」「ファイルのコピー（`%cp`）」「時間の計測（`%time`）」などの機能が用意されています。\n",
    "\n",
    "一部のライブラリをインポートすると、このマジックコマンドが拡張され、ライブラリの動作の指定ができるようになります。\n",
    "\n",
    ">［メモ］　標準のマジックコマンドは「ビルドインマジックコマンド」と呼ばれます。「`%quickref`」と入力して［Run］をクリックすると、一覧で表示できます。\n",
    "\n",
    "今回扱うライブラリのうち、NumpyとMatplotlibには、次の拡張マジックコマンドがあります。\n",
    "\n",
    "- `%precision` 　Numpyによる拡張です。データを表示する際に、小数、第何桁まで表示するのかを指定します。\n",
    "- `%matplotlib`  Matplotlibによる拡張です。グラフなどの表示方法を指定します。「`inline`」と記述すると、その場所にグラフなどが表示されます。`%matplotlib`を指定しない場合は、別ウィンドウで表示されます。\n",
    "\n",
    "これらの指定を使うと結果が見やすくなるので、本講座では、適時、これらのマジックコマンドを使っていきます。"
   ]
  },
  {
   "cell_type": "markdown",
   "metadata": {
    "colab_type": "text",
    "id": "fNocEuHw93gA"
   },
   "source": [
    "### 2.1.3 今回使うライブラリのインポート\n",
    "\n",
    "Numpy、Scipy、Pandas、Matplotlibの各ライブラリを、次のようにしてインポートするものとします。それぞれの意味については、各ライブラリのところで改めて説明します。"
   ]
  },
  {
   "cell_type": "code",
   "execution_count": 44,
   "metadata": {
    "colab": {},
    "colab_type": "code",
    "id": "nGOJ84W593gB",
    "outputId": "405263be-e4c8-4ebd-cc6d-f7859cb79cbc",
    "scrolled": true
   },
   "outputs": [
    {
     "data": {
      "text/plain": [
       "'%.3f'"
      ]
     },
     "execution_count": 44,
     "metadata": {},
     "output_type": "execute_result"
    }
   ],
   "source": [
    "# 以下のライブラリを使うので、あらかじめ読み込んでおいてください\n",
    "import numpy as np\n",
    "import numpy.random as random\n",
    "import scipy as sp\n",
    "import pandas as pd\n",
    "from pandas import Series, DataFrame\n",
    "\n",
    "# 可視化ライブラリ\n",
    "import matplotlib.pyplot as plt\n",
    "import matplotlib as mpl\n",
    "import seaborn as sns\n",
    "%matplotlib inline\n",
    "\n",
    "# 小数第3位まで表示\n",
    "%precision 3"
   ]
  },
  {
   "cell_type": "markdown",
   "metadata": {
    "colab_type": "text",
    "id": "mgY-c6qe93gG"
   },
   "source": [
    "## 2.2 Numpyの基礎\n",
    "\n",
    "キーワード：多次元配列、転置、行列の積、乱数、復元抽出、非復元抽出"
   ]
  },
  {
   "cell_type": "markdown",
   "metadata": {
    "colab_type": "text",
    "id": "Z3J0W2IV93gI"
   },
   "source": [
    "Numpyは、科学計算でもっともよく使われる基本的なライブラリです。多次元配列を処理することができるなど、機能的に優れているだけでなく、PythonではなくC言語で書かれたモジュールであり、処理が高速なのも特徴です。次の節で説明するScipyなどの数値計算ライブラリの基礎ともなっています。"
   ]
  },
  {
   "cell_type": "markdown",
   "metadata": {
    "colab_type": "text",
    "id": "nkHVDAzx93gJ"
   },
   "source": [
    "### 2.2.1 Numpyのインポート"
   ]
  },
  {
   "cell_type": "markdown",
   "metadata": {
    "colab_type": "text",
    "id": "Er5Ns8Cz93gL"
   },
   "source": [
    "ここでは、Numpyを次のようにしてインポートします。\n",
    "1行目では、「`as np`」としているので、以降のプログラムでは、Numpyライブラリを「`np.機能名`」と表記することで使えます。\n",
    "そして2行目はマジックコマンドです。Jupyter環境において、結果を小数点何桁まで表示するのかという指定です。ここでは、小数第3位まで表示するようにしました。"
   ]
  },
  {
   "cell_type": "code",
   "execution_count": 45,
   "metadata": {
    "colab": {},
    "colab_type": "code",
    "id": "7QZQvTm093gM",
    "outputId": "9c7f0421-47b6-4270-fee9-4a832511985d",
    "scrolled": true
   },
   "outputs": [
    {
     "data": {
      "text/plain": [
       "'%.3f'"
      ]
     },
     "execution_count": 45,
     "metadata": {},
     "output_type": "execute_result"
    }
   ],
   "source": [
    "# Numpyライブラリの読み込み\n",
    "import numpy as np\n",
    "\n",
    "# 小数第3位まで表示という意味\n",
    "%precision 3"
   ]
  },
  {
   "cell_type": "markdown",
   "metadata": {
    "colab_type": "text",
    "id": "3ik9sZ3T93gR"
   },
   "source": [
    "### 2.2.2 配列操作\n",
    "\n",
    "Numpyの基本的な使い方を説明します。ここでは配列の作り方から説明します。"
   ]
  },
  {
   "cell_type": "markdown",
   "metadata": {
    "colab_type": "text",
    "id": "6tWiS3dA93gS"
   },
   "source": [
    "#### 配列\n",
    "\n",
    "まずは、1から10までの配列を作成してみましょう。Numpyにおいて、配列は`array`オブジェクトとして構成されます。これは、`np.array`のように、「インポートしたときに`as`の部分に付けた名前」と「`array`」をピリオドでつなげた名称で指定します。\n",
    "10個の要素を持つ配列を作成する例を以下に示します。配列の要素として設定した値（9, 2, 3,…）は適当なもので、とくに意味はありません。なお、値を綺麗に並べていないのは、のちの例で、並べ替えをする処理を説明するためです。"
   ]
  },
  {
   "cell_type": "code",
   "execution_count": 46,
   "metadata": {
    "colab": {},
    "colab_type": "code",
    "id": "LB_42MLk93gT",
    "outputId": "abc27654-d530-49a1-b55b-64d22e19548d"
   },
   "outputs": [
    {
     "data": {
      "text/plain": [
       "array([ 9,  2,  3,  4, 10,  6,  7,  8,  1,  5])"
      ]
     },
     "execution_count": 46,
     "metadata": {},
     "output_type": "execute_result"
    }
   ],
   "source": [
    "# 配列の作成\n",
    "data = np.array([9, 2, 3, 4, 10, 6, 7, 8, 1, 5])\n",
    "data"
   ]
  },
  {
   "cell_type": "markdown",
   "metadata": {
    "colab_type": "text",
    "id": "HgujaF-493gW"
   },
   "source": [
    "#### データ型\n",
    "Numpyで扱うデータは、高速に計算する目的で、また、計算中に値の精度を保つため、データの「型（`type`）」というものを持っています。\n",
    "データ型とは、「整数」や「浮動小数」などの値の種類のことで、次のような型があります。\n",
    "間違った型を指定すると、目的の精度が出なかったり、処理速度が遅くなったりするので注意しましょう。とくに「整数」として扱うか「浮動小数」で扱うかによって、計算速度が大きく違います。なお、以下に8ビットや16ビットと記載がありますが、ビットとは0か1のどちらかをあらわす単位です。ビット数が大きいほど広範囲の値を表現できる反面、データを確保するための場所（メモリ）が大きくなると理解してください。"
   ]
  },
  {
   "cell_type": "markdown",
   "metadata": {
    "colab_type": "text",
    "id": "mpdUBNbb93gX"
   },
   "source": [
    "■`int` (符号付きの整数)\n",
    "\n",
    "|データ型|概要|\n",
    "|:--|:--|\n",
    "|`int8`|8ビットの符号付き整数|\n",
    "|`int16`|16ビットの符号付き整数|\n",
    "|`int32`|32ビットの符号付き整数|\n",
    "|`int64`|64ビットの符号付き整数|"
   ]
  },
  {
   "cell_type": "markdown",
   "metadata": {
    "colab_type": "text",
    "id": "bvFQu-by93gY"
   },
   "source": [
    "■`uint` (符号なしの整数)\n",
    "\n",
    "|データ型|概要|\n",
    "|:--|:--|\n",
    "|`uint8`|8ビットの符号なし整数|\n",
    "|`uint16`|16ビットの符号なし整数|\n",
    "|`uint32`|32ビットの符号なし整数|\n",
    "|`uint64`|64ビットの符号なし整数|\n"
   ]
  },
  {
   "cell_type": "markdown",
   "metadata": {
    "colab_type": "text",
    "id": "TKdLuvvi93gZ"
   },
   "source": [
    "■`float` (浮動小数点数)\n",
    "\n",
    "|データ型|概要|\n",
    "|:--|:--|\n",
    "|`float16`|16ビットの浮動小数点数|\n",
    "|`float32`|32ビットの浮動小数点数|\n",
    "|`float64`|64ビットの浮動小数点数|\n",
    "|`float128`|128ビットの浮動小数点数|\n"
   ]
  },
  {
   "cell_type": "markdown",
   "metadata": {
    "colab_type": "text",
    "id": "gzvZu6V493ga"
   },
   "source": [
    "■`bool` （真偽値）\n",
    "\n",
    "|データ型|概要|\n",
    "|:--|:--|\n",
    "|`bool`|`True`か`False`で表される、真偽値|\n"
   ]
  },
  {
   "cell_type": "markdown",
   "metadata": {
    "colab_type": "text",
    "id": "8kKJE2OZ93ga"
   },
   "source": [
    "型を調べるには、変数の後ろに「`.dtype`」のように指定します。結果は、次のように「`int32`」と表示されます。これは32ビットの長さの整数型という意味です。"
   ]
  },
  {
   "cell_type": "code",
   "execution_count": 47,
   "metadata": {
    "colab": {},
    "colab_type": "code",
    "id": "X0cvrwWU93gb",
    "outputId": "21ebacbc-9e36-4e00-c333-e4a79afc236e"
   },
   "outputs": [
    {
     "data": {
      "text/plain": [
       "dtype('int64')"
      ]
     },
     "execution_count": 47,
     "metadata": {},
     "output_type": "execute_result"
    }
   ],
   "source": [
    "# データの型\n",
    "data.dtype"
   ]
  },
  {
   "cell_type": "markdown",
   "metadata": {
    "colab_type": "text",
    "id": "hvv88DQc93ge"
   },
   "source": [
    "「`.dtype`」という書き方は、「そのオブジェクトの`dtype`プロパティを参照する」という意味です。このようにピリオドで区切って、オブジェクトの状態を調べたり、オブジェクトが持つ機能（関数・メソッド・プロパティ）を実行したりするのは、オブジェクト型プログラミングの特徴です。\n",
    "\n",
    "ちなみに、「.」を入力した後に <kbd>Tab</kbd>キーを押すと、その変数がもっているプロパティやメソッドの一覧が表示されるので、そこから該当のものを選ぶこともできます。そうすることで、すべてのプロパティやメソッドを正確に覚える必要がなくなり、タイプミスも減ります。"
   ]
  },
  {
   "cell_type": "markdown",
   "metadata": {
    "colab_type": "text",
    "id": "d2c4EPQK93gf"
   },
   "source": [
    "<img src=\"figures/chap2_01_sitei.png\">"
   ]
  },
  {
   "cell_type": "markdown",
   "metadata": {
    "colab_type": "text",
    "id": "VBLlABfi93gg"
   },
   "source": [
    ">**[ポイント]**\n",
    ">\n",
    ">作業（コーディング）を早く正確にするためには、<kbd>Tab</kbd>を使いなそう。"
   ]
  },
  {
   "cell_type": "markdown",
   "metadata": {
    "colab_type": "text",
    "id": "1dIT3nf893gh"
   },
   "source": [
    "#### 次元数と要素数\n",
    "\n",
    "配列の次元数と要素数を取得するには、それぞれ、`ndim`プロパティと`size`プロパティを参照します。これらのプロパティを確認すれば、データの大きさなどが、どのぐらいなのかがわかります。以下は次元数が1、要素数が10になっています。"
   ]
  },
  {
   "cell_type": "code",
   "execution_count": 48,
   "metadata": {
    "colab": {},
    "colab_type": "code",
    "id": "KyvobBL993gi",
    "outputId": "ef3caeb1-f086-46f1-ccab-694a0650ad65"
   },
   "outputs": [
    {
     "name": "stdout",
     "output_type": "stream",
     "text": [
      "次元数: 1\n",
      "要素数: 10\n"
     ]
    }
   ],
   "source": [
    "print('次元数:', data.ndim)\n",
    "print('要素数:', data.size)"
   ]
  },
  {
   "cell_type": "markdown",
   "metadata": {
    "colab_type": "text",
    "id": "Hmn_mwNP93gn"
   },
   "source": [
    "#### すべての要素に対する計算\n",
    "\n",
    "すでに見たように、Pythonにおいて、Numpyではない、ふつうの配列（リスト）の、すべての要素を係数倍にするには、`for`を使ったループ処理が必要です。\n",
    "しかしNumpyの場合は、たとえば2倍にするのであれば、次のように、配列に対して「`*2`」と記述するだけで、すべての要素が2倍になります。"
   ]
  },
  {
   "cell_type": "code",
   "execution_count": 49,
   "metadata": {
    "colab": {},
    "colab_type": "code",
    "id": "5boqBGbz93go",
    "outputId": "d7166fb8-8941-416a-de0d-6a0d6a07a059"
   },
   "outputs": [
    {
     "data": {
      "text/plain": [
       "array([18,  4,  6,  8, 20, 12, 14, 16,  2, 10])"
      ]
     },
     "execution_count": 49,
     "metadata": {},
     "output_type": "execute_result"
    }
   ],
   "source": [
    "# それぞれの数字を係数倍（ここでは2倍）\n",
    "data * 2"
   ]
  },
  {
   "cell_type": "markdown",
   "metadata": {
    "colab_type": "text",
    "id": "UHthOGT693gr"
   },
   "source": [
    "それぞれの要素での掛け算や割り算も、`for`文などを使わずに簡単に計算できます。"
   ]
  },
  {
   "cell_type": "code",
   "execution_count": 50,
   "metadata": {
    "colab": {},
    "colab_type": "code",
    "id": "J2nyhN-593gs",
    "outputId": "c51a58c8-c4d7-409c-d35f-252991367a6d"
   },
   "outputs": [
    {
     "name": "stdout",
     "output_type": "stream",
     "text": [
      "掛け算: [10 18 24 28 30 30 28 24 18 10]\n",
      "累乗: [  1   4   9  16  25  36  49  64  81 100]\n",
      "割り算: [ 0.1    0.222  0.375  0.571  0.833  1.2    1.75   2.667  4.5   10.   ]\n"
     ]
    }
   ],
   "source": [
    "# それぞれの要素同士での演算\n",
    "print('掛け算:', np.array([1, 2, 3, 4, 5, 6, 7, 8, 9, 10]) * np.array([10, 9, 8, 7, 6, 5, 4, 3, 2, 1]))\n",
    "print('累乗:', np.array([1, 2, 3, 4, 5, 6, 7, 8, 9, 10]) ** 2)\n",
    "print('割り算:', np.array([1, 2, 3, 4, 5, 6, 7, 8, 9, 10]) / np.array([10, 9, 8, 7, 6, 5, 4, 3, 2, 1]))"
   ]
  },
  {
   "cell_type": "markdown",
   "metadata": {
    "colab_type": "text",
    "id": "zCafd10-93gv"
   },
   "source": [
    "#### 並べ替え（ソート）\n",
    "\n",
    "データを並べ替えるには、`sort`メソッドを使います。デフォルトでは、昇順（小さい数字から大きい数字）になります。"
   ]
  },
  {
   "cell_type": "code",
   "execution_count": 51,
   "metadata": {
    "colab": {},
    "colab_type": "code",
    "id": "LV8ZDLs593gx",
    "outputId": "67610ad4-5bc8-4b9c-98b8-10d56acb2e53"
   },
   "outputs": [
    {
     "name": "stdout",
     "output_type": "stream",
     "text": [
      "そのまま： [ 9  2  3  4 10  6  7  8  1  5]\n",
      "ソート後： [ 1  2  3  4  5  6  7  8  9 10]\n"
     ]
    }
   ],
   "source": [
    "# 現在の値を表示\n",
    "print('そのまま：', data)\n",
    "\n",
    "# ソートした結果を表示\n",
    "data.sort()\n",
    "print('ソート後：', data)"
   ]
  },
  {
   "cell_type": "markdown",
   "metadata": {
    "colab_type": "text",
    "id": "fRV3SLwg93g2"
   },
   "source": [
    "なお、`sort`メソッドは、元のデータ（`data`）を置き換えるので注意しましょう。再度`data`を表示すると、ソート後のデータになっているのがわかります。"
   ]
  },
  {
   "cell_type": "code",
   "execution_count": 52,
   "metadata": {
    "colab": {},
    "colab_type": "code",
    "id": "muWBhIzV93g3",
    "outputId": "25e9c836-f971-4574-c78b-259c851e9129",
    "scrolled": true
   },
   "outputs": [
    {
     "name": "stdout",
     "output_type": "stream",
     "text": [
      "[ 1  2  3  4  5  6  7  8  9 10]\n"
     ]
    }
   ],
   "source": [
    "print(data)"
   ]
  },
  {
   "cell_type": "markdown",
   "metadata": {
    "colab_type": "text",
    "id": "jPPz8l7893g6"
   },
   "source": [
    "降順（大きい数字から小さい数字）にしたい場合は、`data[::-1].sort()`のように、**スライス**を使って操作します。\n",
    "スライスはPythonの機能で、`[n:m:s]`のように記述すると、「`n`番目から`m-1`番目を、`s`ずつ飛ばして取り出す」という意味になります。`n`や`m`を省略したときは「すべて」という意味になります。また`s`が負のときは先頭からではなく、末尾から取り出すことを意味します。つまり、`[::-1]`は、「末尾から1つずつ取り出す」という意味になります。つまり、`sort`メソッドを実行して昇順にした結果を逆順で取り出すので、最終的な結果として、その逆の降順としてデータを取り出せるということになります。"
   ]
  },
  {
   "cell_type": "code",
   "execution_count": 53,
   "metadata": {
    "colab": {},
    "colab_type": "code",
    "id": "WN-lsNo493g9",
    "outputId": "04a392be-1709-4b90-9dc4-cce7eb93a62f"
   },
   "outputs": [
    {
     "name": "stdout",
     "output_type": "stream",
     "text": [
      "ソート後： [10  9  8  7  6  5  4  3  2  1]\n"
     ]
    }
   ],
   "source": [
    "data[::-1].sort()\n",
    "print('ソート後：', data)"
   ]
  },
  {
   "cell_type": "markdown",
   "metadata": {
    "colab_type": "text",
    "id": "neCsc7Lt93hC"
   },
   "source": [
    "並べ替えの補足説明として、昇順と降順どちらが大きい順番に並べるのか混乱する人が多いのですが、たとえば、降順は下に降りて行くので大きいもの順で、昇順は上に登って行くので小さいもの順だとイメージを持てば、覚えやすいです。\n",
    "\n",
    "なお、sortメソッドはマーケティング用途では、ある店舗別の売り上げランキングやユーザーのWebサイトの訪問回数のランキング計算などに使うことができます。"
   ]
  },
  {
   "cell_type": "markdown",
   "metadata": {
    "colab_type": "text",
    "id": "QwEygeKi93hD"
   },
   "source": [
    "#### 最小、最大、合計、積上の計算\n",
    "Numpyのarrayデータは、`min`メソッドや`max`メソッドを呼び出すことで、最小値や最大値なども求めることができます。`cumsum`というメソッドは積上（前から順に足し上げていく）演算です。0番目の要素はそのまま、1番目の要素は0番目の要素+1番目の要素、2番目の要素は0番目の要素+1番目の要素+2番目の要素、…、という具合に足し上げたものです。"
   ]
  },
  {
   "cell_type": "code",
   "execution_count": 54,
   "metadata": {
    "colab": {},
    "colab_type": "code",
    "id": "UhByNai-93hE",
    "outputId": "eb83af10-0312-45d5-a11b-6e250d3e657f",
    "scrolled": true
   },
   "outputs": [
    {
     "name": "stdout",
     "output_type": "stream",
     "text": [
      "Min: 1\n",
      "Max: 10\n",
      "Sum: 55\n",
      "Cum: [10 19 27 34 40 45 49 52 54 55]\n",
      "Ratio: [0.182 0.345 0.491 0.618 0.727 0.818 0.891 0.945 0.982 1.   ]\n"
     ]
    }
   ],
   "source": [
    "# 最小値\n",
    "print('Min:', data.min())\n",
    "# 最大値\n",
    "print('Max:', data.max())\n",
    "# 合計\n",
    "print('Sum:', data.sum())\n",
    "# 積み上げ\n",
    "print('Cum:', data.cumsum())\n",
    "# 積み上げ割合\n",
    "print('Ratio:', data.cumsum() / data.sum())"
   ]
  },
  {
   "cell_type": "markdown",
   "metadata": {
    "colab_type": "text",
    "id": "mukgJC9O93hI"
   },
   "source": [
    "### 2.2.3 乱数\n",
    "\n",
    "乱数とは、簡単にいうと、規則性のないデタラメな数をいいます。データ分析において、収集したデータをランダムに分離したり、ランダムな値を加えてばらつきを出したりするときに使います。\n",
    "乱数の機能はPythonにもありますが、データ分析の分野ではNumpyの乱数機能を使うことが多いです。\n",
    "Numpyをインポートしているのであれば、「`np.random`」のように記述することで、Numpyの乱数機能を使えます。"
   ]
  },
  {
   "cell_type": "markdown",
   "metadata": {
    "colab_type": "text",
    "id": "2p19Uv3R93hJ"
   },
   "source": [
    "また、インポートするときに次のように記述すれば、もし「`np.random`」と記述する代わりに、「`np.`」を省略して「`random`」と略記できます。以下では、このようにインポートして、「`random.機能名`」と書くだけで、乱数の機能が使えるようにしたことを前提でプログラムを記述します。"
   ]
  },
  {
   "cell_type": "code",
   "execution_count": 55,
   "metadata": {
    "colab": {},
    "colab_type": "code",
    "id": "B8vq-AVj93hK"
   },
   "outputs": [],
   "source": [
    "import numpy.random as random"
   ]
  },
  {
   "cell_type": "markdown",
   "metadata": {
    "colab_type": "text",
    "id": "aotW2V2v93hN"
   },
   "source": [
    "#### 乱数のシード\n",
    "\n",
    "乱数はまったくのランダムな数というわけではなく、疑似乱数と呼ばれるもので、数式によってランダムな値を作り出すものです。そのランダムな値の初期値を**シード**と言い、`random.seed`を使って指定できます。\n",
    "たとえば、次のようにシードを「0」に設定します。"
   ]
  },
  {
   "cell_type": "code",
   "execution_count": 56,
   "metadata": {
    "colab": {},
    "colab_type": "code",
    "id": "xQnrbems93hO"
   },
   "outputs": [],
   "source": [
    "random.seed(0)"
   ]
  },
  {
   "cell_type": "markdown",
   "metadata": {
    "colab_type": "text",
    "id": "fmq3IlkM93hQ"
   },
   "source": [
    "`random.seed`の呼び出しは必須ではありませんが、同じシード値を指定した場合は、何度実行しても、同じ乱数が得られることが担保されます。データ分析では、まったくのランダムな値が得られてしまうと、解析結果が、都度変わってしまう可能性があります。データ分析では、後から検証することが多いので、その一貫性を担保するために、シードを設定することが多いです。このように、シード値を設定しておくと実行のたびに結果が変わってしまうことがありません。\n",
    "\n",
    "#### 乱数の発生\n",
    "\n",
    "乱数といっても、実はさまざまな乱数があり、Numpyでそれらを作成できます。たとえば、平均0、標準偏差1の正規分布の乱数を取得するには、`random.randn`を使います。次の例は、そのような10個の乱数を得る例です。"
   ]
  },
  {
   "cell_type": "code",
   "execution_count": 57,
   "metadata": {
    "colab": {},
    "colab_type": "code",
    "id": "jP_Er8E793hR",
    "outputId": "f2601968-c6ee-45bd-9bb8-3c3db5ecf76d"
   },
   "outputs": [
    {
     "name": "stdout",
     "output_type": "stream",
     "text": [
      "乱数10個の配列: [ 1.764  0.4    0.979  2.241  1.868 -0.977  0.95  -0.151 -0.103  0.411]\n"
     ]
    }
   ],
   "source": [
    "random.seed(0)\n",
    "\n",
    "# 正規分布（平均0、分散1）の乱数を10個発生 \n",
    "rnd_data = random.randn(10)\n",
    "\n",
    "print('乱数10個の配列:', rnd_data)"
   ]
  },
  {
   "cell_type": "markdown",
   "metadata": {
    "colab_type": "text",
    "id": "nRnYw8uu93hV"
   },
   "source": [
    "`randn`以外にも、次に示す機能があり、どのような種類の乱数が欲しいのかによって、適切なものを選ぶようにします。分布については、確率統計を扱う講義の時に学びます。"
   ]
  },
  {
   "cell_type": "markdown",
   "metadata": {
    "colab_type": "text",
    "id": "bEWcINT593hW"
   },
   "source": [
    "| 機能 | 意味 |\n",
    "|:---------|:-------|\n",
    "| `rand` | 一様分布。0.0以上、1.0未満 |\n",
    "| `random_sample` | 一様分布。0.0以上、1.0未満（`rand`とは引数の指定方法が異なる） |\n",
    "| `randint` | 一様分布。任意の範囲の整数 |\n",
    "| `randn` | 正規分布。平均0、標準偏差1の乱数 |\n",
    "| `normal` | 正規分布。任意の平均、標準偏差の乱数 |\n",
    "| `binomial` | 二項分布の乱数 |\n",
    "| `beta` | ベータ分布の乱数 |\n",
    "| `gamma` | ガンマ分布の乱数 |\n",
    "| `chisquare` | カイ二乗分布の乱数 |"
   ]
  },
  {
   "cell_type": "markdown",
   "metadata": {
    "colab_type": "text",
    "id": "JKtOVIlk93hX"
   },
   "source": [
    "#### データのランダムな抽出\n",
    "\n",
    "データサイエンスにおいて、与えられたデータ列から、ランダムなものを取り出す操作はよく行われます。そのようなときは、`random.choice`を使います。`random.choice`には、2つの引数と1つのオプションを指定します。1つ目の引数は、操作対象の配列、2つ目は取り出す数です。オプションは`replace`です。`replace`を`True`にする、もしくは省略したときは、取り出すときに重複を許します。これを**復元抽出**と言います。`replace`を`False`にしたときは、データの重複を許さずに取り出します。これを**非復元抽出**と言います。"
   ]
  },
  {
   "cell_type": "code",
   "execution_count": 58,
   "metadata": {
    "colab": {},
    "colab_type": "code",
    "id": "RQXchnxa93hY",
    "outputId": "40f979ff-d2b3-4f6d-b210-e44059d121ef"
   },
   "outputs": [
    {
     "name": "stdout",
     "output_type": "stream",
     "text": [
      "[ 7  8  8  1  2  6  5  1  5 10]\n",
      "[10  2  7  8  3  1  6  5  9  4]\n"
     ]
    }
   ],
   "source": [
    "# 抽出対象データ\n",
    "data = np.array([9,2,3,4,10,6,7,8,1,5])\n",
    "\n",
    "# ランダム抽出\n",
    "# 10個を抽出（重複あり、復元抽出）\n",
    "print(random.choice(data, 10))\n",
    "# 10個を抽出（重複なし、非復元抽出)\n",
    "print(random.choice(data, 10, replace = False)) "
   ]
  },
  {
   "cell_type": "markdown",
   "metadata": {
    "colab_type": "text",
    "id": "05iheDLY93hk"
   },
   "source": [
    "復元抽出では、同じ数字が何個かありますが、非復元抽出では、同じ数字が入ることはありません。"
   ]
  },
  {
   "cell_type": "markdown",
   "metadata": {
    "colab_type": "text",
    "id": "uLBEJ3bv93ho"
   },
   "source": [
    ">**[やってみよう]**\n",
    ">\n",
    ">`seed(0)`の`0`を変えたり、ランダム抽出の数を増やしたりして、結果がどう変化するのかを確認しましょう。"
   ]
  },
  {
   "cell_type": "markdown",
   "metadata": {
    "colab_type": "text",
    "id": "iU0Cg6TC93hp"
   },
   "source": [
    "#### ■コラム　Numpyは高速"
   ]
  },
  {
   "cell_type": "markdown",
   "metadata": {
    "colab_type": "text",
    "id": "zqMWAOqs93hr"
   },
   "source": [
    "Numpyは計算速度が速いのも特徴です。どのぐらい速いのか計測してみましょう。次の例は、乱数を$10^6$個発生させて、それを合計する実装です。\n",
    "「`sum(normal_data)`」が普通の処理、「`np.sum(numpy_random_data)`」がNumpyを使った処理です。"
   ]
  },
  {
   "cell_type": "code",
   "execution_count": 59,
   "metadata": {
    "colab": {},
    "colab_type": "code",
    "id": "l76CTgus93hx",
    "outputId": "96332a4d-8c84-4a49-e889-db50c9fb9f87"
   },
   "outputs": [
    {
     "name": "stdout",
     "output_type": "stream",
     "text": [
      "12.4 ms ± 12.2 µs per loop (mean ± std. dev. of 7 runs, 100 loops each)\n",
      "442 µs ± 208 ns per loop (mean ± std. dev. of 7 runs, 1000 loops each)\n"
     ]
    }
   ],
   "source": [
    "# Nは乱数の発生数、10の6乗\n",
    "N = 10**6\n",
    "\n",
    "# Python版 (以下のrange(N)は0からN-1までの整数を用意しています。 \n",
    "# 「_」は、代入した値を参照しないときに使う慣例的な変数名です。\n",
    "# たとえば、for a in range(N)と書くのと同じですが、aと書くと、その値をあとで使うように見えるので、\n",
    "# その値を参照しないときは、for _ in range(N)のように慣例的に書く書き方です\n",
    "normal_data = [random.random() for _ in range(N)]\n",
    "\n",
    "# Numoy版\n",
    "numpy_random_data = np.array(normal_data)\n",
    "\n",
    "# calc time :合計値\n",
    "# ふつうの処理\n",
    "%timeit sum(normal_data)\n",
    "\n",
    "# Numpyを使った処理\n",
    "%timeit np.sum(numpy_random_data)"
   ]
  },
  {
   "cell_type": "markdown",
   "metadata": {
    "colab_type": "text",
    "id": "lJAjbLMt93h1"
   },
   "source": [
    "普通に演算するよりも、Numpyを使った方（`np.sum()`）が速いことがわかります。\n",
    "`%timeit`は100回同じ処理をして、ベスト3の平均計算時間を返すマジックコマンドです（Jupyter環境でRunを実行すると、100回実行されるのですから、その実行結果が表示されるまでには、しばらく時間がかかりますが、それは正常な動作です）。\n",
    "たとえば、「`100 loops, best of 3: 5.78 ms per loop`」と表示されたときは、100回計算して、ベスト3の計算時間平均が5.78ミリ秒という意味です。\n",
    "実行回数と平均回数は、それぞれ`n`オプションと`r`オプションで変更できます。たとえば、「`%timeit -n 10000 -r 5 sum(normal_data)`」のようにすれば、1万回、ベスト5の平均計算時間という意味になります。なお、msはミリ秒で、µsはマイクロ秒（ミリ秒の1000分の1）です。"
   ]
  },
  {
   "cell_type": "markdown",
   "metadata": {
    "colab_type": "text",
    "id": "azrwRNnj93h3"
   },
   "source": [
    ">**[ポイント]**\n",
    ">\n",
    ">処理を高速化したいときは、`%timeit` を使いながら、計算時間をチェックしましょう。"
   ]
  },
  {
   "cell_type": "markdown",
   "metadata": {
    "colab_type": "text",
    "id": "P6bRvs3S93h4"
   },
   "source": [
    "### 2.2.4 行列"
   ]
  },
  {
   "cell_type": "markdown",
   "metadata": {
    "colab_type": "text",
    "id": "U8aK92r293h4"
   },
   "source": [
    "Numpyを使うと行列計算もできます。\n",
    "まずは、行列の作成方法から説明します。次の例は、0〜8までの数字を3×3行列で表現するものです。`arange`関数は指定した連続した整数を発生する機能を持ちます。`arrange(9)`とした場合、0から8までの整数を発生します。それを`reshape`関数で3×3の行列に分割しています。\n",
    "これで変数`array1`に3×3の行列が作られます。"
   ]
  },
  {
   "cell_type": "code",
   "execution_count": 60,
   "metadata": {
    "colab": {},
    "colab_type": "code",
    "id": "uaEA_Hck93h5",
    "outputId": "f43524a3-6398-4503-93ab-23659c3846f4"
   },
   "outputs": [
    {
     "data": {
      "text/plain": [
       "array([0, 1, 2, 3, 4, 5, 6, 7, 8])"
      ]
     },
     "execution_count": 60,
     "metadata": {},
     "output_type": "execute_result"
    }
   ],
   "source": [
    "np.arange(9)"
   ]
  },
  {
   "cell_type": "code",
   "execution_count": 61,
   "metadata": {
    "colab": {},
    "colab_type": "code",
    "id": "tIcykxG093h8",
    "outputId": "444aaad2-ca1f-4588-81c1-11178d54a663"
   },
   "outputs": [
    {
     "name": "stdout",
     "output_type": "stream",
     "text": [
      "[[0 1 2]\n",
      " [3 4 5]\n",
      " [6 7 8]]\n"
     ]
    }
   ],
   "source": [
    "# データの準備\n",
    "array1 = np.arange(9).reshape(3,3)\n",
    "print(array1)"
   ]
  },
  {
   "cell_type": "markdown",
   "metadata": {
    "colab_type": "text",
    "id": "8PByu5HJ93iA"
   },
   "source": [
    "行列から、行や列のみを抜き出したいときは、「[行範囲:列範囲]」のように表記します。それぞれの範囲は、「開始インデックス,終了インデックス」のように、カンマで区切って指定します。開始インデックスや終了インデックスを省略したときは、それぞれ「最初から」「末尾まで」という意味になります。\n",
    "たとえば、次のように「`[0,:]`」を指定すると、「行は1行目」「列はすべて」という意味になるので、1行目のすべての列を取り出すことができます。なお、インデックスは0からはじまりますが、対象の行列は1からはじまるので注意しましょう。"
   ]
  },
  {
   "cell_type": "code",
   "execution_count": 62,
   "metadata": {
    "colab": {},
    "colab_type": "code",
    "id": "jLHVsW4h93iB",
    "outputId": "01c3edcb-a46a-432e-96e5-d216b24ede3f"
   },
   "outputs": [
    {
     "data": {
      "text/plain": [
       "array([0, 1, 2])"
      ]
     },
     "execution_count": 62,
     "metadata": {},
     "output_type": "execute_result"
    }
   ],
   "source": [
    "# 1行目\n",
    "array1[0,:]"
   ]
  },
  {
   "cell_type": "markdown",
   "metadata": {
    "colab_type": "text",
    "id": "VcQcddM493iE"
   },
   "source": [
    "1列目のすべての行を取り出すには、「`[:,0]`」を指定します。これは「列は1列目」「行はすべて」という意味です。"
   ]
  },
  {
   "cell_type": "code",
   "execution_count": 63,
   "metadata": {
    "colab": {},
    "colab_type": "code",
    "id": "L19vJlz-93iF",
    "outputId": "0103ac11-e038-4ff6-e4d0-95bb6674cc54"
   },
   "outputs": [
    {
     "data": {
      "text/plain": [
       "array([0, 3, 6])"
      ]
     },
     "execution_count": 63,
     "metadata": {},
     "output_type": "execute_result"
    }
   ],
   "source": [
    "# 1列目\n",
    "array1[:,0]"
   ]
  },
  {
   "cell_type": "markdown",
   "metadata": {
    "colab_type": "text",
    "id": "67pG6U5e93iH"
   },
   "source": [
    "#### 行列の演算\n",
    "\n",
    "行列の掛け算をしてみましょう。この計算方法がわからない方は、線形代数の復習をしてください。\n",
    "\n",
    "まずは、掛け算する対象とする行列を作成しましょう。次の例では、3×3の行列を作成し、変数`array2`に代入しています。"
   ]
  },
  {
   "cell_type": "code",
   "execution_count": 64,
   "metadata": {
    "colab": {},
    "colab_type": "code",
    "id": "468cnMYh93iJ",
    "outputId": "319e7b68-88bf-4fea-ff97-d6927149de45"
   },
   "outputs": [
    {
     "name": "stdout",
     "output_type": "stream",
     "text": [
      "[[ 9 10 11]\n",
      " [12 13 14]\n",
      " [15 16 17]]\n"
     ]
    }
   ],
   "source": [
    "array2 = np.arange(9,18).reshape(3,3)\n",
    "print(array2)"
   ]
  },
  {
   "cell_type": "markdown",
   "metadata": {
    "colab_type": "text",
    "id": "RRDOtb0K93iL"
   },
   "source": [
    "この行列と、先の`array1`の行列を掛け算してみましょう。\n",
    "行列の掛け算では、`dot`関数を使います。間違えて`*`を使うと、行列の掛け算ではなく、それぞれの要素を掛け算してしまうので、注意しましょう。"
   ]
  },
  {
   "cell_type": "code",
   "execution_count": 65,
   "metadata": {
    "colab": {},
    "colab_type": "code",
    "id": "An3sorpt93iM",
    "outputId": "ed04c379-0659-453c-becd-2ab950b41191"
   },
   "outputs": [
    {
     "data": {
      "text/plain": [
       "array([[ 42,  45,  48],\n",
       "       [150, 162, 174],\n",
       "       [258, 279, 300]])"
      ]
     },
     "execution_count": 65,
     "metadata": {},
     "output_type": "execute_result"
    }
   ],
   "source": [
    "# 行列の積\n",
    "np.dot(array1, array2)"
   ]
  },
  {
   "cell_type": "code",
   "execution_count": 66,
   "metadata": {
    "colab": {},
    "colab_type": "code",
    "id": "9Buh1hzd93iP",
    "outputId": "5ec4aaa0-2d0a-41cb-e874-86421411e602"
   },
   "outputs": [
    {
     "data": {
      "text/plain": [
       "array([[  0,  10,  22],\n",
       "       [ 36,  52,  70],\n",
       "       [ 90, 112, 136]])"
      ]
     },
     "execution_count": 66,
     "metadata": {},
     "output_type": "execute_result"
    }
   ],
   "source": [
    "# 要素どうしの積\n",
    "array1 * array2"
   ]
  },
  {
   "cell_type": "markdown",
   "metadata": {
    "colab_type": "text",
    "id": "CEGuEGNu93iS"
   },
   "source": [
    "#### 要素が0や1の行列を作る\n",
    "\n",
    "データ分析では、要素が0や1の行列を作りたいことがあります。その場合、「`[0, 0, 0, 0, 0…]`」のようにひとつずつ要素を記述する（もしくは`for`文を使って繰り返し処理で作る）のは大変なので、専用の構文が用意されています。\n",
    "次のように「`np.zeros`」を指定すると、すべての要素が0の行列を作れます。同様に「`np.ones`」は、すべての要素が1の行列を作ります。`dtype`オプションでは、データの型を指定します。`int64`は64ビット整数、`float64`は64ビット浮動小数です。次のコードは、要素がすべて0（`int64`）の2行3列の行列、要素がすべて1（`float64`）の2行3列の行列を、それぞれ作成する例です。"
   ]
  },
  {
   "cell_type": "code",
   "execution_count": 67,
   "metadata": {
    "colab": {},
    "colab_type": "code",
    "id": "r9a5xfVr93iX",
    "outputId": "dc9ae5a6-e894-41c0-ca48-069fbfd088b6",
    "scrolled": true
   },
   "outputs": [
    {
     "name": "stdout",
     "output_type": "stream",
     "text": [
      "[[0 0 0]\n",
      " [0 0 0]]\n",
      "[[1. 1. 1.]\n",
      " [1. 1. 1.]]\n"
     ]
    }
   ],
   "source": [
    "print(np.zeros((2, 3), dtype = np.int64))\n",
    "print(np.ones((2, 3), dtype = np.float64))"
   ]
  },
  {
   "cell_type": "markdown",
   "metadata": {
    "colab_type": "text",
    "id": "zuhEoaZP93if"
   },
   "source": [
    "#### <練習問題 2-1>\n",
    "\n",
    "\n",
    "1から50までの自然数の和を計算するプログラムを書いて、最後の計算結果を表示させるプログラムを書いてください。ただし、np.arrayで1から50までの配列を作り、その総和を求める方法で計算してください。"
   ]
  },
  {
   "cell_type": "markdown",
   "metadata": {
    "colab_type": "text",
    "id": "umcsokO293ih"
   },
   "source": [
    "#### <練習問題 2-2>\n",
    "\n",
    "標準正規分布に従う乱数を10個発生させて配列を作成してください。また、その中での最小値、最大値、合計を求めるプログラムを書いてください。"
   ]
  },
  {
   "cell_type": "markdown",
   "metadata": {
    "colab_type": "text",
    "id": "jxyaoXWb93ii"
   },
   "source": [
    "#### <練習問題 2-3>\n",
    "\n",
    "要素がすべて3の5行5列の行列を作成し、その行列の2乗をする計算をしてみましょう。"
   ]
  },
  {
   "cell_type": "markdown",
   "metadata": {
    "colab_type": "text",
    "id": "KuaugEe_93ii"
   },
   "source": [
    "## 2.3 Scipyの基礎\n",
    "キーワード：逆行列、固有値、固有ベクトル、最適化"
   ]
  },
  {
   "cell_type": "markdown",
   "metadata": {
    "colab_type": "text",
    "id": "j9MyiMPJ93ik"
   },
   "source": [
    "Scipyは、科学技術計算をするためのライブラリで、多様な数学処理（線形代数の計算、フーリエ変換など）ができます。\n",
    "ここでは、線形代数の逆行列や固有値、方程式の解などを求めてみましょう。なお、これらの用語がわからない方は、ネットで調べるか、参考文献にある線形代数の参考書等で学習してください。"
   ]
  },
  {
   "cell_type": "markdown",
   "metadata": {
    "colab_type": "text",
    "id": "Hr1QqbH893im"
   },
   "source": [
    "### 2.3.1 Scipyのライブラリのインポート\n",
    "\n",
    "ここでは、Scipyの線形代数用のライブラリをインポートします。\n",
    "前述の「2.1.3 この章で使うライブラリのインポート」において、「`import scipy as sp`」としてScipyをすでにインポートしていますが、ここで「`as sp`」としているので、「`sp.機能名`」と表記することでScipyライブラリを使えるようになっています。\n",
    "\n",
    "以下ではさらに、線形代数用のライブラリを`linalg`、最適化計算（最小値）用の関数を`minimize_scalar`のように、より短い名前で使えるようにします。"
   ]
  },
  {
   "cell_type": "code",
   "execution_count": 68,
   "metadata": {
    "colab": {},
    "colab_type": "code",
    "id": "HW0r0BYx93in"
   },
   "outputs": [],
   "source": [
    "# 線形代数用のライブラリ\n",
    "import scipy.linalg as linalg\n",
    "\n",
    "# 最適化計算（最小値）用の関数\n",
    "from scipy.optimize import minimize_scalar"
   ]
  },
  {
   "cell_type": "markdown",
   "metadata": {
    "colab_type": "text",
    "id": "_4OeSQD293ip"
   },
   "source": [
    "### 2.3.2 行列計算"
   ]
  },
  {
   "cell_type": "markdown",
   "metadata": {
    "colab_type": "text",
    "id": "9Yb8q7Um93iq"
   },
   "source": [
    "#### 行列式と逆行列の計算\n",
    "\n",
    "まずは行列式を計算する例です。次のように`det`関数を使います。"
   ]
  },
  {
   "cell_type": "code",
   "execution_count": 69,
   "metadata": {
    "colab": {},
    "colab_type": "code",
    "id": "UMuRhTsU93ir",
    "outputId": "c28b86d2-57b8-470b-be53-05a9143bb316"
   },
   "outputs": [
    {
     "name": "stdout",
     "output_type": "stream",
     "text": [
      "行列式\n",
      "-4.0\n"
     ]
    }
   ],
   "source": [
    "matrix = np.array([[1,-1,-1], [-1,1,-1], [-1,-1,1]])\n",
    "\n",
    "# 行列式\n",
    "print('行列式')\n",
    "print(linalg.det(matrix))"
   ]
  },
  {
   "cell_type": "markdown",
   "metadata": {
    "colab_type": "text",
    "id": "3iw8CMLd93iu"
   },
   "source": [
    "逆行列を計算するには、`inv`関数を使います。"
   ]
  },
  {
   "cell_type": "code",
   "execution_count": 70,
   "metadata": {
    "colab": {},
    "colab_type": "code",
    "id": "MhcdxbOe93iv",
    "outputId": "956bdcee-57ec-4466-816f-6cfb23f407b1"
   },
   "outputs": [
    {
     "name": "stdout",
     "output_type": "stream",
     "text": [
      "逆行列\n",
      "[[ 0.  -0.5 -0.5]\n",
      " [-0.5 -0.  -0.5]\n",
      " [-0.5 -0.5  0. ]]\n"
     ]
    }
   ],
   "source": [
    "# 逆行列\n",
    "print('逆行列')\n",
    "print(linalg.inv(matrix))"
   ]
  },
  {
   "cell_type": "markdown",
   "metadata": {
    "colab_type": "text",
    "id": "btYUu5VH93ix"
   },
   "source": [
    "値が正しいかどうかを確認してみましょう。もとの行列と逆行列の積は、単位行列のはずです。次のようにして積を求めると、確かに単位行列となっていることがわかります。"
   ]
  },
  {
   "cell_type": "code",
   "execution_count": 71,
   "metadata": {
    "colab": {},
    "colab_type": "code",
    "id": "si5xi8aK93iy",
    "outputId": "35505d35-be87-4f41-d964-0d09d973fa90"
   },
   "outputs": [
    {
     "name": "stdout",
     "output_type": "stream",
     "text": [
      "[[1. 0. 0.]\n",
      " [0. 1. 0.]\n",
      " [0. 0. 1.]]\n"
     ]
    }
   ],
   "source": [
    "print(matrix.dot(linalg.inv(matrix)))"
   ]
  },
  {
   "cell_type": "markdown",
   "metadata": {
    "colab_type": "text",
    "id": "AOFdPvdA93i1"
   },
   "source": [
    "#### 固有値と固有ベクトル\n",
    "\n",
    "次に、固有値と固有ベクトルを計算してみましょう。`linalg`の`eig`関数を実行すると求められます。"
   ]
  },
  {
   "cell_type": "code",
   "execution_count": 72,
   "metadata": {
    "colab": {},
    "colab_type": "code",
    "id": "sO--D_T793i2",
    "outputId": "c260169d-43da-4cd7-f2e2-a27596cd3760",
    "scrolled": true
   },
   "outputs": [
    {
     "name": "stdout",
     "output_type": "stream",
     "text": [
      "固有値\n",
      "[-1.+0.j  2.+0.j  2.+0.j]\n",
      "固有ベクトル\n",
      "[[ 0.577  0.816  0.408]\n",
      " [ 0.577 -0.408 -0.816]\n",
      " [ 0.577 -0.408  0.408]]\n"
     ]
    }
   ],
   "source": [
    "# 固有値と固有ベクトル\n",
    "eig_value, eig_vector = linalg.eig(matrix)\n",
    "\n",
    "# 固有値と固有ベクトル\n",
    "print('固有値')\n",
    "print(eig_value)\n",
    "print('固有ベクトル')\n",
    "print(eig_vector)"
   ]
  },
  {
   "cell_type": "markdown",
   "metadata": {
    "colab_type": "text",
    "id": "cEkbwN5793i6"
   },
   "source": [
    "### 2.3.3 ニュートン法"
   ]
  },
  {
   "cell_type": "markdown",
   "metadata": {
    "colab_type": "text",
    "id": "jU1JS3aa93i7"
   },
   "source": [
    "最後に、最適化計算を使う方法を説明します。\n",
    "\n",
    "#### 方程式の解を求める\n",
    "\n",
    "まずは、方程式の解を求めてみましょう。ここでは、次の2次関数の解を求めることを考えます。"
   ]
  },
  {
   "cell_type": "markdown",
   "metadata": {
    "colab_type": "text",
    "id": "kTFglz-d93i8"
   },
   "source": [
    "\\begin{eqnarray}\n",
    "f(x) = x^2 + 2x +1\n",
    "\\end{eqnarray}"
   ]
  },
  {
   "cell_type": "markdown",
   "metadata": {
    "colab_type": "text",
    "id": "RmqXWfS_93i8"
   },
   "source": [
    "この解は紙と鉛筆で計算することも可能で、解は-1ですが、ここでは解の近似計算でよく使われるニュートン法を使って求めてみましょう。まずは、上の関数をPythonの関数として定義します。"
   ]
  },
  {
   "cell_type": "code",
   "execution_count": 73,
   "metadata": {
    "colab": {},
    "colab_type": "code",
    "id": "WoomsBKB93i9"
   },
   "outputs": [],
   "source": [
    "# 関数の定義\n",
    "def my_function(x):\n",
    "    return (x**2 + 2*x + 1)"
   ]
  },
  {
   "cell_type": "markdown",
   "metadata": {
    "colab_type": "text",
    "id": "ztk91U8y93jA"
   },
   "source": [
    "次に、$f(x)=0$の解$x$を求めるために、以下で`newton`関数を使います。`newton`関数の1つ目の引数として、いま作成した`my_function`関数をセットし、2つ目の引数には、解を決める条件式となる$f(x)=0$ の$0$をセットします。"
   ]
  },
  {
   "cell_type": "code",
   "execution_count": 74,
   "metadata": {
    "colab": {},
    "colab_type": "code",
    "id": "RbZw9M-E93jB",
    "outputId": "1e245741-018d-406a-e231-96d80c85dce6"
   },
   "outputs": [
    {
     "name": "stdout",
     "output_type": "stream",
     "text": [
      "-0.9999999852953906\n"
     ]
    }
   ],
   "source": [
    "# ニュートン法の読み込み\n",
    "from scipy.optimize import newton\n",
    "\n",
    "# 計算実行\n",
    "print(newton(my_function,0))"
   ]
  },
  {
   "cell_type": "markdown",
   "metadata": {
    "colab_type": "text",
    "id": "4QMrJInA93jG"
   },
   "source": [
    "結果は上記のように、ほぼ-1になっている（数値計算をしているため）ことがわかります。"
   ]
  },
  {
   "cell_type": "markdown",
   "metadata": {
    "colab_type": "text",
    "id": "yOqV31qN93jH"
   },
   "source": [
    "なお、ニュートン法をはじめて聞いた方は検索をするか、数学の専門書で、最適化や数値計算のコーナーで探してみてください。"
   ]
  },
  {
   "cell_type": "markdown",
   "metadata": {
    "colab_type": "text",
    "id": "zlkyITX993jI"
   },
   "source": [
    "#### 最小値を求める\n",
    "\n",
    "次に、この同じ関数$f(x)$における、最小値を求めることを考えます。\n",
    "ここでは、`minimize_scalar`関数を使って、下記のようにします。ここで指定している`method`というパラメータで指定している「`Brent`」は、Brent法を使うことを示します。Brent法とは、放物線補間法と黄金分割法（単峰関数の極値、つまり極大値または極小値を求める方法）を組み合わせた方法で、黄金分割法よりも収束が速いのが特徴です。\n",
    "この講座では、あまり使わないので、用語等については覚えなくても大丈夫ですが、これら以外にも、さまざまなアプローチ方法があるので、時間がある方は調べてみてください。"
   ]
  },
  {
   "cell_type": "code",
   "execution_count": 75,
   "metadata": {
    "colab": {},
    "colab_type": "code",
    "id": "lTUOLyhj93jJ",
    "outputId": "e14637d0-0385-4093-d143-d15812d185bf"
   },
   "outputs": [
    {
     "name": "stdout",
     "output_type": "stream",
     "text": [
      "     fun: 0.0\n",
      "    nfev: 9\n",
      "     nit: 4\n",
      " success: True\n",
      "       x: -1.0000000000000002\n"
     ]
    }
   ],
   "source": [
    "# 計算実行\n",
    "print(minimize_scalar(my_function, method = 'Brent'))"
   ]
  },
  {
   "cell_type": "markdown",
   "metadata": {
    "colab_type": "text",
    "id": "x8jSmoQ393jM"
   },
   "source": [
    "　Scipyは、積分や微分法的式などにも使えますが、今回は、いったんこれで終わりにします。Scipyを使った、さまざまな科学計算については、後の講義で改めて説明します。"
   ]
  },
  {
   "cell_type": "markdown",
   "metadata": {
    "colab_type": "text",
    "id": "tqzhR1o693jN"
   },
   "source": [
    ">**[やってみよう]**\n",
    ">\n",
    ">`my_function`関数の計算式を$f(x)=0$から、さまざまな関数に変更して、最小値などの計算を実行してみましょう。"
   ]
  },
  {
   "cell_type": "markdown",
   "metadata": {
    "colab_type": "text",
    "id": "WLoeu9kt93jN"
   },
   "source": [
    "#### <練習問題 2-4>\n",
    "\n",
    "以下の行列について、行列式を求めてください。\n",
    "\n",
    "$\n",
    "  A = \\left(\n",
    "    \\begin{array}{ccc}\n",
    "      1 & 2 & 3 \\\\\n",
    "      1 & 3 & 2 \\\\\n",
    "      3 & 1 & 2\n",
    "    \\end{array}\n",
    "  \\right)\n",
    "$"
   ]
  },
  {
   "cell_type": "markdown",
   "metadata": {
    "colab_type": "text",
    "id": "MNHXYsy-93jO"
   },
   "source": [
    "#### <練習問題 2-5>\n",
    "\n",
    "<練習問題 2-4>と同じ行列について、逆行列、固有値と固有ベクトルを求めてください。"
   ]
  },
  {
   "cell_type": "markdown",
   "metadata": {
    "colab_type": "text",
    "id": "8lE7OyAy93jP"
   },
   "source": [
    "#### <練習問題 2-6>\n",
    "\n",
    "以下の関数が0となる解を、ニュートン法を用いて求めてみましょう。"
   ]
  },
  {
   "cell_type": "markdown",
   "metadata": {
    "colab_type": "text",
    "id": "90MpMDFZ93jP"
   },
   "source": [
    "\\begin{eqnarray}\n",
    "f(x) = x^3 + 2x+ 1\n",
    "\\end{eqnarray}"
   ]
  },
  {
   "cell_type": "markdown",
   "metadata": {
    "colab_type": "text",
    "id": "TxF8rGUE93jQ"
   },
   "source": [
    "## 2.4 Pandasの基礎\n",
    "キーワード：インデックス、Series、DataFrame、データの操作、データの結合、ソート"
   ]
  },
  {
   "cell_type": "markdown",
   "metadata": {
    "colab_type": "text",
    "id": "6KzJTABh93jR"
   },
   "source": [
    "PandasはPythonでモデリングする（機械学習等を使う）前のいわゆる前処理をするときに便利なライブラリです。さまざまなデータのさまざまな加工処理をスムーズに柔軟に実施することができ、表計算やデータの抽出、検索などの操作ができるようになります。具体例を挙げると、データの中からある条件（男性だけ）を満たす行を抽出したり、ある軸（男女別など）を設定してそれぞれの平均値（身長、体重など）を算出したり、データを結合するなどの操作ができます。DB（データベース）のSQLに慣れている方には扱いやすいと思います。"
   ]
  },
  {
   "cell_type": "markdown",
   "metadata": {
    "colab_type": "text",
    "id": "tTgt8ljt93jS"
   },
   "source": [
    "### 2.4.1 Pandasのライブラリのインポート\n",
    "\n",
    "ここでは、Pandasのライブラリをインポートします。\n",
    "前述の「2.1.3 この章で使うライブラリのインポート」において、「`import pandas as pd`」としてPandasをインポートしているので、「`pd.機能名`」と表記することでPandasライブラリを使えるようになっています。\n",
    "\n",
    "以下ではさらに、一次元の配列を扱うときの`Series`ライブラリと、二次元の配列を扱うときの`DataFrame`ライブラリをインポートします。"
   ]
  },
  {
   "cell_type": "code",
   "execution_count": 76,
   "metadata": {
    "colab": {},
    "colab_type": "code",
    "id": "kvXzdWX793jS",
    "nbpresent": {
     "id": "93a5d1f3-e3b5-4840-95c2-503725844dc3"
    }
   },
   "outputs": [],
   "source": [
    "from pandas import Series, DataFrame"
   ]
  },
  {
   "cell_type": "markdown",
   "metadata": {
    "colab_type": "text",
    "id": "SE8qIw5F93jU"
   },
   "source": [
    "### 2.4.2 Seriesの使い方\n",
    "\n",
    "Seriesは1次元の配列のようなオブジェクトです。PandasのベースはNumpyの`array`です。以下に、`Series`オブジェクトに10個の要素を設定する、簡単な例を示します。\n",
    "実行結果を見ると分かるように、`Series`オブジェクトを`print`すると、2つの組の値が表示されます。先頭の10行文は要素のインデックスと値です。`dtype`はデータの型です。"
   ]
  },
  {
   "cell_type": "code",
   "execution_count": 77,
   "metadata": {
    "colab": {},
    "colab_type": "code",
    "id": "l32UVe5393jV",
    "outputId": "5da6a3c7-536a-4e41-a07a-99e969dd2e13"
   },
   "outputs": [
    {
     "name": "stdout",
     "output_type": "stream",
     "text": [
      "0     0\n",
      "1    10\n",
      "2    20\n",
      "3    30\n",
      "4    40\n",
      "5    50\n",
      "6    60\n",
      "7    70\n",
      "8    80\n",
      "9    90\n",
      "dtype: int64\n"
     ]
    }
   ],
   "source": [
    "# Series\n",
    "sample_pandas_data = pd.Series([0,10,20,30,40,50,60,70,80,90])\n",
    "print(sample_pandas_data)"
   ]
  },
  {
   "cell_type": "markdown",
   "metadata": {
    "colab_type": "text",
    "id": "DzEHPj-I93jZ"
   },
   "source": [
    "インデックスは要素を特定するキーのことです。この例のように、`[0, 10, 20, 30, 40,…]`のように`Series`オブジェクトに対して、値だけを指定した場合、インデックスは先頭から0、1、2…のように連番が付きます。\n",
    "データの値とインデックスの値は、それぞれ次のように、`values`プロパティと`index`プロパティを指定することで、別々に取り出すこともできます。"
   ]
  },
  {
   "cell_type": "code",
   "execution_count": 78,
   "metadata": {
    "colab": {},
    "colab_type": "code",
    "id": "cP2ipKwY93ja",
    "outputId": "c158a419-ff86-4782-a695-3dcd25ce68bd"
   },
   "outputs": [
    {
     "name": "stdout",
     "output_type": "stream",
     "text": [
      "データの値: [ 0 10 20 30 40 50 60 70 80 90]\n",
      "インデックスの値: RangeIndex(start=0, stop=10, step=1)\n"
     ]
    }
   ],
   "source": [
    "print('データの値:', sample_pandas_data.values)\n",
    "print('インデックスの値:', sample_pandas_data.index)"
   ]
  },
  {
   "cell_type": "markdown",
   "metadata": {
    "colab_type": "text",
    "id": "FPtr6VYt93jc"
   },
   "source": [
    "インデックスには任意の数値の範囲を指定できるほか、特定の文字にすることもできます。インデックスとは、ラベル（索引、見出し）のようなもので、このようなラベルを付けることで、データ検索等がしやすくなります。\n",
    "以下は、それぞれの要素に、`a`、`b`、`c`、…というインデックスを付けて値を格納したデータの例です。"
   ]
  },
  {
   "cell_type": "code",
   "execution_count": 79,
   "metadata": {
    "colab": {},
    "colab_type": "code",
    "id": "zIo82pVd93jd",
    "outputId": "3dc55c20-b8b5-4437-f6ba-7aa9809174bc"
   },
   "outputs": [
    {
     "name": "stdout",
     "output_type": "stream",
     "text": [
      "a     0\n",
      "b    10\n",
      "c    20\n",
      "d    30\n",
      "e    40\n",
      "f    50\n",
      "g    60\n",
      "h    70\n",
      "i    80\n",
      "j    90\n",
      "dtype: int64\n"
     ]
    }
   ],
   "source": [
    "# indexをアルファベットでつける\n",
    "sample_pandas_index_data = pd.Series(\n",
    "    [0, 10,20,30,40,50,60,70,80,90],\n",
    "    index=['a', 'b', 'c', 'd', 'e', 'f', 'g', 'h', 'i', 'j'])\n",
    "print(sample_pandas_index_data)"
   ]
  },
  {
   "cell_type": "code",
   "execution_count": 80,
   "metadata": {
    "colab": {},
    "colab_type": "code",
    "id": "r9_6w8J393jf",
    "outputId": "143a3d89-7709-4f0d-cadd-e8218ecf9c5d",
    "scrolled": true
   },
   "outputs": [
    {
     "name": "stdout",
     "output_type": "stream",
     "text": [
      "データの値: [ 0 10 20 30 40 50 60 70 80 90]\n",
      "インデックスの値: Index(['a', 'b', 'c', 'd', 'e', 'f', 'g', 'h', 'i', 'j'], dtype='object')\n"
     ]
    }
   ],
   "source": [
    "print('データの値:', sample_pandas_index_data.values)\n",
    "print('インデックスの値:', sample_pandas_index_data.index)"
   ]
  },
  {
   "cell_type": "markdown",
   "metadata": {
    "colab_type": "text",
    "id": "9xP4ZhXR93jr"
   },
   "source": [
    "### 2.4.3 DataFrameの使い方\n",
    "\n",
    "`DataFrame`オブジェクトは2次元の配列です。それぞれの列で、異なる`dtype`（データ型）を持たせることもできます。\n",
    "下記は、`ID`、`City`、`Birth_year`、`Name`の4つの列を持つデータ構造を示した例です。`print`関数で表示すると、そのデータは表形式で表示されます。"
   ]
  },
  {
   "cell_type": "code",
   "execution_count": 81,
   "metadata": {
    "colab": {},
    "colab_type": "code",
    "id": "lUw5dmSG93js",
    "outputId": "091cc450-3aa1-411b-aef2-767f787fb592"
   },
   "outputs": [
    {
     "name": "stdout",
     "output_type": "stream",
     "text": [
      "    ID      City  Birth_year     Name\n",
      "0  100     Tokyo        1990  Hiroshi\n",
      "1  101     Osaka        1989    Akiko\n",
      "2  102     Kyoto        1992     Yuki\n",
      "3  103  Hokkaido        1997   Satoru\n",
      "4  104     Tokyo        1982    Steve\n"
     ]
    }
   ],
   "source": [
    "attri_data1 = {'ID':['100','101','102','103','104'],\n",
    "               'City':['Tokyo','Osaka','Kyoto','Hokkaido','Tokyo'],\n",
    "               'Birth_year':[1990,1989,1992,1997,1982],\n",
    "               'Name':['Hiroshi','Akiko','Yuki','Satoru','Steve']}\n",
    "\n",
    "attri_data_frame1 = DataFrame(attri_data1)\n",
    "\n",
    "print(attri_data_frame1)"
   ]
  },
  {
   "cell_type": "markdown",
   "metadata": {
    "colab_type": "text",
    "id": "xcla6MWO93jz"
   },
   "source": [
    "一番左列に表示されている`0, 1, 2, 3, 4`の値は、インデックスの値です。`DataFrame`オブジェクトも`Series`オブジェクトと同様にインデックスを変更したり、インデックスとして文字を指定したりすることもできます。\n",
    "次のようにインデックスを指定すると、`attri_data_1`の値に対して新しいインデックスを指定した`attri_data_frame_index1`という`DataFrame`オブジェクトを作ることができます（ここでは`DataFrame`オブジェクトに対して操作しましたが、`Series`も同様の操作で、何か他の`Series`オブジェクトからインデックスを変更した`Series`オブジェクトを作ることができます）。"
   ]
  },
  {
   "cell_type": "code",
   "execution_count": 82,
   "metadata": {
    "colab": {},
    "colab_type": "code",
    "id": "gFxPPSm793j0",
    "outputId": "c85b8fa2-55fe-472a-8e13-7099eedec3c9"
   },
   "outputs": [
    {
     "name": "stdout",
     "output_type": "stream",
     "text": [
      "    ID      City  Birth_year     Name\n",
      "a  100     Tokyo        1990  Hiroshi\n",
      "b  101     Osaka        1989    Akiko\n",
      "c  102     Kyoto        1992     Yuki\n",
      "d  103  Hokkaido        1997   Satoru\n",
      "e  104     Tokyo        1982    Steve\n"
     ]
    }
   ],
   "source": [
    "attri_data_frame_index1 = DataFrame(attri_data1,index=['a','b','c','d','e'])\n",
    "print(attri_data_frame_index1)"
   ]
  },
  {
   "cell_type": "markdown",
   "metadata": {
    "colab_type": "text",
    "id": "g8Htzt_R93j2"
   },
   "source": [
    "#### Jupyter環境におけるデータ表示\n",
    "\n",
    "ここまでは`Series`オブジェクトや`DataFrame`オブジェクトを表示する際に、`print(attri_data_frame_index1)`のように`print`関数を使ってきました。しかしデータの変数を、そのまま次のように記述することで、表示することもできます。\n",
    "この場合、Jupyter環境によって、これが`Series`オブジェクトや`DataFrame`オブジェクトであることが認識され、罫線などが付いた見やすい表示になります。\n",
    "以下では、この方法で表示していきます。"
   ]
  },
  {
   "cell_type": "code",
   "execution_count": 83,
   "metadata": {
    "colab": {},
    "colab_type": "code",
    "id": "XLGJYpw593j3",
    "outputId": "a5cd09b5-becc-4960-988c-d148c16a1aa3"
   },
   "outputs": [
    {
     "data": {
      "text/html": [
       "<div>\n",
       "<style scoped>\n",
       "    .dataframe tbody tr th:only-of-type {\n",
       "        vertical-align: middle;\n",
       "    }\n",
       "\n",
       "    .dataframe tbody tr th {\n",
       "        vertical-align: top;\n",
       "    }\n",
       "\n",
       "    .dataframe thead th {\n",
       "        text-align: right;\n",
       "    }\n",
       "</style>\n",
       "<table border=\"1\" class=\"dataframe\">\n",
       "  <thead>\n",
       "    <tr style=\"text-align: right;\">\n",
       "      <th></th>\n",
       "      <th>ID</th>\n",
       "      <th>City</th>\n",
       "      <th>Birth_year</th>\n",
       "      <th>Name</th>\n",
       "    </tr>\n",
       "  </thead>\n",
       "  <tbody>\n",
       "    <tr>\n",
       "      <th>a</th>\n",
       "      <td>100</td>\n",
       "      <td>Tokyo</td>\n",
       "      <td>1990</td>\n",
       "      <td>Hiroshi</td>\n",
       "    </tr>\n",
       "    <tr>\n",
       "      <th>b</th>\n",
       "      <td>101</td>\n",
       "      <td>Osaka</td>\n",
       "      <td>1989</td>\n",
       "      <td>Akiko</td>\n",
       "    </tr>\n",
       "    <tr>\n",
       "      <th>c</th>\n",
       "      <td>102</td>\n",
       "      <td>Kyoto</td>\n",
       "      <td>1992</td>\n",
       "      <td>Yuki</td>\n",
       "    </tr>\n",
       "    <tr>\n",
       "      <th>d</th>\n",
       "      <td>103</td>\n",
       "      <td>Hokkaido</td>\n",
       "      <td>1997</td>\n",
       "      <td>Satoru</td>\n",
       "    </tr>\n",
       "    <tr>\n",
       "      <th>e</th>\n",
       "      <td>104</td>\n",
       "      <td>Tokyo</td>\n",
       "      <td>1982</td>\n",
       "      <td>Steve</td>\n",
       "    </tr>\n",
       "  </tbody>\n",
       "</table>\n",
       "</div>"
      ],
      "text/plain": [
       "    ID      City  Birth_year     Name\n",
       "a  100     Tokyo        1990  Hiroshi\n",
       "b  101     Osaka        1989    Akiko\n",
       "c  102     Kyoto        1992     Yuki\n",
       "d  103  Hokkaido        1997   Satoru\n",
       "e  104     Tokyo        1982    Steve"
      ]
     },
     "execution_count": 83,
     "metadata": {},
     "output_type": "execute_result"
    }
   ],
   "source": [
    "attri_data_frame_index1"
   ]
  },
  {
   "cell_type": "markdown",
   "metadata": {
    "colab_type": "text",
    "id": "gJtx8E0n93j5"
   },
   "source": [
    "### 2.4.4 行列操作\n",
    "\n",
    "DataFrameは、さまざまな行列操作ができます。\n",
    "\n",
    "#### 転置\n",
    "\n",
    "行列の転置のように、行と列を入れ替える場合には、`.T`メソッドを使います。"
   ]
  },
  {
   "cell_type": "code",
   "execution_count": 84,
   "metadata": {
    "colab": {},
    "colab_type": "code",
    "id": "A-jPSOuU93j5",
    "outputId": "06d670b1-152a-4295-f6f4-ddcd3122cc4e"
   },
   "outputs": [
    {
     "data": {
      "text/html": [
       "<div>\n",
       "<style scoped>\n",
       "    .dataframe tbody tr th:only-of-type {\n",
       "        vertical-align: middle;\n",
       "    }\n",
       "\n",
       "    .dataframe tbody tr th {\n",
       "        vertical-align: top;\n",
       "    }\n",
       "\n",
       "    .dataframe thead th {\n",
       "        text-align: right;\n",
       "    }\n",
       "</style>\n",
       "<table border=\"1\" class=\"dataframe\">\n",
       "  <thead>\n",
       "    <tr style=\"text-align: right;\">\n",
       "      <th></th>\n",
       "      <th>0</th>\n",
       "      <th>1</th>\n",
       "      <th>2</th>\n",
       "      <th>3</th>\n",
       "      <th>4</th>\n",
       "    </tr>\n",
       "  </thead>\n",
       "  <tbody>\n",
       "    <tr>\n",
       "      <th>ID</th>\n",
       "      <td>100</td>\n",
       "      <td>101</td>\n",
       "      <td>102</td>\n",
       "      <td>103</td>\n",
       "      <td>104</td>\n",
       "    </tr>\n",
       "    <tr>\n",
       "      <th>City</th>\n",
       "      <td>Tokyo</td>\n",
       "      <td>Osaka</td>\n",
       "      <td>Kyoto</td>\n",
       "      <td>Hokkaido</td>\n",
       "      <td>Tokyo</td>\n",
       "    </tr>\n",
       "    <tr>\n",
       "      <th>Birth_year</th>\n",
       "      <td>1990</td>\n",
       "      <td>1989</td>\n",
       "      <td>1992</td>\n",
       "      <td>1997</td>\n",
       "      <td>1982</td>\n",
       "    </tr>\n",
       "    <tr>\n",
       "      <th>Name</th>\n",
       "      <td>Hiroshi</td>\n",
       "      <td>Akiko</td>\n",
       "      <td>Yuki</td>\n",
       "      <td>Satoru</td>\n",
       "      <td>Steve</td>\n",
       "    </tr>\n",
       "  </tbody>\n",
       "</table>\n",
       "</div>"
      ],
      "text/plain": [
       "                  0      1      2         3      4\n",
       "ID              100    101    102       103    104\n",
       "City          Tokyo  Osaka  Kyoto  Hokkaido  Tokyo\n",
       "Birth_year     1990   1989   1992      1997   1982\n",
       "Name        Hiroshi  Akiko   Yuki    Satoru  Steve"
      ]
     },
     "execution_count": 84,
     "metadata": {},
     "output_type": "execute_result"
    }
   ],
   "source": [
    "# 転置\n",
    "attri_data_frame1.T"
   ]
  },
  {
   "cell_type": "markdown",
   "metadata": {
    "colab_type": "text",
    "id": "C14G6nC793j9"
   },
   "source": [
    "#### 特定列のみを取り出す\n",
    "\n",
    "特定の列だけを指定したいときは、データの後にその列名を指定します。複数の列を指定したいときは、それらをPythonのリストの形式で指定します。"
   ]
  },
  {
   "cell_type": "code",
   "execution_count": 85,
   "metadata": {
    "colab": {},
    "colab_type": "code",
    "id": "8FeKfs5H93j9",
    "outputId": "3efe964d-6777-48c2-97e3-41c25d60f616"
   },
   "outputs": [
    {
     "data": {
      "text/plain": [
       "0    1990\n",
       "1    1989\n",
       "2    1992\n",
       "3    1997\n",
       "4    1982\n",
       "Name: Birth_year, dtype: int64"
      ]
     },
     "execution_count": 85,
     "metadata": {},
     "output_type": "execute_result"
    }
   ],
   "source": [
    "# 列名の指定（1つの場合）\n",
    "attri_data_frame1.Birth_year"
   ]
  },
  {
   "cell_type": "code",
   "execution_count": 86,
   "metadata": {
    "colab": {},
    "colab_type": "code",
    "id": "UK6t_LUA93kA",
    "outputId": "e1a8d992-89b2-409a-8efc-a123b1cf7f65"
   },
   "outputs": [
    {
     "data": {
      "text/html": [
       "<div>\n",
       "<style scoped>\n",
       "    .dataframe tbody tr th:only-of-type {\n",
       "        vertical-align: middle;\n",
       "    }\n",
       "\n",
       "    .dataframe tbody tr th {\n",
       "        vertical-align: top;\n",
       "    }\n",
       "\n",
       "    .dataframe thead th {\n",
       "        text-align: right;\n",
       "    }\n",
       "</style>\n",
       "<table border=\"1\" class=\"dataframe\">\n",
       "  <thead>\n",
       "    <tr style=\"text-align: right;\">\n",
       "      <th></th>\n",
       "      <th>ID</th>\n",
       "      <th>Birth_year</th>\n",
       "    </tr>\n",
       "  </thead>\n",
       "  <tbody>\n",
       "    <tr>\n",
       "      <th>0</th>\n",
       "      <td>100</td>\n",
       "      <td>1990</td>\n",
       "    </tr>\n",
       "    <tr>\n",
       "      <th>1</th>\n",
       "      <td>101</td>\n",
       "      <td>1989</td>\n",
       "    </tr>\n",
       "    <tr>\n",
       "      <th>2</th>\n",
       "      <td>102</td>\n",
       "      <td>1992</td>\n",
       "    </tr>\n",
       "    <tr>\n",
       "      <th>3</th>\n",
       "      <td>103</td>\n",
       "      <td>1997</td>\n",
       "    </tr>\n",
       "    <tr>\n",
       "      <th>4</th>\n",
       "      <td>104</td>\n",
       "      <td>1982</td>\n",
       "    </tr>\n",
       "  </tbody>\n",
       "</table>\n",
       "</div>"
      ],
      "text/plain": [
       "    ID  Birth_year\n",
       "0  100        1990\n",
       "1  101        1989\n",
       "2  102        1992\n",
       "3  103        1997\n",
       "4  104        1982"
      ]
     },
     "execution_count": 86,
     "metadata": {},
     "output_type": "execute_result"
    }
   ],
   "source": [
    "# 列名の指定(複数の場合)\n",
    "attri_data_frame1[['ID', 'Birth_year']]"
   ]
  },
  {
   "cell_type": "markdown",
   "metadata": {
    "colab_type": "text",
    "id": "Evw2K2uf93kC"
   },
   "source": [
    "### 2.4.5 データの抽出\n",
    "\n",
    "`DataFrame`オブジェクトでは、特定の条件を満たすデータだけを取り出したり、複数のデータを結合したりすることもできます。\n",
    "\n",
    "次の例は、データのうち、`City`が`Tokyo`のみのデータを抽出する例です。ここで指定している条件である`attri_data_frame1['City'] == 'Tokyo'`は、`dtype`が`bool`である`Series`オブジェクトです。この処理は、`attri_data_frame1['City'] == 'Tokyo'`が`True`であるデータをすべて`attri_data_frame1`から抽出するもので、フィルターの役割を果たしています。"
   ]
  },
  {
   "cell_type": "code",
   "execution_count": 87,
   "metadata": {
    "colab": {},
    "colab_type": "code",
    "id": "EFOl3QbE93kC",
    "outputId": "c4d46106-815c-4425-ef36-ad98b384904b"
   },
   "outputs": [
    {
     "data": {
      "text/html": [
       "<div>\n",
       "<style scoped>\n",
       "    .dataframe tbody tr th:only-of-type {\n",
       "        vertical-align: middle;\n",
       "    }\n",
       "\n",
       "    .dataframe tbody tr th {\n",
       "        vertical-align: top;\n",
       "    }\n",
       "\n",
       "    .dataframe thead th {\n",
       "        text-align: right;\n",
       "    }\n",
       "</style>\n",
       "<table border=\"1\" class=\"dataframe\">\n",
       "  <thead>\n",
       "    <tr style=\"text-align: right;\">\n",
       "      <th></th>\n",
       "      <th>ID</th>\n",
       "      <th>City</th>\n",
       "      <th>Birth_year</th>\n",
       "      <th>Name</th>\n",
       "    </tr>\n",
       "  </thead>\n",
       "  <tbody>\n",
       "    <tr>\n",
       "      <th>0</th>\n",
       "      <td>100</td>\n",
       "      <td>Tokyo</td>\n",
       "      <td>1990</td>\n",
       "      <td>Hiroshi</td>\n",
       "    </tr>\n",
       "    <tr>\n",
       "      <th>4</th>\n",
       "      <td>104</td>\n",
       "      <td>Tokyo</td>\n",
       "      <td>1982</td>\n",
       "      <td>Steve</td>\n",
       "    </tr>\n",
       "  </tbody>\n",
       "</table>\n",
       "</div>"
      ],
      "text/plain": [
       "    ID   City  Birth_year     Name\n",
       "0  100  Tokyo        1990  Hiroshi\n",
       "4  104  Tokyo        1982    Steve"
      ]
     },
     "execution_count": 87,
     "metadata": {},
     "output_type": "execute_result"
    }
   ],
   "source": [
    "#　条件（フィルター）\n",
    "attri_data_frame1[attri_data_frame1['City'] == 'Tokyo']"
   ]
  },
  {
   "cell_type": "markdown",
   "metadata": {
    "colab_type": "text",
    "id": "_0o3DbhH93kE"
   },
   "source": [
    "なお、条件部分である式はCity列の要素1つ1つとTokyoを比較しており、以下のようにそこだけ取り出して表示すると、`True`か`False`になっていることがわかります。"
   ]
  },
  {
   "cell_type": "code",
   "execution_count": 88,
   "metadata": {
    "colab": {},
    "colab_type": "code",
    "id": "kCb6j_gn93kF",
    "outputId": "09ebf029-2242-420b-d159-35a2e1475b29"
   },
   "outputs": [
    {
     "data": {
      "text/plain": [
       "0     True\n",
       "1    False\n",
       "2    False\n",
       "3    False\n",
       "4     True\n",
       "Name: City, dtype: bool"
      ]
     },
     "execution_count": 88,
     "metadata": {},
     "output_type": "execute_result"
    }
   ],
   "source": [
    "attri_data_frame1['City'] == 'Tokyo'"
   ]
  },
  {
   "cell_type": "markdown",
   "metadata": {
    "colab_type": "text",
    "id": "ycYtIyns93kI"
   },
   "source": [
    "条件を複数指定したいときは、次のように`isin`（リスト）を使います。以下は、CityがTokyoかOsakaであるデータを抽出しています。この使い方は、後の講義でも使います。"
   ]
  },
  {
   "cell_type": "code",
   "execution_count": 89,
   "metadata": {
    "colab": {},
    "colab_type": "code",
    "id": "1ZNiFpT793kK",
    "outputId": "413df110-7d09-49dc-b064-8fdbb04d229e"
   },
   "outputs": [
    {
     "data": {
      "text/html": [
       "<div>\n",
       "<style scoped>\n",
       "    .dataframe tbody tr th:only-of-type {\n",
       "        vertical-align: middle;\n",
       "    }\n",
       "\n",
       "    .dataframe tbody tr th {\n",
       "        vertical-align: top;\n",
       "    }\n",
       "\n",
       "    .dataframe thead th {\n",
       "        text-align: right;\n",
       "    }\n",
       "</style>\n",
       "<table border=\"1\" class=\"dataframe\">\n",
       "  <thead>\n",
       "    <tr style=\"text-align: right;\">\n",
       "      <th></th>\n",
       "      <th>ID</th>\n",
       "      <th>City</th>\n",
       "      <th>Birth_year</th>\n",
       "      <th>Name</th>\n",
       "    </tr>\n",
       "  </thead>\n",
       "  <tbody>\n",
       "    <tr>\n",
       "      <th>0</th>\n",
       "      <td>100</td>\n",
       "      <td>Tokyo</td>\n",
       "      <td>1990</td>\n",
       "      <td>Hiroshi</td>\n",
       "    </tr>\n",
       "    <tr>\n",
       "      <th>1</th>\n",
       "      <td>101</td>\n",
       "      <td>Osaka</td>\n",
       "      <td>1989</td>\n",
       "      <td>Akiko</td>\n",
       "    </tr>\n",
       "    <tr>\n",
       "      <th>4</th>\n",
       "      <td>104</td>\n",
       "      <td>Tokyo</td>\n",
       "      <td>1982</td>\n",
       "      <td>Steve</td>\n",
       "    </tr>\n",
       "  </tbody>\n",
       "</table>\n",
       "</div>"
      ],
      "text/plain": [
       "    ID   City  Birth_year     Name\n",
       "0  100  Tokyo        1990  Hiroshi\n",
       "1  101  Osaka        1989    Akiko\n",
       "4  104  Tokyo        1982    Steve"
      ]
     },
     "execution_count": 89,
     "metadata": {},
     "output_type": "execute_result"
    }
   ],
   "source": [
    "#　条件（フィルター、複数の値）\n",
    "attri_data_frame1[attri_data_frame1['City'].isin(['Tokyo','Osaka'])]"
   ]
  },
  {
   "cell_type": "markdown",
   "metadata": {
    "colab_type": "text",
    "id": "wnPPl1Wv93kN"
   },
   "source": [
    ">**[やってみよう]**\n",
    ">\n",
    ">他にも条件を変更（`Birth_year`が1990未満など）して、フィルターを実行してみましょう。"
   ]
  },
  {
   "cell_type": "markdown",
   "metadata": {
    "colab_type": "text",
    "id": "HhML9akV93kO"
   },
   "source": [
    "### 2.4.6 データの削除と結合\n",
    "\n",
    "`DataFrame`オブジェクトでは、必要のない列や行を削除したり、他の`DataFrame`オブジェクトと結合したりすることもできます。\n",
    "\n",
    "#### 列や行の削除\n",
    "\n",
    "ある特定の列や行を削除するには`drop`メソッドを実行します。`axis`パラメータに軸を指定します。「`axis=0`が行」「`axis=1`が列」です。なお、この`axis`パラメータは他の場面でも使うので、覚えておいてください。\n",
    "\n",
    "\n",
    "・行削除の場合：1つ目の引数に削除したい行のインデックスをリストとして指定します。`axis`パラメータには「`0`」を指定します。\n",
    " \n",
    "・列の削除の場合：1つ目の引数に削除したい列名をリストとして指定します。`axis`パラメータには「`1`」を指定します。\n",
    " \n",
    " 次の例は、`Birth_year`列を削除する例です。"
   ]
  },
  {
   "cell_type": "code",
   "execution_count": 90,
   "metadata": {
    "colab": {},
    "colab_type": "code",
    "id": "14RgIGkL93kP",
    "outputId": "1d1cc474-db1c-4a16-cfe0-2c9d9daab6a7",
    "scrolled": true
   },
   "outputs": [
    {
     "data": {
      "text/html": [
       "<div>\n",
       "<style scoped>\n",
       "    .dataframe tbody tr th:only-of-type {\n",
       "        vertical-align: middle;\n",
       "    }\n",
       "\n",
       "    .dataframe tbody tr th {\n",
       "        vertical-align: top;\n",
       "    }\n",
       "\n",
       "    .dataframe thead th {\n",
       "        text-align: right;\n",
       "    }\n",
       "</style>\n",
       "<table border=\"1\" class=\"dataframe\">\n",
       "  <thead>\n",
       "    <tr style=\"text-align: right;\">\n",
       "      <th></th>\n",
       "      <th>ID</th>\n",
       "      <th>City</th>\n",
       "      <th>Name</th>\n",
       "    </tr>\n",
       "  </thead>\n",
       "  <tbody>\n",
       "    <tr>\n",
       "      <th>0</th>\n",
       "      <td>100</td>\n",
       "      <td>Tokyo</td>\n",
       "      <td>Hiroshi</td>\n",
       "    </tr>\n",
       "    <tr>\n",
       "      <th>1</th>\n",
       "      <td>101</td>\n",
       "      <td>Osaka</td>\n",
       "      <td>Akiko</td>\n",
       "    </tr>\n",
       "    <tr>\n",
       "      <th>2</th>\n",
       "      <td>102</td>\n",
       "      <td>Kyoto</td>\n",
       "      <td>Yuki</td>\n",
       "    </tr>\n",
       "    <tr>\n",
       "      <th>3</th>\n",
       "      <td>103</td>\n",
       "      <td>Hokkaido</td>\n",
       "      <td>Satoru</td>\n",
       "    </tr>\n",
       "    <tr>\n",
       "      <th>4</th>\n",
       "      <td>104</td>\n",
       "      <td>Tokyo</td>\n",
       "      <td>Steve</td>\n",
       "    </tr>\n",
       "  </tbody>\n",
       "</table>\n",
       "</div>"
      ],
      "text/plain": [
       "    ID      City     Name\n",
       "0  100     Tokyo  Hiroshi\n",
       "1  101     Osaka    Akiko\n",
       "2  102     Kyoto     Yuki\n",
       "3  103  Hokkaido   Satoru\n",
       "4  104     Tokyo    Steve"
      ]
     },
     "execution_count": 90,
     "metadata": {},
     "output_type": "execute_result"
    }
   ],
   "source": [
    "# データの列の削除\n",
    "attri_data_frame1.drop(['Birth_year'], axis = 1)"
   ]
  },
  {
   "cell_type": "markdown",
   "metadata": {
    "colab_type": "text",
    "id": "yJWsh3XU93kV"
   },
   "source": [
    "なお、上記で列を削除しても元のデータの列が削除されたわけではないので、注意しましょう。置き換えたい場合は、あらためて`attri_data_frame1 = attri_data_frame1.drop(['Birth_year'],axis=1)`のように設定します。もしくは、オプションの`inplace=True`をパラメータとして指定すると、元のデータを置き換えることもできます。"
   ]
  },
  {
   "cell_type": "markdown",
   "metadata": {
    "colab_type": "text",
    "id": "TTm0IobC93kW"
   },
   "source": [
    "#### データの結合\n",
    "\n",
    "`DataFrame`オブジェクト同士は結合できます。データ分析ではさまざまなデータがある場合に、それらを結合して分析することは多々ありますから、実行できるようになりましょう。まずは例として、結合先の`DataFrame`オブジェクトを、次のように`attri_data_frame2`という変数で用意します。"
   ]
  },
  {
   "cell_type": "code",
   "execution_count": 91,
   "metadata": {
    "colab": {},
    "colab_type": "code",
    "id": "y0Ikfdlq93kW",
    "outputId": "cb8a0d8d-c069-480e-d30c-4f67b7aa1836"
   },
   "outputs": [
    {
     "data": {
      "text/html": [
       "<div>\n",
       "<style scoped>\n",
       "    .dataframe tbody tr th:only-of-type {\n",
       "        vertical-align: middle;\n",
       "    }\n",
       "\n",
       "    .dataframe tbody tr th {\n",
       "        vertical-align: top;\n",
       "    }\n",
       "\n",
       "    .dataframe thead th {\n",
       "        text-align: right;\n",
       "    }\n",
       "</style>\n",
       "<table border=\"1\" class=\"dataframe\">\n",
       "  <thead>\n",
       "    <tr style=\"text-align: right;\">\n",
       "      <th></th>\n",
       "      <th>ID</th>\n",
       "      <th>Math</th>\n",
       "      <th>English</th>\n",
       "      <th>Sex</th>\n",
       "    </tr>\n",
       "  </thead>\n",
       "  <tbody>\n",
       "    <tr>\n",
       "      <th>0</th>\n",
       "      <td>100</td>\n",
       "      <td>50</td>\n",
       "      <td>90</td>\n",
       "      <td>M</td>\n",
       "    </tr>\n",
       "    <tr>\n",
       "      <th>1</th>\n",
       "      <td>101</td>\n",
       "      <td>43</td>\n",
       "      <td>30</td>\n",
       "      <td>F</td>\n",
       "    </tr>\n",
       "    <tr>\n",
       "      <th>2</th>\n",
       "      <td>102</td>\n",
       "      <td>33</td>\n",
       "      <td>20</td>\n",
       "      <td>F</td>\n",
       "    </tr>\n",
       "    <tr>\n",
       "      <th>3</th>\n",
       "      <td>105</td>\n",
       "      <td>76</td>\n",
       "      <td>50</td>\n",
       "      <td>M</td>\n",
       "    </tr>\n",
       "    <tr>\n",
       "      <th>4</th>\n",
       "      <td>107</td>\n",
       "      <td>98</td>\n",
       "      <td>30</td>\n",
       "      <td>M</td>\n",
       "    </tr>\n",
       "  </tbody>\n",
       "</table>\n",
       "</div>"
      ],
      "text/plain": [
       "    ID  Math  English Sex\n",
       "0  100    50       90   M\n",
       "1  101    43       30   F\n",
       "2  102    33       20   F\n",
       "3  105    76       50   M\n",
       "4  107    98       30   M"
      ]
     },
     "execution_count": 91,
     "metadata": {},
     "output_type": "execute_result"
    }
   ],
   "source": [
    "# 別のデータの準備\n",
    "attri_data2 = {'ID':['100','101','102','105','107'],\n",
    "               'Math':[50,43,33,76,98],\n",
    "               'English':[90,30,20,50,30],\n",
    "               'Sex':['M','F','F','M','M']}\n",
    "attri_data_frame2 = DataFrame(attri_data2)\n",
    "attri_data_frame2"
   ]
  },
  {
   "cell_type": "markdown",
   "metadata": {
    "colab_type": "text",
    "id": "xVKYOMnv93kY"
   },
   "source": [
    "そして、これまで使ってきた`attri_data_frame1`と、この`attri_data_fame2`を結合してみます。\n",
    "結合するには`merge`メソッドを使います。キーを明示しないときは、自動で同じキーの値であるものを見つけて結合します。\n",
    "この例の場合、キーは`ID`です。`100`、`101`、`102`が共通であるため、それが合致するデータが結合されます。"
   ]
  },
  {
   "cell_type": "code",
   "execution_count": 92,
   "metadata": {
    "colab": {},
    "colab_type": "code",
    "id": "QgXp6Ah593kY",
    "outputId": "369d8e66-c222-4289-bfee-f874074c1b9d"
   },
   "outputs": [
    {
     "data": {
      "text/html": [
       "<div>\n",
       "<style scoped>\n",
       "    .dataframe tbody tr th:only-of-type {\n",
       "        vertical-align: middle;\n",
       "    }\n",
       "\n",
       "    .dataframe tbody tr th {\n",
       "        vertical-align: top;\n",
       "    }\n",
       "\n",
       "    .dataframe thead th {\n",
       "        text-align: right;\n",
       "    }\n",
       "</style>\n",
       "<table border=\"1\" class=\"dataframe\">\n",
       "  <thead>\n",
       "    <tr style=\"text-align: right;\">\n",
       "      <th></th>\n",
       "      <th>ID</th>\n",
       "      <th>City</th>\n",
       "      <th>Birth_year</th>\n",
       "      <th>Name</th>\n",
       "      <th>Math</th>\n",
       "      <th>English</th>\n",
       "      <th>Sex</th>\n",
       "    </tr>\n",
       "  </thead>\n",
       "  <tbody>\n",
       "    <tr>\n",
       "      <th>0</th>\n",
       "      <td>100</td>\n",
       "      <td>Tokyo</td>\n",
       "      <td>1990</td>\n",
       "      <td>Hiroshi</td>\n",
       "      <td>50</td>\n",
       "      <td>90</td>\n",
       "      <td>M</td>\n",
       "    </tr>\n",
       "    <tr>\n",
       "      <th>1</th>\n",
       "      <td>101</td>\n",
       "      <td>Osaka</td>\n",
       "      <td>1989</td>\n",
       "      <td>Akiko</td>\n",
       "      <td>43</td>\n",
       "      <td>30</td>\n",
       "      <td>F</td>\n",
       "    </tr>\n",
       "    <tr>\n",
       "      <th>2</th>\n",
       "      <td>102</td>\n",
       "      <td>Kyoto</td>\n",
       "      <td>1992</td>\n",
       "      <td>Yuki</td>\n",
       "      <td>33</td>\n",
       "      <td>20</td>\n",
       "      <td>F</td>\n",
       "    </tr>\n",
       "  </tbody>\n",
       "</table>\n",
       "</div>"
      ],
      "text/plain": [
       "    ID   City  Birth_year     Name  Math  English Sex\n",
       "0  100  Tokyo        1990  Hiroshi    50       90   M\n",
       "1  101  Osaka        1989    Akiko    43       30   F\n",
       "2  102  Kyoto        1992     Yuki    33       20   F"
      ]
     },
     "execution_count": 92,
     "metadata": {},
     "output_type": "execute_result"
    }
   ],
   "source": [
    "# データのマージ（内部結合、詳しくは次の講義で）\n",
    "pd.merge(attri_data_frame1,attri_data_frame2)"
   ]
  },
  {
   "cell_type": "markdown",
   "metadata": {
    "colab_type": "text",
    "id": "B0RPKc5_93ka"
   },
   "source": [
    "### 2.4.7 集計\n",
    "\n",
    "`DataFrame`オブジェクトでは、データを集計することできます。\n",
    "さらに`groupby`メソッドを使うと、ある特定の列を軸とした集計ができます。以下は「`Sex`の列」を軸として、数学のスコア平均を算出する例です。スコア平均を計算するには`mean`メソッドを使います。ほかにも、最大値を計算する`max`メソッドや最小値を計算する`min`メソッドなどもあります。"
   ]
  },
  {
   "cell_type": "code",
   "execution_count": 93,
   "metadata": {
    "colab": {},
    "colab_type": "code",
    "id": "gBLohZvX93kb",
    "outputId": "f6fe55a9-2526-465f-9a25-fefedbf50bd3"
   },
   "outputs": [
    {
     "data": {
      "text/plain": [
       "Sex\n",
       "F    38.000000\n",
       "M    74.666667\n",
       "Name: Math, dtype: float64"
      ]
     },
     "execution_count": 93,
     "metadata": {},
     "output_type": "execute_result"
    }
   ],
   "source": [
    "# データのグループ集計(詳しくは次の講義で)\n",
    "attri_data_frame2.groupby('Sex')['Math'].mean()"
   ]
  },
  {
   "cell_type": "markdown",
   "metadata": {
    "colab_type": "text",
    "id": "kkQCsvvo93kc"
   },
   "source": [
    ">**[やってみよう]**\n",
    ">\n",
    ">他にも変数を変えて、実行してみましょう。集計対象を`English`にした場合はどうなりますか。また、最大値や最小値を求めてみましょう。"
   ]
  },
  {
   "cell_type": "markdown",
   "metadata": {
    "colab_type": "text",
    "id": "91y2tong93kd"
   },
   "source": [
    "### 2.4.8 値のソート\n",
    "\n",
    "`Series`オブジェクトや`DataFrame`オブジェクトのデータは、ソートすることもできます。値だけではなく、インデックスをベースにソートできます。\n",
    "\n",
    "まずはソート対象のサンプルデータを次のように定義します。ソートの効果がわかりやすくなるよう、わざとデータを適当な順で並べてあります。"
   ]
  },
  {
   "cell_type": "code",
   "execution_count": 94,
   "metadata": {
    "colab": {},
    "colab_type": "code",
    "id": "NiZGOvL_93kd",
    "outputId": "108fc3f7-d783-47a5-a271-a9a95c3d959b"
   },
   "outputs": [
    {
     "data": {
      "text/html": [
       "<div>\n",
       "<style scoped>\n",
       "    .dataframe tbody tr th:only-of-type {\n",
       "        vertical-align: middle;\n",
       "    }\n",
       "\n",
       "    .dataframe tbody tr th {\n",
       "        vertical-align: top;\n",
       "    }\n",
       "\n",
       "    .dataframe thead th {\n",
       "        text-align: right;\n",
       "    }\n",
       "</style>\n",
       "<table border=\"1\" class=\"dataframe\">\n",
       "  <thead>\n",
       "    <tr style=\"text-align: right;\">\n",
       "      <th></th>\n",
       "      <th>ID</th>\n",
       "      <th>City</th>\n",
       "      <th>Birth_year</th>\n",
       "      <th>Name</th>\n",
       "    </tr>\n",
       "  </thead>\n",
       "  <tbody>\n",
       "    <tr>\n",
       "      <th>e</th>\n",
       "      <td>100</td>\n",
       "      <td>Tokyo</td>\n",
       "      <td>1990</td>\n",
       "      <td>Hiroshi</td>\n",
       "    </tr>\n",
       "    <tr>\n",
       "      <th>b</th>\n",
       "      <td>101</td>\n",
       "      <td>Osaka</td>\n",
       "      <td>1989</td>\n",
       "      <td>Akiko</td>\n",
       "    </tr>\n",
       "    <tr>\n",
       "      <th>a</th>\n",
       "      <td>102</td>\n",
       "      <td>Kyoto</td>\n",
       "      <td>1992</td>\n",
       "      <td>Yuki</td>\n",
       "    </tr>\n",
       "    <tr>\n",
       "      <th>d</th>\n",
       "      <td>103</td>\n",
       "      <td>Hokkaido</td>\n",
       "      <td>1997</td>\n",
       "      <td>Satoru</td>\n",
       "    </tr>\n",
       "    <tr>\n",
       "      <th>c</th>\n",
       "      <td>104</td>\n",
       "      <td>Tokyo</td>\n",
       "      <td>1982</td>\n",
       "      <td>Steve</td>\n",
       "    </tr>\n",
       "  </tbody>\n",
       "</table>\n",
       "</div>"
      ],
      "text/plain": [
       "    ID      City  Birth_year     Name\n",
       "e  100     Tokyo        1990  Hiroshi\n",
       "b  101     Osaka        1989    Akiko\n",
       "a  102     Kyoto        1992     Yuki\n",
       "d  103  Hokkaido        1997   Satoru\n",
       "c  104     Tokyo        1982    Steve"
      ]
     },
     "execution_count": 94,
     "metadata": {},
     "output_type": "execute_result"
    }
   ],
   "source": [
    "# データの準備\n",
    "attri_data2 = {'ID':['100','101','102','103','104'],\n",
    "               'City':['Tokyo','Osaka','Kyoto','Hokkaido','Tokyo'],\n",
    "               'Birth_year':[1990,1989,1992,1997,1982],\n",
    "               'Name':['Hiroshi','Akiko','Yuki','Satoru','Steve']}\n",
    "attri_data_frame2 = DataFrame(attri_data2)\n",
    "attri_data_frame_index2 = DataFrame(attri_data2,index=['e','b','a','d','c'])\n",
    "attri_data_frame_index2"
   ]
  },
  {
   "cell_type": "markdown",
   "metadata": {
    "colab_type": "text",
    "id": "gmaenWMp93kf"
   },
   "source": [
    "インデックスでソートするには、次のように`sort_index`メソッドを実行します。"
   ]
  },
  {
   "cell_type": "code",
   "execution_count": 95,
   "metadata": {
    "colab": {},
    "colab_type": "code",
    "id": "4t4UUpJ093kf",
    "outputId": "a8cdef9b-410d-462d-fb9c-31d44e427c66"
   },
   "outputs": [
    {
     "data": {
      "text/html": [
       "<div>\n",
       "<style scoped>\n",
       "    .dataframe tbody tr th:only-of-type {\n",
       "        vertical-align: middle;\n",
       "    }\n",
       "\n",
       "    .dataframe tbody tr th {\n",
       "        vertical-align: top;\n",
       "    }\n",
       "\n",
       "    .dataframe thead th {\n",
       "        text-align: right;\n",
       "    }\n",
       "</style>\n",
       "<table border=\"1\" class=\"dataframe\">\n",
       "  <thead>\n",
       "    <tr style=\"text-align: right;\">\n",
       "      <th></th>\n",
       "      <th>ID</th>\n",
       "      <th>City</th>\n",
       "      <th>Birth_year</th>\n",
       "      <th>Name</th>\n",
       "    </tr>\n",
       "  </thead>\n",
       "  <tbody>\n",
       "    <tr>\n",
       "      <th>a</th>\n",
       "      <td>102</td>\n",
       "      <td>Kyoto</td>\n",
       "      <td>1992</td>\n",
       "      <td>Yuki</td>\n",
       "    </tr>\n",
       "    <tr>\n",
       "      <th>b</th>\n",
       "      <td>101</td>\n",
       "      <td>Osaka</td>\n",
       "      <td>1989</td>\n",
       "      <td>Akiko</td>\n",
       "    </tr>\n",
       "    <tr>\n",
       "      <th>c</th>\n",
       "      <td>104</td>\n",
       "      <td>Tokyo</td>\n",
       "      <td>1982</td>\n",
       "      <td>Steve</td>\n",
       "    </tr>\n",
       "    <tr>\n",
       "      <th>d</th>\n",
       "      <td>103</td>\n",
       "      <td>Hokkaido</td>\n",
       "      <td>1997</td>\n",
       "      <td>Satoru</td>\n",
       "    </tr>\n",
       "    <tr>\n",
       "      <th>e</th>\n",
       "      <td>100</td>\n",
       "      <td>Tokyo</td>\n",
       "      <td>1990</td>\n",
       "      <td>Hiroshi</td>\n",
       "    </tr>\n",
       "  </tbody>\n",
       "</table>\n",
       "</div>"
      ],
      "text/plain": [
       "    ID      City  Birth_year     Name\n",
       "a  102     Kyoto        1992     Yuki\n",
       "b  101     Osaka        1989    Akiko\n",
       "c  104     Tokyo        1982    Steve\n",
       "d  103  Hokkaido        1997   Satoru\n",
       "e  100     Tokyo        1990  Hiroshi"
      ]
     },
     "execution_count": 95,
     "metadata": {},
     "output_type": "execute_result"
    }
   ],
   "source": [
    "# indexによるソート\n",
    "attri_data_frame_index2.sort_index()"
   ]
  },
  {
   "cell_type": "markdown",
   "metadata": {
    "colab_type": "text",
    "id": "DC02G9XV93kh"
   },
   "source": [
    "値でソートする場合には、次のように`sort_values`メソッドを使います。"
   ]
  },
  {
   "cell_type": "code",
   "execution_count": 96,
   "metadata": {
    "colab": {},
    "colab_type": "code",
    "id": "tpWtFytT93kh",
    "outputId": "64ef9b6e-2970-42c7-f30c-ec5c4088bae1"
   },
   "outputs": [
    {
     "data": {
      "text/plain": [
       "c    1982\n",
       "b    1989\n",
       "e    1990\n",
       "a    1992\n",
       "d    1997\n",
       "Name: Birth_year, dtype: int64"
      ]
     },
     "execution_count": 96,
     "metadata": {},
     "output_type": "execute_result"
    }
   ],
   "source": [
    "# 値によるソート、デフォルトは昇順\n",
    "attri_data_frame_index2.Birth_year.sort_values()"
   ]
  },
  {
   "cell_type": "markdown",
   "metadata": {
    "colab_type": "text",
    "id": "dXqWJH_593kj"
   },
   "source": [
    "### 2.4.9 nan（null）の判定\n",
    "\n",
    "データ分析ではデータが欠損しており、該当のデータが存在しないことがあります。それらをそのまま計算すると、平均などを求めたときに正しい値が得られないので、除外するなどの操作が必要です。欠損値などのデータは`nan`という特別な値で格納されるので、その扱いについて補足します。\n",
    "\n",
    "#### 条件に合致したデータの比較\n",
    "\n",
    "まずは`nan`の話ではなく、ふつうに条件検索する例から説明します。\n",
    "次の例は、`attri_data_frame_index2`の全要素を対象に、`Tokyo`という文字列があるかどうかを`isin`で調べる例です。その結果は、それぞれのセルに`True`か`False`が返されます。入っていれば（条件を満たしていれば）`True`、入っていなければ（条件を満たしていなければ）`False`が設定されます。この操作が、条件に合致するデータを探すときの基本です。"
   ]
  },
  {
   "cell_type": "code",
   "execution_count": 97,
   "metadata": {
    "colab": {},
    "colab_type": "code",
    "id": "i2ZJIfCH93kj",
    "outputId": "22809732-0b27-43f0-f4ed-2af50804cddf"
   },
   "outputs": [
    {
     "data": {
      "text/html": [
       "<div>\n",
       "<style scoped>\n",
       "    .dataframe tbody tr th:only-of-type {\n",
       "        vertical-align: middle;\n",
       "    }\n",
       "\n",
       "    .dataframe tbody tr th {\n",
       "        vertical-align: top;\n",
       "    }\n",
       "\n",
       "    .dataframe thead th {\n",
       "        text-align: right;\n",
       "    }\n",
       "</style>\n",
       "<table border=\"1\" class=\"dataframe\">\n",
       "  <thead>\n",
       "    <tr style=\"text-align: right;\">\n",
       "      <th></th>\n",
       "      <th>ID</th>\n",
       "      <th>City</th>\n",
       "      <th>Birth_year</th>\n",
       "      <th>Name</th>\n",
       "    </tr>\n",
       "  </thead>\n",
       "  <tbody>\n",
       "    <tr>\n",
       "      <th>e</th>\n",
       "      <td>False</td>\n",
       "      <td>True</td>\n",
       "      <td>False</td>\n",
       "      <td>False</td>\n",
       "    </tr>\n",
       "    <tr>\n",
       "      <th>b</th>\n",
       "      <td>False</td>\n",
       "      <td>False</td>\n",
       "      <td>False</td>\n",
       "      <td>False</td>\n",
       "    </tr>\n",
       "    <tr>\n",
       "      <th>a</th>\n",
       "      <td>False</td>\n",
       "      <td>False</td>\n",
       "      <td>False</td>\n",
       "      <td>False</td>\n",
       "    </tr>\n",
       "    <tr>\n",
       "      <th>d</th>\n",
       "      <td>False</td>\n",
       "      <td>False</td>\n",
       "      <td>False</td>\n",
       "      <td>False</td>\n",
       "    </tr>\n",
       "    <tr>\n",
       "      <th>c</th>\n",
       "      <td>False</td>\n",
       "      <td>True</td>\n",
       "      <td>False</td>\n",
       "      <td>False</td>\n",
       "    </tr>\n",
       "  </tbody>\n",
       "</table>\n",
       "</div>"
      ],
      "text/plain": [
       "      ID   City  Birth_year   Name\n",
       "e  False   True       False  False\n",
       "b  False  False       False  False\n",
       "a  False  False       False  False\n",
       "d  False  False       False  False\n",
       "c  False   True       False  False"
      ]
     },
     "execution_count": 97,
     "metadata": {},
     "output_type": "execute_result"
    }
   ],
   "source": [
    "# 値があるかどうかの確認\n",
    "attri_data_frame_index2.isin(['Tokyo'])"
   ]
  },
  {
   "cell_type": "markdown",
   "metadata": {
    "colab_type": "text",
    "id": "imCPAFXv93kn"
   },
   "source": [
    "#### nanとnullの例\n",
    "\n",
    "次の例は、`Name`列の値をわざと`nan`に設定した例です。`nan`かどうかを判定するには`isnull`メソッドを使います。"
   ]
  },
  {
   "cell_type": "code",
   "execution_count": 98,
   "metadata": {
    "colab": {},
    "colab_type": "code",
    "id": "otNzqeNe93ko",
    "outputId": "1df31bcd-9249-4c30-bcd0-5d89c74b0565"
   },
   "outputs": [
    {
     "data": {
      "text/html": [
       "<div>\n",
       "<style scoped>\n",
       "    .dataframe tbody tr th:only-of-type {\n",
       "        vertical-align: middle;\n",
       "    }\n",
       "\n",
       "    .dataframe tbody tr th {\n",
       "        vertical-align: top;\n",
       "    }\n",
       "\n",
       "    .dataframe thead th {\n",
       "        text-align: right;\n",
       "    }\n",
       "</style>\n",
       "<table border=\"1\" class=\"dataframe\">\n",
       "  <thead>\n",
       "    <tr style=\"text-align: right;\">\n",
       "      <th></th>\n",
       "      <th>ID</th>\n",
       "      <th>City</th>\n",
       "      <th>Birth_year</th>\n",
       "      <th>Name</th>\n",
       "    </tr>\n",
       "  </thead>\n",
       "  <tbody>\n",
       "    <tr>\n",
       "      <th>e</th>\n",
       "      <td>False</td>\n",
       "      <td>False</td>\n",
       "      <td>False</td>\n",
       "      <td>True</td>\n",
       "    </tr>\n",
       "    <tr>\n",
       "      <th>b</th>\n",
       "      <td>False</td>\n",
       "      <td>False</td>\n",
       "      <td>False</td>\n",
       "      <td>True</td>\n",
       "    </tr>\n",
       "    <tr>\n",
       "      <th>a</th>\n",
       "      <td>False</td>\n",
       "      <td>False</td>\n",
       "      <td>False</td>\n",
       "      <td>True</td>\n",
       "    </tr>\n",
       "    <tr>\n",
       "      <th>d</th>\n",
       "      <td>False</td>\n",
       "      <td>False</td>\n",
       "      <td>False</td>\n",
       "      <td>True</td>\n",
       "    </tr>\n",
       "    <tr>\n",
       "      <th>c</th>\n",
       "      <td>False</td>\n",
       "      <td>False</td>\n",
       "      <td>False</td>\n",
       "      <td>True</td>\n",
       "    </tr>\n",
       "  </tbody>\n",
       "</table>\n",
       "</div>"
      ],
      "text/plain": [
       "      ID   City  Birth_year  Name\n",
       "e  False  False       False  True\n",
       "b  False  False       False  True\n",
       "a  False  False       False  True\n",
       "d  False  False       False  True\n",
       "c  False  False       False  True"
      ]
     },
     "execution_count": 98,
     "metadata": {},
     "output_type": "execute_result"
    }
   ],
   "source": [
    "#　欠損値の取り扱い\n",
    "# name をすべてnanにする\n",
    "attri_data_frame_index2['Name'] = np.nan\n",
    "attri_data_frame_index2.isnull()"
   ]
  },
  {
   "cell_type": "markdown",
   "metadata": {
    "colab_type": "text",
    "id": "Ymy0dORE93ku"
   },
   "source": [
    "そして`nan`であるものの総数を求めるには、次のようにします。Nameが5になっているのは、上記の結果でわかるように、Trueが5つあるため、それをカウントしているからです。"
   ]
  },
  {
   "cell_type": "code",
   "execution_count": 99,
   "metadata": {
    "colab": {},
    "colab_type": "code",
    "id": "_PBCL7oL93ku",
    "outputId": "8ccd379e-f185-4531-f397-7c5719346fbc"
   },
   "outputs": [
    {
     "data": {
      "text/plain": [
       "ID            0\n",
       "City          0\n",
       "Birth_year    0\n",
       "Name          5\n",
       "dtype: int64"
      ]
     },
     "execution_count": 99,
     "metadata": {},
     "output_type": "execute_result"
    }
   ],
   "source": [
    "# nullを判定し、合計する\n",
    "attri_data_frame_index2.isnull().sum()"
   ]
  },
  {
   "cell_type": "markdown",
   "metadata": {
    "colab_type": "text",
    "id": "SSpuZNm793ky"
   },
   "source": [
    "以上で、Pandasの簡単な説明は終わりです。次回以降、実際のデータの加工処理をしていきますので、ここで学んだことはしっかりと身につけてください。"
   ]
  },
  {
   "cell_type": "markdown",
   "metadata": {
    "colab_type": "text",
    "id": "PT8KaI7f93kz"
   },
   "source": [
    "#### <練習問題 2-7>\n",
    "\n",
    "以下のデータに対して、`Money`が500以上の人を絞り込んで、レコードを表示してください。"
   ]
  },
  {
   "cell_type": "code",
   "execution_count": 100,
   "metadata": {
    "colab": {},
    "colab_type": "code",
    "id": "SNWbTd0i93k0"
   },
   "outputs": [],
   "source": [
    "from pandas import Series,DataFrame\n",
    "import pandas as pd\n",
    "\n",
    "attri_data1 = {'ID':['1','2','3','4','5'],\n",
    "               'Sex':['F','F','M','M','F'],\n",
    "               'Money':[1000,2000,500,300,700],\n",
    "               'Name':['Saito','Horie','Kondo','Kawada','Matsubara']}\n",
    "\n",
    "attri_data_frame1 = DataFrame(attri_data1)"
   ]
  },
  {
   "cell_type": "markdown",
   "metadata": {
    "colab_type": "text",
    "id": "53YCJlO_93k1"
   },
   "source": [
    "#### <練習問題 2-8>\n",
    "\n",
    "<練習問題 2-7>のデータに対して、男女別（`MF`別）の平均`Money`を求めてください。"
   ]
  },
  {
   "cell_type": "markdown",
   "metadata": {
    "colab_type": "text",
    "id": "yNW1DUQX93k1"
   },
   "source": [
    "#### <練習問題 2-9>\n",
    "\n",
    "<練習問題 2-7>のデータに対して、以下のデータの同じ`ID`の人をキーとして、データをマージしてください。そして、`Money`と`Math`と`English`の平均を求めてください。"
   ]
  },
  {
   "cell_type": "code",
   "execution_count": 101,
   "metadata": {
    "colab": {},
    "colab_type": "code",
    "id": "pRAqLCOu93k2"
   },
   "outputs": [],
   "source": [
    "attri_data2 = {'ID':['3','4','7'],\n",
    "               'Math':[60,30,40],\n",
    "               'English':[80,20,30]}\n",
    "\n",
    "attri_data_frame2 = DataFrame(attri_data2)"
   ]
  },
  {
   "cell_type": "markdown",
   "metadata": {
    "colab_type": "text",
    "id": "hgpy1WkS93k4"
   },
   "source": [
    "## 2.5 Matplotlibの基礎\n",
    "キーワード：データビジュアライゼーション、散布図、ヒストグラム"
   ]
  },
  {
   "cell_type": "markdown",
   "metadata": {
    "colab_type": "text",
    "id": "sn-uRnFA93k4"
   },
   "source": [
    "データ分析をする上で、対象となるデータを可視化することはとても重要です。単に数字を眺めているだけでは、データに潜む傾向がなかなか見えなかったりしますが、データをビジュアル化することで、データ間の関係性なども見えてきます。特に、近年はインフォグラフィックスなどといって、可視化が注目されています。\n",
    "ここでは、主に`Matplotlib`と`Seaborn`を使って、データを可視化する基本的な方法を身につけましょう。参考URL「B-8」が参考になります。"
   ]
  },
  {
   "cell_type": "markdown",
   "metadata": {
    "colab_type": "text",
    "id": "ug0rQoD_93k5"
   },
   "source": [
    "### 2.5.1 Matplotlabを使うための準備\n",
    "\n",
    "前述の「2.1.3 この章で使うライブラリのインポート」において、MatplotlibとSeabornをすでにインポートしています。\n",
    "\n",
    "Matplotlibでは、描画に関するほとんどの機能が「`pyplot.機能名`」で提供されています。そこで「2.1.3 この章で使うライブラリのインポート」では「`import matplotlib.pyplot as plt`」とインポートし、「`mpl.pyplot.機能名`」とフルネームで書くのではなく「`plt.機能名`」と略記できるようにしています。\n",
    "\n",
    "`Seaborn`は`Matplotlib`のグラフを、さらにきれいにするライブラリです。インポートするだけでグラフがきれいになり、また、いくつかの追加のスタイルを指定できるようになります。\n",
    "\n",
    "以下の「`%matplotlib inline`」は、Jupyter Notebook上にグラフを表示するためのマジックコマンドです。Jupyter環境の初学者の方はグラフを書くときに忘れやすいので、注意しましょう。"
   ]
  },
  {
   "cell_type": "code",
   "execution_count": 102,
   "metadata": {
    "colab": {},
    "colab_type": "code",
    "id": "JQZuYzl993k5",
    "nbpresent": {
     "id": "6eff5466-e51a-40e9-b5d6-0e511d329721"
    }
   },
   "outputs": [],
   "source": [
    "# Matplotlib と Seabornの読み込み\n",
    "# Seabornはきれいに図示できる\n",
    "import matplotlib as mpl\n",
    "import seaborn as sns\n",
    "\n",
    "# pyplotにはpltの別名で実行できるようにする\n",
    "import matplotlib.pyplot as plt\n",
    "\n",
    "# Jupyter Notebook上でグラフを表示させるために必要なマジックコマンド\n",
    "%matplotlib inline"
   ]
  },
  {
   "cell_type": "markdown",
   "metadata": {
    "colab_type": "text",
    "id": "ezd-guW993k6"
   },
   "source": [
    "### 2.5.2 散布図\n",
    "\n",
    "Matplotlabでは、さまざまなグラフを描けますが、まずは、散布図から始めましょう。散布図は、2つの組み合わせデータに対して、`x−y`座標上に点をプロットしたグラフです。`plt.plot(x, y, 'o')`で描写でき、最後の引数はグラフの形状を指定するもので`'o'`は点で描くという意味です。その他の動作については、コード中のコメントを参考にしてください。\n",
    "\n",
    "散布図を描くと、2変数の関係性などが見えてきます。"
   ]
  },
  {
   "cell_type": "code",
   "execution_count": 103,
   "metadata": {
    "colab": {},
    "colab_type": "code",
    "id": "d7zaovzN93k7",
    "outputId": "b8d2e551-1026-4cdb-8ff5-dd8de226d180"
   },
   "outputs": [
    {
     "data": {
      "image/png": "[encoded data removed]",
      "text/plain": [
       "<Figure size 1440x432 with 1 Axes>"
      ]
     },
     "metadata": {
      "needs_background": "light"
     },
     "output_type": "display_data"
    }
   ],
   "source": [
    "# 散布図\n",
    "import numpy.random as random\n",
    "\n",
    "#　シード値の固定\n",
    "random.seed(0)\n",
    "\n",
    "# x軸のデータ\n",
    "x = np.random.randn(30)\n",
    "\n",
    "# y軸のデータ\n",
    "y = np.sin(x) + np.random.randn(30)\n",
    "\n",
    "# グラフの大きさ指定（20や6を変更してみてください）\n",
    "plt.figure(figsize=(20, 6))\n",
    "\n",
    "# グラフの描写\n",
    "plt.plot(x, y, 'o')\n",
    "\n",
    "#以下でも散布図が描ける\n",
    "#plt.scatter(x, y)\n",
    "\n",
    "# タイトル\n",
    "plt.title('Title Name')\n",
    "# Xの座標名\n",
    "plt.xlabel('X')\n",
    "# Yの座標名\n",
    "plt.ylabel('Y')\n",
    "\n",
    "# grid（グラフの中にある縦線と横線）の表示\n",
    "plt.grid(True)"
   ]
  },
  {
   "cell_type": "markdown",
   "metadata": {
    "colab_type": "text",
    "id": "xxARfe2J93k9"
   },
   "source": [
    "連続した値を与えれば、`plot`による描画は点ではなく曲線に見えます。たとえば次の例は、時系列など連続した（厳密には連続とみなした）曲線を描くものです。"
   ]
  },
  {
   "cell_type": "code",
   "execution_count": 104,
   "metadata": {
    "colab": {},
    "colab_type": "code",
    "id": "PUzdYaJr93k-",
    "outputId": "8aba1344-8f8a-442f-f0f1-c8cccd6c90d5"
   },
   "outputs": [
    {
     "data": {
      "image/png": "[encoded data removed]",
      "text/plain": [
       "<Figure size 1440x432 with 1 Axes>"
      ]
     },
     "metadata": {
      "needs_background": "light"
     },
     "output_type": "display_data"
    }
   ],
   "source": [
    "# 連続曲線\n",
    "\n",
    "# シード値の指定\n",
    "np.random.seed(0)\n",
    "\n",
    "# データの範囲\n",
    "numpy_data_x = np.arange(1000)\n",
    "\n",
    "# 乱数の発生と積み上げ\n",
    "numpy_random_data_y = np.random.randn(1000).cumsum()\n",
    "\n",
    "# グラフの大きさを指定\n",
    "plt.figure(figsize=(20, 6))\n",
    "\n",
    "# label=とlegendでラベルをつけることが可能\n",
    "plt.plot(numpy_data_x, numpy_random_data_y, label='Label')\n",
    "plt.legend()\n",
    "\n",
    "plt.xlabel('X')\n",
    "plt.ylabel('Y')\n",
    "plt.grid(True)"
   ]
  },
  {
   "cell_type": "markdown",
   "metadata": {
    "colab_type": "text",
    "id": "QM-k36gd93lA"
   },
   "source": [
    "### 2.5.3 グラフの分割\n",
    "\n",
    "`Subplot`を使うと、グラフを複数に分けることができます。以下は、2行1列のグラフを作成し、1番目と2番目と番号を指定して表示する例です。なお、`linspace(-10,10,100)`は$-10$から$10$までの数を$100$個に分割した数字リストを取り出すものです。"
   ]
  },
  {
   "cell_type": "code",
   "execution_count": 105,
   "metadata": {
    "colab": {},
    "colab_type": "code",
    "id": "DpYqTrxw93lA",
    "outputId": "5dd70a2a-3484-43cb-9410-75e65fd143e4",
    "scrolled": true
   },
   "outputs": [
    {
     "data": {
      "image/png": "[encoded data removed]",
      "text/plain": [
       "<Figure size 1440x432 with 2 Axes>"
      ]
     },
     "metadata": {
      "needs_background": "light"
     },
     "output_type": "display_data"
    }
   ],
   "source": [
    "# グラフの大きさを指定\n",
    "plt.figure(figsize=(20, 6))\n",
    "\n",
    "# 2行1列のグラフの1つ目\n",
    "plt.subplot(2,1,1)\n",
    "x = np.linspace(-10, 10,100)\n",
    "plt.plot(x, np.sin(x)) \n",
    "\n",
    "# 2行1列のグラフの2つ目\n",
    "plt.subplot(2,1,2)\n",
    "y = np.linspace(-10, 10,100)\n",
    "plt.plot(y, np.sin(2*y)) \n",
    "\n",
    "plt.grid(True)"
   ]
  },
  {
   "cell_type": "markdown",
   "metadata": {
    "colab_type": "text",
    "id": "OYIDFq9t93lC"
   },
   "source": [
    "### 2.5.4 関数グラフの描画\n",
    "\n",
    "次は、「2.2.3　ニュートン法」で扱った\n",
    "\n",
    "\\begin{eqnarray}\n",
    "f(x) = x^2 + 2x +1\n",
    "\\end{eqnarray}\n",
    "\n",
    "の二次関数をグラフで表示する例です。このようにグラフにすると、$y=0$ と交わる近辺が$-2.5～0$の範囲であるので、この数値計算しなくても、解がおおよそ、この範囲にあることがわかります。"
   ]
  },
  {
   "cell_type": "code",
   "execution_count": 106,
   "metadata": {
    "colab": {},
    "colab_type": "code",
    "id": "WPAYdwdi93lD",
    "outputId": "e1c51de8-040d-46aa-8d78-15f983aa0753"
   },
   "outputs": [
    {
     "data": {
      "image/png": "[encoded data removed]",
      "text/plain": [
       "<Figure size 1440x432 with 1 Axes>"
      ]
     },
     "metadata": {
      "needs_background": "light"
     },
     "output_type": "display_data"
    }
   ],
   "source": [
    "# 関数の定義（Scipyで使った二次関数の例と同じ）\n",
    "def my_function(x):\n",
    "    return x ** 2 + 2 * x + 1\n",
    "\n",
    "x = np.arange(-10, 10)\n",
    "plt.figure(figsize = (20, 6))\n",
    "plt.plot(x, my_function(x)) \n",
    "plt.grid(True)"
   ]
  },
  {
   "cell_type": "markdown",
   "metadata": {
    "colab_type": "text",
    "id": "uTBk7Iot93lE"
   },
   "source": [
    "### 2.5.5 ヒストグラム\n",
    "\n",
    "次のグラフは、ヒストグラムと言われ、それぞれの値の**度数**（値が出現する回数）を示します。データの全体像を観察するときに使われる図です。データ分析では、このグラフを見て、どんな数値が多いのか、少ないのか、偏りがあるのかないのかを読み解きます。\n",
    "\n",
    "下記のように`hist`メソッドを使うと、ヒストグラムを描けます。括弧内に指定しているパラメータは、先頭から順に、「対象となるデータ」「ビンの数（幅、個数）」「範囲」です。"
   ]
  },
  {
   "cell_type": "code",
   "execution_count": null,
   "metadata": {
    "colab": {},
    "colab_type": "code",
    "id": "MJbnpSTP93lE",
    "outputId": "634543e6-8dcb-4329-fa53-adbd7f0fe89e"
   },
   "outputs": [],
   "source": [
    "# シードの固定\n",
    "random.seed(0)\n",
    "\n",
    "# グラフの大きさ指定\n",
    "plt.figure(figsize = (20, 6))\n",
    "\n",
    "# ヒストグラムの描写\n",
    "plt.hist(np.random.randn(10 ** 5) * 10 + 50, bins = 60, range = (20, 80))\n",
    "\n",
    "plt.grid(True)"
   ]
  },
  {
   "cell_type": "markdown",
   "metadata": {
    "colab_type": "text",
    "id": "51a5Xtnc93lG"
   },
   "source": [
    "`hist`メソッドには他にも、さまざまなパラメータがあります。次のように「?」を使うと、利用できるパラメータを確認できます。"
   ]
  },
  {
   "cell_type": "code",
   "execution_count": null,
   "metadata": {
    "colab": {},
    "colab_type": "code",
    "id": "Za0OQKXR93lG"
   },
   "outputs": [],
   "source": [
    "?plt.hist"
   ]
  },
  {
   "cell_type": "markdown",
   "metadata": {
    "colab_type": "text",
    "id": "VRQK21NX93lM"
   },
   "source": [
    "また、`help`を使うと、どのような機能であるかを確認することもできます。`?`はJupyter環境（より正確にはIPython）独自の機能ですが、`help`はPythonの標準機能です。"
   ]
  },
  {
   "cell_type": "code",
   "execution_count": null,
   "metadata": {
    "colab": {},
    "colab_type": "code",
    "id": "uxUbeSDZ93lN",
    "outputId": "e4ad10ab-c286-435a-dede-953db37e7fc5"
   },
   "outputs": [],
   "source": [
    "help(plt.hist)"
   ]
  },
  {
   "cell_type": "markdown",
   "metadata": {
    "colab_type": "text",
    "id": "yZMIqz1293lO"
   },
   "source": [
    "これで、Matplotlibの基礎は終わりです。\n",
    "グラフを可視化するには、Matplotlib以外にPandasで描写する方法もあります。それについては、後のデータ可視化の講義の時に少し触れます。\n",
    "\n",
    "\n",
    "データ分析で使うPyhonのメインライブラリ（Numpy、Scipy、Pandas、Matplotlib）の基本的な紹介については、これで終わりです。お疲れ様でした。\n",
    "ここで学んだテクニックは、今後の講義で使っていきます。"
   ]
  },
  {
   "cell_type": "markdown",
   "metadata": {
    "colab_type": "text",
    "id": "xli5y33W93lP"
   },
   "source": [
    "### コラム さまざまなデータのビジュアル化\n",
    "\n",
    "データのビジュアル化は、Python以外にも、さまざまなプログラミング言語、ライブラリで実現されており、Pythonでグラフ化するときの参考にもなります。\n",
    "たとえばJavaScriptには、さまざまな図を描ける「D3.js」というライブラリがあり人気です。これはPythonとは関係なくJavaScriptで使うものですが、データを多方向から見せてビジュアル化するという意味では勉強になります。\n"
   ]
  },
  {
   "cell_type": "markdown",
   "metadata": {
    "colab_type": "text",
    "id": "nhiCXhJR93lP"
   },
   "source": [
    "![dd](http://visualisingadvocacy.org/sites/visualisingadvocacy.org/files/D3-index.jpg)"
   ]
  },
  {
   "cell_type": "markdown",
   "metadata": {
    "colab_type": "text",
    "id": "2nP-neM793lP"
   },
   "source": [
    "参照：https://d3js.org"
   ]
  },
  {
   "cell_type": "markdown",
   "metadata": {
    "colab_type": "text",
    "id": "uzXCTc2x93lQ"
   },
   "source": [
    "#### <練習問題 2-10>\n",
    "\n",
    "$y = 5x + 3$ （$x$は$-10$から$10$の値）のグラフを描いてみましょう。"
   ]
  },
  {
   "cell_type": "markdown",
   "metadata": {
    "colab_type": "text",
    "id": "15YiOrvJ93lQ"
   },
   "source": [
    "#### <練習問題 2-11>\n",
    "\n",
    "「$y = sin(x)$」と「$y = cos(x)$」のグラフを重ねて描いてください（$x$は-10から10の値）"
   ]
  },
  {
   "cell_type": "markdown",
   "metadata": {
    "colab_type": "text",
    "id": "-M7iXW1l93lR"
   },
   "source": [
    "#### <練習問題 2-12>\n",
    "\n",
    "0から1の値をとる一様乱数を1,000個、2組発生させて、それぞれのヒストグラムを描いてみましょう。\n",
    "\n",
    "なお、それぞれのヒストグラムを別のグラフに表示するために、`plt.subplot`を利用してください。また、ここで一様乱数とは、ある数から別のある数まで等確率で発生する乱数のことをいい、`np.random.uniform`を使います。たとえば、0から1までの数を10個発生させる場合は、`np.random.uniform(0.0, 1.0, 10)`とします。\n",
    "\n",
    "また、1,000個だけではなく、100個や10,000個などでも実施してみましょう。何かわかることはありますか。"
   ]
  },
  {
   "cell_type": "markdown",
   "metadata": {
    "colab_type": "text",
    "id": "BLXgnnP793lR"
   },
   "source": [
    "## 2.6 総合問題"
   ]
  },
  {
   "cell_type": "markdown",
   "metadata": {
    "colab_type": "text",
    "id": "rbje_Hai93lR"
   },
   "source": [
    "### ■総合問題2-1 モンテカルロ法\n",
    "\n",
    "乱数を発生させる方法を使って、円周率を求めるプログラムを作成してみましょう。なお、このアプローチを**モンテカルロ法**といいます。\n",
    "\n",
    "（1）区間`[0,1]`上の一様分布に従う乱数を2組発生させて、それぞれ10,000個の一様乱数を作ってみましょう。\n",
    "なお、一様乱数とは、ある数から数まで等確率で発生する乱数のことです。`np.random.uniform`を使います。たとえば、`np.random.uniform(0.0, 1.0, 10)`とすると、0～1までの範囲の一様乱数を10個発生できます。\n",
    "\n",
    "（2）$x−y$軸を使った中心$(0,0)$、半径1の円と、長さ1の正方形を考えます。このとき円の面積は$\\pi$となり、正方形の面積は1となります。ここで先ほどの$x$と$y$の組み合わせの乱数10000個のうち、円の内部に入る点は何組あるでしょうか。\n",
    "\n",
    "ここで、円の内部に入るとは、$x−y$座標の原点から点$ (x, y) $のベクトルの長さを求め、それが1より小さくなる場合を判定基準とします。その長さを求めるために、ユークリッドノルム($\\sqrt{x^2 + y^2}$)を使います。Pythonでは、 `math.hypot(x,y)`で計算できます。さらに余裕があれば、円の中に入った$x$と$y$の組み合わせと外に出た$x$と$y$の組み合わせをプロットして図にしてみましょう。\n",
    "\n",
    "\n",
    "（3）半径1の1/4の円の面積と長さ1の正方形の面積の比は、$ \\pi /4 : 1$となりますので、これと先ほどの結果を利用して、円周率を求めてみましょう。"
   ]
  },
  {
   "cell_type": "code",
   "execution_count": null,
   "metadata": {},
   "outputs": [],
   "source": []
  }
 ],
 "metadata": {
  "anaconda-cloud": {},
  "colab": {
   "collapsed_sections": [
    "6tWiS3dA93gS",
    "HgujaF-493gW",
    "1dIT3nf893gh",
    "zuhEoaZP93if",
    "umcsokO293ih",
    "jxyaoXWb93ii",
    "9Yb8q7Um93iq",
    "AOFdPvdA93i1",
    "cEkbwN5793i6",
    "jU1JS3aa93i7",
    "zlkyITX993jI",
    "WLoeu9kt93jN",
    "MNHXYsy-93jO",
    "8lE7OyAy93jP",
    "C14G6nC793j9",
    "Evw2K2uf93kC",
    "imCPAFXv93kn",
    "PT8KaI7f93kz",
    "53YCJlO_93k1",
    "yNW1DUQX93k1",
    "xli5y33W93lP",
    "uzXCTc2x93lQ",
    "15YiOrvJ93lQ",
    "-M7iXW1l93lR",
    "rbje_Hai93lR"
   ],
   "name": "chapter2.ipynb",
   "provenance": []
  },
  "kernelspec": {
   "display_name": "Python 3",
   "language": "python",
   "name": "python3"
  },
  "language_info": {
   "codemirror_mode": {
    "name": "ipython",
    "version": 3
   },
   "file_extension": ".py",
   "mimetype": "text/x-python",
   "name": "python",
   "nbconvert_exporter": "python",
   "pygments_lexer": "ipython3",
   "version": "3.6.9"
  },
  "nbpresent": {
   "slides": {
    "008a788b-b456-4a0c-8288-6f60967c483e": {
     "id": "008a788b-b456-4a0c-8288-6f60967c483e",
     "prev": "17036b1e-8781-4a7e-a909-a179f499bbc9",
     "regions": {
      "072dbee3-3b47-4389-a934-e0168ebd835e": {
       "attrs": {
        "height": 0.8,
        "width": 0.8,
        "x": 0.1,
        "y": 0.1
       },
       "content": {
        "cell": "378cb846-5485-41d5-9983-fec98a22072a",
        "part": "whole"
       },
       "id": "072dbee3-3b47-4389-a934-e0168ebd835e"
      }
     }
    },
    "01ab9067-898c-46a1-91d9-18ca4fe5a937": {
     "id": "01ab9067-898c-46a1-91d9-18ca4fe5a937",
     "prev": "008a788b-b456-4a0c-8288-6f60967c483e",
     "regions": {
      "42da7aa5-8de9-4631-8abe-4ab35c510140": {
       "attrs": {
        "height": 0.8,
        "width": 0.8,
        "x": 0.1,
        "y": 0.1
       },
       "content": {
        "cell": "7f0f7ef4-e90b-41de-8f73-6165e1b3c1cb",
        "part": "whole"
       },
       "id": "42da7aa5-8de9-4631-8abe-4ab35c510140"
      }
     }
    },
    "02225e5f-f35d-40ef-8f23-5431b19121ab": {
     "id": "02225e5f-f35d-40ef-8f23-5431b19121ab",
     "prev": "430a8f03-8947-469c-a376-2f271448284d",
     "regions": {
      "5bf42e3a-831e-4238-ae19-d2212b26edc0": {
       "attrs": {
        "height": 0.8,
        "width": 0.8,
        "x": 0.1,
        "y": 0.1
       },
       "content": {
        "cell": "c68c4e4e-072e-4620-a325-3ebb19ebe1ce",
        "part": "whole"
       },
       "id": "5bf42e3a-831e-4238-ae19-d2212b26edc0"
      }
     }
    },
    "094d2d0d-c7e5-40bc-bed7-bd80198e8e18": {
     "id": "094d2d0d-c7e5-40bc-bed7-bd80198e8e18",
     "prev": "de950ae7-a7c1-424c-afe2-42f481db181e",
     "regions": {
      "95429590-c6e8-4e00-a061-62d2a454c52f": {
       "attrs": {
        "height": 0.8,
        "width": 0.8,
        "x": 0.1,
        "y": 0.1
       },
       "content": {
        "cell": "aa08360f-e7dd-4647-bbfb-cadd5f19af31",
        "part": "whole"
       },
       "id": "95429590-c6e8-4e00-a061-62d2a454c52f"
      }
     }
    },
    "0aa8229e-9b5c-4f49-bd1e-34de4cd2e82f": {
     "id": "0aa8229e-9b5c-4f49-bd1e-34de4cd2e82f",
     "prev": "11f1d1c4-4848-4b7d-a62d-5427e055bbe3",
     "regions": {
      "9504ff07-d651-4294-ba2e-a89ec52ca708": {
       "attrs": {
        "height": 0.8,
        "width": 0.8,
        "x": 0.1,
        "y": 0.1
       },
       "content": {
        "cell": "e73995f2-c960-4881-b3d3-82c24b06c64c",
        "part": "whole"
       },
       "id": "9504ff07-d651-4294-ba2e-a89ec52ca708"
      }
     }
    },
    "0c50d9ca-fef0-4e5c-8a4e-f18d1c2dbb9e": {
     "id": "0c50d9ca-fef0-4e5c-8a4e-f18d1c2dbb9e",
     "prev": "b248eaf4-2e85-4c32-8f88-7b2ef510ee7c",
     "regions": {
      "8b734704-6740-44f7-8c87-17350c882ed3": {
       "attrs": {
        "height": 0.8,
        "width": 0.8,
        "x": 0.1,
        "y": 0.1
       },
       "content": {
        "cell": "cc42c471-e943-450e-a441-3dc962f1c40d",
        "part": "whole"
       },
       "id": "8b734704-6740-44f7-8c87-17350c882ed3"
      }
     }
    },
    "107cd2c7-0a77-4fd7-922b-56df6615dcca": {
     "id": "107cd2c7-0a77-4fd7-922b-56df6615dcca",
     "prev": "2e7deda1-5486-4b26-8e0a-c91e4c88dbe8",
     "regions": {
      "2ee1a19b-7a00-46b1-b393-485ddb7c2b9b": {
       "attrs": {
        "height": 0.8,
        "width": 0.8,
        "x": 0.1,
        "y": 0.1
       },
       "content": {
        "cell": "d27b23aa-809c-4965-8399-5e67901e2ae4",
        "part": "whole"
       },
       "id": "2ee1a19b-7a00-46b1-b393-485ddb7c2b9b"
      }
     }
    },
    "11f1d1c4-4848-4b7d-a62d-5427e055bbe3": {
     "id": "11f1d1c4-4848-4b7d-a62d-5427e055bbe3",
     "prev": "9461c0f4-d87e-441d-915d-95c69b105ecb",
     "regions": {
      "185d0c6f-1e15-43e1-81f5-1234d5ac3ade": {
       "attrs": {
        "height": 0.8,
        "width": 0.8,
        "x": 0.1,
        "y": 0.1
       },
       "content": {
        "cell": "18703937-12da-40b5-960d-e7a50467e7d0",
        "part": "whole"
       },
       "id": "185d0c6f-1e15-43e1-81f5-1234d5ac3ade"
      }
     }
    },
    "17036b1e-8781-4a7e-a909-a179f499bbc9": {
     "id": "17036b1e-8781-4a7e-a909-a179f499bbc9",
     "prev": "5494c0f6-12d4-4627-9481-26c7858f8f09",
     "regions": {
      "4757fb07-c8f0-49b5-bb28-9a5bb61995ff": {
       "attrs": {
        "height": 0.8,
        "width": 0.8,
        "x": 0.1,
        "y": 0.1
       },
       "content": {
        "cell": "6452b3ab-84b7-4f3c-b74f-ae118e4ed9f2",
        "part": "whole"
       },
       "id": "4757fb07-c8f0-49b5-bb28-9a5bb61995ff"
      }
     }
    },
    "1d02d174-1ae1-4900-bb8e-92083b3f723b": {
     "id": "1d02d174-1ae1-4900-bb8e-92083b3f723b",
     "prev": "466c6928-dc5e-4aeb-abad-2dbb2c797793",
     "regions": {
      "2e5e7aee-fec1-4322-82df-30c9bda076ce": {
       "attrs": {
        "height": 0.8,
        "width": 0.8,
        "x": 0.1,
        "y": 0.1
       },
       "content": {
        "cell": "e89daf11-82d5-4ae2-905b-b73662884e4e",
        "part": "whole"
       },
       "id": "2e5e7aee-fec1-4322-82df-30c9bda076ce"
      }
     }
    },
    "26984d6c-6cdd-4fb6-a80c-b16f643b3802": {
     "id": "26984d6c-6cdd-4fb6-a80c-b16f643b3802",
     "prev": "dfaeb098-c3a9-4980-ae35-70f9b6296a7d",
     "regions": {
      "e3a7924f-b4ad-4919-b97c-a9f0da0027ec": {
       "attrs": {
        "height": 0.8,
        "width": 0.8,
        "x": 0.1,
        "y": 0.1
       },
       "content": {
        "cell": "5683d4a6-3bdb-44ea-8a8e-6203da028f73",
        "part": "whole"
       },
       "id": "e3a7924f-b4ad-4919-b97c-a9f0da0027ec"
      }
     }
    },
    "2e7deda1-5486-4b26-8e0a-c91e4c88dbe8": {
     "id": "2e7deda1-5486-4b26-8e0a-c91e4c88dbe8",
     "prev": "67a167dd-f578-4c00-9a52-77864d640afa",
     "regions": {
      "eb91815b-1df2-4bfb-b2d9-b47359f388f3": {
       "attrs": {
        "height": 0.8,
        "width": 0.8,
        "x": 0.1,
        "y": 0.1
       },
       "content": {
        "cell": "2b936ae8-a540-4353-8b1d-42f7a3bdc763",
        "part": "whole"
       },
       "id": "eb91815b-1df2-4bfb-b2d9-b47359f388f3"
      }
     }
    },
    "35c31f44-06e2-4d75-a9b7-0c168d125d04": {
     "id": "35c31f44-06e2-4d75-a9b7-0c168d125d04",
     "prev": "8b46588c-ad23-4509-b67d-62702ed7afd1",
     "regions": {
      "82c3daba-b8de-42a1-b157-7274603802ae": {
       "attrs": {
        "height": 0.8,
        "width": 0.8,
        "x": 0.1,
        "y": 0.1
       },
       "content": {
        "cell": "35e93b3d-957c-4833-a2a5-b980ecffa5b1",
        "part": "whole"
       },
       "id": "82c3daba-b8de-42a1-b157-7274603802ae"
      }
     }
    },
    "3671ddb9-95b3-4245-b062-03cc90ea386d": {
     "id": "3671ddb9-95b3-4245-b062-03cc90ea386d",
     "prev": "3c3ef584-2982-4a35-afcf-4772c65dc2ac",
     "regions": {
      "faddc9ae-ef33-4d8e-a04e-e9f73ea0310e": {
       "attrs": {
        "height": 0.8,
        "width": 0.8,
        "x": 0.1,
        "y": 0.1
       },
       "content": {
        "cell": "bea98316-c64e-4810-b176-ed4947524f8c",
        "part": "whole"
       },
       "id": "faddc9ae-ef33-4d8e-a04e-e9f73ea0310e"
      }
     }
    },
    "37edb96d-7d51-438f-bd46-fc06e161e205": {
     "id": "37edb96d-7d51-438f-bd46-fc06e161e205",
     "prev": "58980228-1ba8-4ba6-89d3-dd7694662786",
     "regions": {
      "d1ee61d0-5e72-4925-b975-1cc103761137": {
       "attrs": {
        "height": 0.8,
        "width": 0.8,
        "x": 0.1,
        "y": 0.1
       },
       "content": {
        "cell": "b0fc1861-b979-45c5-abd0-3b05200de3b6",
        "part": "whole"
       },
       "id": "d1ee61d0-5e72-4925-b975-1cc103761137"
      }
     }
    },
    "3a9ce2a4-6dd4-463e-8d2d-4aa731447f39": {
     "id": "3a9ce2a4-6dd4-463e-8d2d-4aa731447f39",
     "prev": "0aa8229e-9b5c-4f49-bd1e-34de4cd2e82f",
     "regions": {
      "80f94dd5-569c-4105-9db9-746bc3a0d979": {
       "attrs": {
        "height": 0.8,
        "width": 0.8,
        "x": 0.1,
        "y": 0.1
       },
       "content": {
        "cell": "d3d6e29a-a939-4ab4-95e0-5645d4eb97a4",
        "part": "whole"
       },
       "id": "80f94dd5-569c-4105-9db9-746bc3a0d979"
      }
     }
    },
    "3c3ef584-2982-4a35-afcf-4772c65dc2ac": {
     "id": "3c3ef584-2982-4a35-afcf-4772c65dc2ac",
     "prev": "523566b9-8158-4001-91b2-f7d1d61ec04b",
     "regions": {
      "8182730f-8099-4a3f-815d-c92171a084a7": {
       "attrs": {
        "height": 0.8,
        "width": 0.8,
        "x": 0.1,
        "y": 0.1
       },
       "content": {
        "cell": "2ff35469-eeef-46b0-8b36-f2b6d4580bd4",
        "part": "whole"
       },
       "id": "8182730f-8099-4a3f-815d-c92171a084a7"
      }
     }
    },
    "3e8e0818-4535-4e50-b8da-423cfa6bda87": {
     "id": "3e8e0818-4535-4e50-b8da-423cfa6bda87",
     "prev": "bff971e4-b2b6-497d-8f6b-6401514ee2ca",
     "regions": {
      "859f95ab-5314-4f50-9fc8-7f8a76741c82": {
       "attrs": {
        "height": 0.8,
        "width": 0.8,
        "x": 0.1,
        "y": 0.1
       },
       "content": {
        "cell": "0893c4bd-30b9-4137-bc19-c40d5def546a",
        "part": "whole"
       },
       "id": "859f95ab-5314-4f50-9fc8-7f8a76741c82"
      }
     }
    },
    "430a8f03-8947-469c-a376-2f271448284d": {
     "id": "430a8f03-8947-469c-a376-2f271448284d",
     "prev": "ae384cc7-844b-4a3a-816d-4275e60a5020",
     "regions": {
      "cc346300-13a7-4c57-9eea-13d379d8f845": {
       "attrs": {
        "height": 0.8,
        "width": 0.8,
        "x": 0.1,
        "y": 0.1
       },
       "content": {
        "cell": "3b3885c1-a497-4d41-bb48-76a6d8b43a62",
        "part": "whole"
       },
       "id": "cc346300-13a7-4c57-9eea-13d379d8f845"
      }
     }
    },
    "43517c80-f987-4261-bad2-6844f9f11a43": {
     "id": "43517c80-f987-4261-bad2-6844f9f11a43",
     "prev": "02225e5f-f35d-40ef-8f23-5431b19121ab",
     "regions": {
      "386e1c27-adc8-4888-b278-a730e1a06a1b": {
       "attrs": {
        "height": 0.8,
        "width": 0.8,
        "x": 0.1,
        "y": 0.1
       },
       "content": {
        "cell": "c34d5c93-c65c-4e47-8c92-b38faead2dc2",
        "part": "whole"
       },
       "id": "386e1c27-adc8-4888-b278-a730e1a06a1b"
      }
     }
    },
    "466c6928-dc5e-4aeb-abad-2dbb2c797793": {
     "id": "466c6928-dc5e-4aeb-abad-2dbb2c797793",
     "prev": "01ab9067-898c-46a1-91d9-18ca4fe5a937",
     "regions": {
      "dadc7530-a88a-474c-93b1-a6b13fdeb671": {
       "attrs": {
        "height": 0.8,
        "width": 0.8,
        "x": 0.1,
        "y": 0.1
       },
       "content": {
        "cell": "07dd10e2-514b-4435-afa4-cab572e54611",
        "part": "whole"
       },
       "id": "dadc7530-a88a-474c-93b1-a6b13fdeb671"
      }
     }
    },
    "523566b9-8158-4001-91b2-f7d1d61ec04b": {
     "id": "523566b9-8158-4001-91b2-f7d1d61ec04b",
     "prev": "db6c2c84-14f3-4a3f-972c-ea1e9b45b091",
     "regions": {
      "fa40db73-7f38-419f-b6d1-2d0c9854ad3d": {
       "attrs": {
        "height": 0.8,
        "width": 0.8,
        "x": 0.1,
        "y": 0.1
       },
       "content": {
        "cell": "9c7b5502-7d21-45ef-9801-c8ab89c0cb1b",
        "part": "whole"
       },
       "id": "fa40db73-7f38-419f-b6d1-2d0c9854ad3d"
      }
     }
    },
    "5342b691-167b-4e0f-a28f-aee2f74648b3": {
     "id": "5342b691-167b-4e0f-a28f-aee2f74648b3",
     "prev": "9750cf96-7612-4159-bac1-bf26fe2f60c8",
     "regions": {
      "8bf6c96e-7113-4293-9db9-3999fd5dc82b": {
       "attrs": {
        "height": 0.8,
        "width": 0.8,
        "x": 0.1,
        "y": 0.1
       },
       "content": {
        "cell": "21eb3ee8-f72c-4842-a2b2-98bc6b4b06b2",
        "part": "whole"
       },
       "id": "8bf6c96e-7113-4293-9db9-3999fd5dc82b"
      }
     }
    },
    "5494c0f6-12d4-4627-9481-26c7858f8f09": {
     "id": "5494c0f6-12d4-4627-9481-26c7858f8f09",
     "prev": "3671ddb9-95b3-4245-b062-03cc90ea386d",
     "regions": {
      "8f4923d7-89d2-4193-a542-786412d24121": {
       "attrs": {
        "height": 0.8,
        "width": 0.8,
        "x": 0.1,
        "y": 0.1
       },
       "content": {
        "cell": "47413f67-a333-4cd6-8a6e-6b268aa4f4ff",
        "part": "whole"
       },
       "id": "8f4923d7-89d2-4193-a542-786412d24121"
      }
     }
    },
    "57d8f821-fdaf-412d-bc5c-fbaf939e7850": {
     "id": "57d8f821-fdaf-412d-bc5c-fbaf939e7850",
     "prev": "5342b691-167b-4e0f-a28f-aee2f74648b3",
     "regions": {
      "595c1191-37e3-41c2-8807-172c5221490d": {
       "attrs": {
        "height": 0.8,
        "width": 0.8,
        "x": 0.1,
        "y": 0.1
       },
       "content": {
        "cell": "885a45ac-f069-4988-b245-fcd79646e17f",
        "part": "whole"
       },
       "id": "595c1191-37e3-41c2-8807-172c5221490d"
      }
     }
    },
    "58980228-1ba8-4ba6-89d3-dd7694662786": {
     "id": "58980228-1ba8-4ba6-89d3-dd7694662786",
     "prev": "ee0491f8-b146-4b0e-99d3-ceb5eb2f3a1d",
     "regions": {
      "c5224b5d-aad4-4862-a3d1-7e6996d3d33d": {
       "attrs": {
        "height": 0.8,
        "width": 0.8,
        "x": 0.1,
        "y": 0.1
       },
       "content": {
        "cell": "8972370e-3b2e-4fe5-b7d5-e6f410f4df68",
        "part": "whole"
       },
       "id": "c5224b5d-aad4-4862-a3d1-7e6996d3d33d"
      }
     }
    },
    "58fe1e15-bd81-4c14-8c10-08606b7f56ae": {
     "id": "58fe1e15-bd81-4c14-8c10-08606b7f56ae",
     "prev": "8511eb84-692c-4a63-b3c3-7e1f86c137bd",
     "regions": {
      "c29ef705-df31-4240-987b-1697100d6ae4": {
       "attrs": {
        "height": 0.8,
        "width": 0.8,
        "x": 0.1,
        "y": 0.1
       },
       "content": {
        "cell": "b5e81c61-d695-4fc4-b784-45ed41026d4a",
        "part": "whole"
       },
       "id": "c29ef705-df31-4240-987b-1697100d6ae4"
      }
     }
    },
    "6156681f-3fe2-4d80-aab1-f7c28e200404": {
     "id": "6156681f-3fe2-4d80-aab1-f7c28e200404",
     "prev": "c17f7347-3cbe-420c-a499-3131e4eaac59",
     "regions": {
      "28d9588e-1085-432e-9b58-6e28c4d7c74f": {
       "attrs": {
        "height": 0.8,
        "width": 0.8,
        "x": 0.1,
        "y": 0.1
       },
       "content": {
        "cell": "3dbf6370-0a3a-44be-ade7-2a32586e4508",
        "part": "whole"
       },
       "id": "28d9588e-1085-432e-9b58-6e28c4d7c74f"
      }
     }
    },
    "67a167dd-f578-4c00-9a52-77864d640afa": {
     "id": "67a167dd-f578-4c00-9a52-77864d640afa",
     "prev": "b7ce05ff-6ab9-49ba-9235-05d97e6d8b19",
     "regions": {
      "b3a441dc-47d2-402e-b9fe-68a0472d5670": {
       "attrs": {
        "height": 0.8,
        "width": 0.8,
        "x": 0.1,
        "y": 0.1
       },
       "content": {
        "cell": "a67a0f57-b7bb-4ad2-89a8-f53f514d52d5",
        "part": "whole"
       },
       "id": "b3a441dc-47d2-402e-b9fe-68a0472d5670"
      }
     }
    },
    "76cecc6a-4ff3-4f36-9fcd-dc72da22db7a": {
     "id": "76cecc6a-4ff3-4f36-9fcd-dc72da22db7a",
     "prev": "107cd2c7-0a77-4fd7-922b-56df6615dcca",
     "regions": {
      "3d9e9ca1-88f1-4d57-b1ce-1cd3377e1f1e": {
       "attrs": {
        "height": 0.8,
        "width": 0.8,
        "x": 0.1,
        "y": 0.1
       },
       "content": {
        "cell": "c3f25ce7-4ac2-4e7e-ae0d-0d354b7aa34a",
        "part": "whole"
       },
       "id": "3d9e9ca1-88f1-4d57-b1ce-1cd3377e1f1e"
      }
     }
    },
    "7a3d7039-5de1-4759-9129-49437077ec67": {
     "id": "7a3d7039-5de1-4759-9129-49437077ec67",
     "prev": "76cecc6a-4ff3-4f36-9fcd-dc72da22db7a",
     "regions": {
      "f8ee8b52-b882-4e27-b1e2-4db18e65b256": {
       "attrs": {
        "height": 0.8,
        "width": 0.8,
        "x": 0.1,
        "y": 0.1
       },
       "content": {
        "cell": "4a0d9ca6-f3a4-453d-b52e-ad5d17ca5883",
        "part": "whole"
       },
       "id": "f8ee8b52-b882-4e27-b1e2-4db18e65b256"
      }
     }
    },
    "7c9758fa-71de-4938-8eed-be5dabd2d61c": {
     "id": "7c9758fa-71de-4938-8eed-be5dabd2d61c",
     "prev": "3e8e0818-4535-4e50-b8da-423cfa6bda87",
     "regions": {
      "94b0287c-da12-4bf9-ab24-b6041cab0a0f": {
       "attrs": {
        "height": 0.8,
        "width": 0.8,
        "x": 0.1,
        "y": 0.1
       },
       "content": {
        "cell": "5e5e8200-af66-4ffa-85d8-0ca019d398d8",
        "part": "whole"
       },
       "id": "94b0287c-da12-4bf9-ab24-b6041cab0a0f"
      }
     }
    },
    "8511eb84-692c-4a63-b3c3-7e1f86c137bd": {
     "id": "8511eb84-692c-4a63-b3c3-7e1f86c137bd",
     "prev": "3a9ce2a4-6dd4-463e-8d2d-4aa731447f39",
     "regions": {
      "d512994f-a930-4cb5-9feb-0c9e9b3eca21": {
       "attrs": {
        "height": 0.8,
        "width": 0.8,
        "x": 0.1,
        "y": 0.1
       },
       "content": {
        "cell": "93a5d1f3-e3b5-4840-95c2-503725844dc3",
        "part": "whole"
       },
       "id": "d512994f-a930-4cb5-9feb-0c9e9b3eca21"
      }
     }
    },
    "863c2f5d-5ed6-4abd-9212-ac3aa08b7c2d": {
     "id": "863c2f5d-5ed6-4abd-9212-ac3aa08b7c2d",
     "prev": "fa1e9266-57b6-41c8-9ad2-05119a8154fa",
     "regions": {
      "2efc3ace-624d-49f2-8602-18d3ce4fd9d1": {
       "attrs": {
        "height": 0.8,
        "width": 0.8,
        "x": 0.1,
        "y": 0.1
       },
       "content": {
        "cell": "1c22acff-5c31-4b42-a557-2be121021d1e",
        "part": "whole"
       },
       "id": "2efc3ace-624d-49f2-8602-18d3ce4fd9d1"
      }
     }
    },
    "8a00b47c-c1da-479f-b5e8-16224b1bc1ad": {
     "id": "8a00b47c-c1da-479f-b5e8-16224b1bc1ad",
     "prev": "c372f9ff-ce00-4768-8a0a-cb894e0fa65d",
     "regions": {
      "88f7e3bd-c1f1-4783-aa29-4b3871ed83c9": {
       "attrs": {
        "height": 0.8,
        "width": 0.8,
        "x": 0.1,
        "y": 0.1
       },
       "content": {
        "cell": "4bcabd6c-13d5-4a8e-a4cf-46d12550458b",
        "part": "whole"
       },
       "id": "88f7e3bd-c1f1-4783-aa29-4b3871ed83c9"
      }
     }
    },
    "8b46588c-ad23-4509-b67d-62702ed7afd1": {
     "id": "8b46588c-ad23-4509-b67d-62702ed7afd1",
     "prev": "37edb96d-7d51-438f-bd46-fc06e161e205",
     "regions": {
      "6e4458c9-28eb-4025-8ac9-d7fc0ffb8fee": {
       "attrs": {
        "height": 0.8,
        "width": 0.8,
        "x": 0.1,
        "y": 0.1
       },
       "content": {
        "cell": "575abe68-ac1a-489a-8b14-aef861c188e3",
        "part": "whole"
       },
       "id": "6e4458c9-28eb-4025-8ac9-d7fc0ffb8fee"
      }
     }
    },
    "92033db1-1754-4f97-a65f-d7fcd5e5ef5f": {
     "id": "92033db1-1754-4f97-a65f-d7fcd5e5ef5f",
     "prev": "7c9758fa-71de-4938-8eed-be5dabd2d61c",
     "regions": {
      "73b1869c-52b3-4f19-8918-f9d27d1ce96a": {
       "attrs": {
        "height": 0.8,
        "width": 0.8,
        "x": 0.1,
        "y": 0.1
       },
       "content": {
        "cell": "31f1dd1c-7279-4590-a581-4789248b9d95",
        "part": "whole"
       },
       "id": "73b1869c-52b3-4f19-8918-f9d27d1ce96a"
      }
     }
    },
    "9461c0f4-d87e-441d-915d-95c69b105ecb": {
     "id": "9461c0f4-d87e-441d-915d-95c69b105ecb",
     "prev": "92033db1-1754-4f97-a65f-d7fcd5e5ef5f",
     "regions": {
      "4dd7f598-05d6-4e49-883d-978967a66cc5": {
       "attrs": {
        "height": 0.8,
        "width": 0.8,
        "x": 0.1,
        "y": 0.1
       },
       "content": {
        "cell": "674e452c-7ba7-4c07-be5e-1e73553f8849",
        "part": "whole"
       },
       "id": "4dd7f598-05d6-4e49-883d-978967a66cc5"
      }
     }
    },
    "94c7954c-21de-44d2-81f0-746748834167": {
     "id": "94c7954c-21de-44d2-81f0-746748834167",
     "prev": "d806c3fb-ea3d-4b90-be5b-e78113b3e887",
     "regions": {
      "a853df0e-2a78-45f8-8841-72a437ba5d68": {
       "attrs": {
        "height": 0.8,
        "width": 0.8,
        "x": 0.1,
        "y": 0.1
       },
       "content": {
        "cell": "f581b3c5-979f-4ad2-95b7-e89dc86afee3",
        "part": "whole"
       },
       "id": "a853df0e-2a78-45f8-8841-72a437ba5d68"
      }
     }
    },
    "94c969b1-892d-4f1a-a832-8154573c893c": {
     "id": "94c969b1-892d-4f1a-a832-8154573c893c",
     "prev": "94c7954c-21de-44d2-81f0-746748834167",
     "regions": {
      "c1ade563-9e9b-490c-970b-37faba235b7e": {
       "attrs": {
        "height": 0.8,
        "width": 0.8,
        "x": 0.1,
        "y": 0.1
       },
       "content": {
        "cell": "e965b847-7d60-48e2-b72f-972816a1e6fc",
        "part": "whole"
       },
       "id": "c1ade563-9e9b-490c-970b-37faba235b7e"
      }
     }
    },
    "9750cf96-7612-4159-bac1-bf26fe2f60c8": {
     "id": "9750cf96-7612-4159-bac1-bf26fe2f60c8",
     "prev": "94c969b1-892d-4f1a-a832-8154573c893c",
     "regions": {
      "116d14ce-3f3d-44a1-aa86-61b1ac19354f": {
       "attrs": {
        "height": 0.8,
        "width": 0.8,
        "x": 0.1,
        "y": 0.1
       },
       "content": {
        "cell": "ddd82eaf-9b54-48bf-ac57-aa797a3a970a",
        "part": "whole"
       },
       "id": "116d14ce-3f3d-44a1-aa86-61b1ac19354f"
      }
     }
    },
    "a40bc8a7-660a-4478-8071-b97c5127c4b5": {
     "id": "a40bc8a7-660a-4478-8071-b97c5127c4b5",
     "prev": "863c2f5d-5ed6-4abd-9212-ac3aa08b7c2d",
     "regions": {
      "929e10a6-a0b0-4d31-99b1-311fcfc150a1": {
       "attrs": {
        "height": 0.8,
        "width": 0.8,
        "x": 0.1,
        "y": 0.1
       },
       "content": {
        "cell": "d7d32de7-bcdd-486d-b6c9-d5caad1164e3",
        "part": "whole"
       },
       "id": "929e10a6-a0b0-4d31-99b1-311fcfc150a1"
      }
     }
    },
    "ae384cc7-844b-4a3a-816d-4275e60a5020": {
     "id": "ae384cc7-844b-4a3a-816d-4275e60a5020",
     "prev": "26984d6c-6cdd-4fb6-a80c-b16f643b3802",
     "regions": {
      "b7a26fcd-98a6-4c24-893f-14ab3d6257bb": {
       "attrs": {
        "height": 0.8,
        "width": 0.8,
        "x": 0.1,
        "y": 0.1
       },
       "content": {
        "cell": "ddc73611-ffe2-434e-b3bd-cd417ef42b68",
        "part": "whole"
       },
       "id": "b7a26fcd-98a6-4c24-893f-14ab3d6257bb"
      }
     }
    },
    "b248eaf4-2e85-4c32-8f88-7b2ef510ee7c": {
     "id": "b248eaf4-2e85-4c32-8f88-7b2ef510ee7c",
     "prev": null,
     "regions": {
      "729796eb-5023-4fc8-b32f-83045cda3258": {
       "attrs": {
        "height": 0.8,
        "width": 0.8,
        "x": 0.1,
        "y": 0.1
       },
       "content": {
        "cell": "dad3a857-8628-4c15-a8ad-312792cb88ac",
        "part": "whole"
       },
       "id": "729796eb-5023-4fc8-b32f-83045cda3258"
      }
     }
    },
    "b7ce05ff-6ab9-49ba-9235-05d97e6d8b19": {
     "id": "b7ce05ff-6ab9-49ba-9235-05d97e6d8b19",
     "prev": "fd5b9f11-7cb4-4280-8955-7da1f2a0eafd",
     "regions": {
      "44f843a2-f9a7-4c01-be36-f2b39de5a725": {
       "attrs": {
        "height": 0.8,
        "width": 0.8,
        "x": 0.1,
        "y": 0.1
       },
       "content": {
        "cell": "852d31b9-64ee-4906-8865-dc217141338a",
        "part": "whole"
       },
       "id": "44f843a2-f9a7-4c01-be36-f2b39de5a725"
      }
     }
    },
    "bff971e4-b2b6-497d-8f6b-6401514ee2ca": {
     "id": "bff971e4-b2b6-497d-8f6b-6401514ee2ca",
     "prev": "7a3d7039-5de1-4759-9129-49437077ec67",
     "regions": {
      "07dd02d3-5ac3-4d96-9291-c3870d15f11e": {
       "attrs": {
        "height": 0.8,
        "width": 0.8,
        "x": 0.1,
        "y": 0.1
       },
       "content": {
        "cell": "31a44e48-3de3-4fa2-9c03-2063209cce11",
        "part": "whole"
       },
       "id": "07dd02d3-5ac3-4d96-9291-c3870d15f11e"
      }
     }
    },
    "c17f7347-3cbe-420c-a499-3131e4eaac59": {
     "id": "c17f7347-3cbe-420c-a499-3131e4eaac59",
     "prev": "57d8f821-fdaf-412d-bc5c-fbaf939e7850",
     "regions": {
      "7d4b25fd-aa9a-4d62-8181-05324639ff0d": {
       "attrs": {
        "height": 0.8,
        "width": 0.8,
        "x": 0.1,
        "y": 0.1
       },
       "content": {
        "cell": "35043c9c-279e-47cd-b82f-9dae8c5f9fec",
        "part": "whole"
       },
       "id": "7d4b25fd-aa9a-4d62-8181-05324639ff0d"
      }
     }
    },
    "c372f9ff-ce00-4768-8a0a-cb894e0fa65d": {
     "id": "c372f9ff-ce00-4768-8a0a-cb894e0fa65d",
     "prev": "35c31f44-06e2-4d75-a9b7-0c168d125d04",
     "regions": {
      "c3931b7b-0a33-46e0-a5b6-6b33b0075fd5": {
       "attrs": {
        "height": 0.8,
        "width": 0.8,
        "x": 0.1,
        "y": 0.1
       },
       "content": {
        "cell": "6dccff7c-9bb1-447a-9692-656ca1687626",
        "part": "whole"
       },
       "id": "c3931b7b-0a33-46e0-a5b6-6b33b0075fd5"
      }
     }
    },
    "d806c3fb-ea3d-4b90-be5b-e78113b3e887": {
     "id": "d806c3fb-ea3d-4b90-be5b-e78113b3e887",
     "prev": "094d2d0d-c7e5-40bc-bed7-bd80198e8e18",
     "regions": {
      "8ec4249f-2827-4eb0-bb27-152d4dea703f": {
       "attrs": {
        "height": 0.8,
        "width": 0.8,
        "x": 0.1,
        "y": 0.1
       },
       "content": {
        "cell": "25b7da30-19eb-4326-ba15-d969f9c1ad12",
        "part": "whole"
       },
       "id": "8ec4249f-2827-4eb0-bb27-152d4dea703f"
      }
     }
    },
    "db6c2c84-14f3-4a3f-972c-ea1e9b45b091": {
     "id": "db6c2c84-14f3-4a3f-972c-ea1e9b45b091",
     "prev": "ff25a0ae-0958-4983-b72b-6d655554983e",
     "regions": {
      "33e20b90-5ef8-482a-af30-6ebe50fa5247": {
       "attrs": {
        "height": 0.8,
        "width": 0.8,
        "x": 0.1,
        "y": 0.1
       },
       "content": {
        "cell": "b2282939-76b5-4358-8caf-bda59cd4dfc8",
        "part": "whole"
       },
       "id": "33e20b90-5ef8-482a-af30-6ebe50fa5247"
      }
     }
    },
    "de950ae7-a7c1-424c-afe2-42f481db181e": {
     "id": "de950ae7-a7c1-424c-afe2-42f481db181e",
     "prev": "58fe1e15-bd81-4c14-8c10-08606b7f56ae",
     "regions": {
      "157e2366-91bc-4374-b005-296b72401f19": {
       "attrs": {
        "height": 0.8,
        "width": 0.8,
        "x": 0.1,
        "y": 0.1
       },
       "content": {
        "cell": "6eff5466-e51a-40e9-b5d6-0e511d329721",
        "part": "whole"
       },
       "id": "157e2366-91bc-4374-b005-296b72401f19"
      }
     }
    },
    "dfaeb098-c3a9-4980-ae35-70f9b6296a7d": {
     "id": "dfaeb098-c3a9-4980-ae35-70f9b6296a7d",
     "prev": "a40bc8a7-660a-4478-8071-b97c5127c4b5",
     "regions": {
      "ff8a9509-83fc-43b8-b85d-05642f796426": {
       "attrs": {
        "height": 0.8,
        "width": 0.8,
        "x": 0.1,
        "y": 0.1
       },
       "content": {
        "cell": "139cbba6-15fb-4eb9-b2d8-a25bdbf3a874",
        "part": "whole"
       },
       "id": "ff8a9509-83fc-43b8-b85d-05642f796426"
      }
     }
    },
    "ee0491f8-b146-4b0e-99d3-ceb5eb2f3a1d": {
     "id": "ee0491f8-b146-4b0e-99d3-ceb5eb2f3a1d",
     "prev": "0c50d9ca-fef0-4e5c-8a4e-f18d1c2dbb9e",
     "regions": {
      "7e1317fc-37fb-47f2-9822-1b464ab3a0f1": {
       "attrs": {
        "height": 0.8,
        "width": 0.8,
        "x": 0.1,
        "y": 0.1
       },
       "content": {
        "cell": "93b648ee-643e-46b2-a289-f6b562875bc4",
        "part": "whole"
       },
       "id": "7e1317fc-37fb-47f2-9822-1b464ab3a0f1"
      }
     }
    },
    "fa1e9266-57b6-41c8-9ad2-05119a8154fa": {
     "id": "fa1e9266-57b6-41c8-9ad2-05119a8154fa",
     "prev": "1d02d174-1ae1-4900-bb8e-92083b3f723b",
     "regions": {
      "642cb521-a4bf-4bdf-94e4-c4e1db951bed": {
       "attrs": {
        "height": 0.8,
        "width": 0.8,
        "x": 0.1,
        "y": 0.1
       },
       "content": {
        "cell": "7bcdf43b-5617-4e59-b3d7-0c3706c527f1",
        "part": "whole"
       },
       "id": "642cb521-a4bf-4bdf-94e4-c4e1db951bed"
      }
     }
    },
    "fd5b9f11-7cb4-4280-8955-7da1f2a0eafd": {
     "id": "fd5b9f11-7cb4-4280-8955-7da1f2a0eafd",
     "prev": "8a00b47c-c1da-479f-b5e8-16224b1bc1ad",
     "regions": {
      "bafa4b52-8d5e-4af8-9b56-5cfb28caec46": {
       "attrs": {
        "height": 0.8,
        "width": 0.8,
        "x": 0.1,
        "y": 0.1
       },
       "content": {
        "cell": "d110e3f4-e865-4198-8668-17bd4f1e9540",
        "part": "whole"
       },
       "id": "bafa4b52-8d5e-4af8-9b56-5cfb28caec46"
      }
     }
    },
    "ff25a0ae-0958-4983-b72b-6d655554983e": {
     "id": "ff25a0ae-0958-4983-b72b-6d655554983e",
     "prev": "6156681f-3fe2-4d80-aab1-f7c28e200404",
     "regions": {
      "4536da0e-7194-48f1-a4eb-13fb6d74ecf5": {
       "attrs": {
        "height": 0.8,
        "width": 0.8,
        "x": 0.1,
        "y": 0.1
       },
       "content": {
        "cell": "72beaf23-bcc8-4311-b327-b67a3b07436a",
        "part": "whole"
       },
       "id": "4536da0e-7194-48f1-a4eb-13fb6d74ecf5"
      }
     }
    }
   },
   "themes": {}
  }
 },
 "nbformat": 4,
 "nbformat_minor": 4
}
