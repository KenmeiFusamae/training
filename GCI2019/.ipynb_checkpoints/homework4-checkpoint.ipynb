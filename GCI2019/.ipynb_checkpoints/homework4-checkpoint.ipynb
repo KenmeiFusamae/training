{
 "cells": [
  {
   "cell_type": "markdown",
   "metadata": {},
   "source": [
    "# 課題（iLect上で提出してください）"
   ]
  },
  {
   "cell_type": "markdown",
   "metadata": {},
   "source": [
    "## 記述統計学と単回帰分析"
   ]
  },
  {
   "cell_type": "markdown",
   "metadata": {},
   "source": [
    "\n",
    "以下のサイトにあるデータ（ワインの品質）が分析対象です。\n",
    "\n",
    "http://archive.ics.uci.edu/ml/machine-learning-databases/wine-quality/winequality-red.csv\n",
    "\n",
    "上記データを読み込み、ワインの品質(quality)を目的変数、酢酸酸度(volatile acidity)を説明変数として単回帰分析を実施し、**決定係数**を求めてください。ただし、変数の変換やデータ加工等はせず、そのままのデータを使ってください。\n",
    "\n",
    "提出するときは、以下の点に注意してください。  \n",
    "\n",
    ">- 以下の関数homeworkの!!WRITE ME!!に処理を書いてください。(**「!!WRITE ME!!」は消して、記入してください。**) \n",
    ">- 実際の提出は記述されたhomework関数全てになり、**提出場所はilect右上にある青字のHomeworkドロップダウンメニューからSaveしてください。Solutionに関数を貼り付けてからSaveを押してください。**\n",
    ">- 返り値が数値型(1つ)になるようにしてください。  "
   ]
  },
  {
   "cell_type": "code",
   "execution_count": 45,
   "metadata": {},
   "outputs": [],
   "source": [
    "# common\n",
    "import pandas as pd\n",
    "from sklearn import linear_model\n",
    "\n",
    "import requests, zipfile\n",
    "from io import StringIO\n",
    "import io\n",
    "import matplotlib.pyplot as plt\n",
    "from sklearn import linear_model\n",
    "\n",
    "\n",
    "\n",
    "# URL\n",
    "path_winequality_data = \"http://archive.ics.uci.edu/ml/machine-learning-databases/wine-quality/winequality-red.csv\"\n",
    "\n",
    "# working place. everything \n",
    "def homework(path_winequality_data):\n",
    "    r = requests.get(path_winequality_data, stream=True)\n",
    "    df = pd.read_csv(io.BytesIO(r.content),sep=\";\")\n",
    "\n",
    "    X = df.loc[:,['volatile acidity']].values\n",
    "\n",
    "    Y = df['quality'].values\n",
    "\n",
    "    reg = linear_model.LinearRegression()\n",
    "    reg.fit(X, Y)\n",
    "\n",
    "    my_result = reg.score(X, Y)\n",
    "    return my_result"
   ]
  },
  {
   "cell_type": "code",
   "execution_count": 47,
   "metadata": {},
   "outputs": [
    {
     "name": "stdout",
     "output_type": "stream",
     "text": [
      "0.15253537972474862\n"
     ]
    }
   ],
   "source": [
    "\n"
   ]
  },
  {
   "cell_type": "code",
   "execution_count": null,
   "metadata": {},
   "outputs": [],
   "source": []
  }
 ],
 "metadata": {
  "anaconda-cloud": {},
  "kernelspec": {
   "display_name": "Python 3",
   "language": "python",
   "name": "python3"
  },
  "language_info": {
   "codemirror_mode": {
    "name": "ipython",
    "version": 3
   },
   "file_extension": ".py",
   "mimetype": "text/x-python",
   "name": "python",
   "nbconvert_exporter": "python",
   "pygments_lexer": "ipython3",
   "version": "3.7.5"
  }
 },
 "nbformat": 4,
 "nbformat_minor": 4
}
